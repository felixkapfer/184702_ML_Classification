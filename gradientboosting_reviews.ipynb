{
 "cells": [
  {
   "cell_type": "markdown",
   "metadata": {},
   "source": [
    "# Gradient Boost for Reviews Dataset"
   ]
  },
  {
   "cell_type": "markdown",
   "metadata": {},
   "source": [
    "Step1:Import Libraries"
   ]
  },
  {
   "cell_type": "code",
   "execution_count": 6,
   "metadata": {},
   "outputs": [],
   "source": [
    "import pandas as pd\n",
    "from sklearn.model_selection import train_test_split\n",
    "from sklearn.ensemble import GradientBoostingClassifier\n",
    "from sklearn.preprocessing import LabelEncoder\n",
    "from sklearn.metrics import accuracy_score, precision_score, f1_score, classification_report\n"
   ]
  },
  {
   "cell_type": "markdown",
   "metadata": {},
   "source": [
    "Step 2: Load the Dataset"
   ]
  },
  {
   "cell_type": "code",
   "execution_count": 7,
   "metadata": {},
   "outputs": [],
   "source": [
    "df_reviews = pd.read_csv('amazon_review_cleaned.csv')\n"
   ]
  },
  {
   "cell_type": "markdown",
   "metadata": {},
   "source": [
    "Step 3: Encode the Target Class Column"
   ]
  },
  {
   "cell_type": "code",
   "execution_count": 8,
   "metadata": {},
   "outputs": [],
   "source": [
    "label_encoder = LabelEncoder()\n",
    "df_reviews['Class'] = label_encoder.fit_transform(df_reviews['Class'])\n"
   ]
  },
  {
   "cell_type": "markdown",
   "metadata": {},
   "source": [
    "Step 4: Split Features (X) and Target (y)"
   ]
  },
  {
   "cell_type": "code",
   "execution_count": 9,
   "metadata": {},
   "outputs": [],
   "source": [
    "X = df_reviews.drop(columns=['Class', 'ID'])  # Drop ID, it is not a feature\n",
    "y = df_reviews['Class']\n"
   ]
  },
  {
   "cell_type": "markdown",
   "metadata": {},
   "source": [
    "Step 5: Stratified Train-Test Split"
   ]
  },
  {
   "cell_type": "code",
   "execution_count": 10,
   "metadata": {},
   "outputs": [],
   "source": [
    "X_train, X_test, y_train, y_test = train_test_split(\n",
    "    X, y, test_size=0.2, random_state=42, stratify=y\n",
    ")\n"
   ]
  },
  {
   "cell_type": "markdown",
   "metadata": {},
   "source": [
    "Step 6: Initialize and Train Gradient Boosting Model"
   ]
  },
  {
   "cell_type": "code",
   "execution_count": 11,
   "metadata": {},
   "outputs": [
    {
     "name": "stdout",
     "output_type": "stream",
     "text": [
      "✅ Model trained successfully!\n"
     ]
    }
   ],
   "source": [
    "model = GradientBoostingClassifier()\n",
    "model.fit(X_train, y_train)\n",
    "\n",
    "print(\"✅ Model trained successfully!\")\n"
   ]
  },
  {
   "cell_type": "markdown",
   "metadata": {},
   "source": [
    "Step 7: Make Predictions"
   ]
  },
  {
   "cell_type": "code",
   "execution_count": 12,
   "metadata": {},
   "outputs": [],
   "source": [
    "y_pred = model.predict(X_test)\n"
   ]
  },
  {
   "cell_type": "markdown",
   "metadata": {},
   "source": [
    "Step 8: Evaluate the Model"
   ]
  },
  {
   "cell_type": "code",
   "execution_count": 13,
   "metadata": {},
   "outputs": [
    {
     "name": "stdout",
     "output_type": "stream",
     "text": [
      "\n",
      "=== Evaluation Results on Reviews Dataset ===\n",
      "Accuracy: 0.4000\n",
      "Precision (weighted): 0.4574\n",
      "F1 Score (weighted): 0.4042\n",
      "\n",
      "Classification Report:\n",
      "              precision    recall  f1-score   support\n",
      "\n",
      "           0       1.00      0.33      0.50         3\n",
      "           1       0.00      0.00      0.00         2\n",
      "           2       0.00      0.00      0.00         2\n",
      "           3       0.75      1.00      0.86         3\n",
      "           4       0.20      0.33      0.25         3\n",
      "           5       0.25      0.33      0.29         3\n",
      "           6       0.00      0.00      0.00         3\n",
      "           7       1.00      0.33      0.50         3\n",
      "           8       0.00      0.00      0.00         3\n",
      "           9       0.75      0.75      0.75         4\n",
      "          10       1.00      0.67      0.80         3\n",
      "          11       0.14      0.25      0.18         4\n",
      "          12       0.50      0.33      0.40         3\n",
      "          13       0.33      0.25      0.29         4\n",
      "          14       0.00      0.00      0.00         3\n",
      "          15       0.67      0.67      0.67         3\n",
      "          16       0.33      0.25      0.29         4\n",
      "          17       0.50      0.50      0.50         2\n",
      "          18       1.00      0.67      0.80         3\n",
      "          19       0.33      0.33      0.33         3\n",
      "          20       0.14      0.67      0.24         3\n",
      "          21       0.75      1.00      0.86         3\n",
      "          22       0.14      0.25      0.18         4\n",
      "          23       0.00      0.00      0.00         3\n",
      "          24       1.00      1.00      1.00         3\n",
      "          25       1.00      1.00      1.00         2\n",
      "          26       0.00      0.00      0.00         2\n",
      "          27       0.00      0.00      0.00         3\n",
      "          28       0.00      0.00      0.00         3\n",
      "          29       1.00      0.50      0.67         2\n",
      "          30       0.67      0.67      0.67         3\n",
      "          31       1.00      1.00      1.00         3\n",
      "          32       0.10      0.33      0.15         3\n",
      "          33       1.00      1.00      1.00         4\n",
      "          34       0.00      0.00      0.00         3\n",
      "          35       0.00      0.00      0.00         2\n",
      "          36       1.00      1.00      1.00         3\n",
      "          37       1.00      0.33      0.50         3\n",
      "          38       0.00      0.00      0.00         3\n",
      "          39       0.00      0.00      0.00         2\n",
      "          40       0.50      0.50      0.50         4\n",
      "          41       0.50      0.33      0.40         3\n",
      "          42       0.00      0.00      0.00         3\n",
      "          43       0.50      0.33      0.40         3\n",
      "          44       0.67      0.50      0.57         4\n",
      "          45       1.00      1.00      1.00         2\n",
      "          46       0.25      0.33      0.29         3\n",
      "          47       1.00      0.33      0.50         3\n",
      "          48       0.50      0.33      0.40         3\n",
      "          49       0.20      0.25      0.22         4\n",
      "\n",
      "    accuracy                           0.40       150\n",
      "   macro avg       0.45      0.39      0.40       150\n",
      "weighted avg       0.46      0.40      0.40       150\n",
      "\n"
     ]
    },
    {
     "name": "stderr",
     "output_type": "stream",
     "text": [
      "/Users/egeozbaran/myenv/lib/python3.13/site-packages/sklearn/metrics/_classification.py:1565: UndefinedMetricWarning: Precision is ill-defined and being set to 0.0 in labels with no predicted samples. Use `zero_division` parameter to control this behavior.\n",
      "  _warn_prf(average, modifier, f\"{metric.capitalize()} is\", len(result))\n",
      "/Users/egeozbaran/myenv/lib/python3.13/site-packages/sklearn/metrics/_classification.py:1565: UndefinedMetricWarning: Precision is ill-defined and being set to 0.0 in labels with no predicted samples. Use `zero_division` parameter to control this behavior.\n",
      "  _warn_prf(average, modifier, f\"{metric.capitalize()} is\", len(result))\n",
      "/Users/egeozbaran/myenv/lib/python3.13/site-packages/sklearn/metrics/_classification.py:1565: UndefinedMetricWarning: Precision is ill-defined and being set to 0.0 in labels with no predicted samples. Use `zero_division` parameter to control this behavior.\n",
      "  _warn_prf(average, modifier, f\"{metric.capitalize()} is\", len(result))\n",
      "/Users/egeozbaran/myenv/lib/python3.13/site-packages/sklearn/metrics/_classification.py:1565: UndefinedMetricWarning: Precision is ill-defined and being set to 0.0 in labels with no predicted samples. Use `zero_division` parameter to control this behavior.\n",
      "  _warn_prf(average, modifier, f\"{metric.capitalize()} is\", len(result))\n"
     ]
    }
   ],
   "source": [
    "accuracy = accuracy_score(y_test, y_pred)\n",
    "precision = precision_score(y_test, y_pred, average='weighted')\n",
    "f1 = f1_score(y_test, y_pred, average='weighted')\n",
    "\n",
    "print(\"\\n=== Evaluation Results on Reviews Dataset ===\")\n",
    "print(f\"Accuracy: {accuracy:.4f}\")\n",
    "print(f\"Precision (weighted): {precision:.4f}\")\n",
    "print(f\"F1 Score (weighted): {f1:.4f}\")\n",
    "\n",
    "print(\"\\nClassification Report:\")\n",
    "print(classification_report(y_test, y_pred))\n"
   ]
  },
  {
   "cell_type": "code",
   "execution_count": 14,
   "metadata": {},
   "outputs": [
    {
     "name": "stdout",
     "output_type": "stream",
     "text": [
      "\n",
      "Training with parameters: {'n_estimators': 100, 'learning_rate': 0.1, 'max_depth': 3}\n",
      "Accuracy: 0.4000\n",
      "Precision (weighted): 0.4925\n",
      "F1 Score (weighted): 0.4201\n",
      "\n",
      "Training with parameters: {'n_estimators': 200, 'learning_rate': 0.1, 'max_depth': 3}\n",
      "Accuracy: 0.4067\n",
      "Precision (weighted): 0.4960\n",
      "F1 Score (weighted): 0.4224\n",
      "\n",
      "Training with parameters: {'n_estimators': 100, 'learning_rate': 0.05, 'max_depth': 3}\n",
      "Accuracy: 0.4000\n",
      "Precision (weighted): 0.4819\n",
      "F1 Score (weighted): 0.4113\n",
      "\n",
      "Training with parameters: {'n_estimators': 100, 'learning_rate': 0.1, 'max_depth': 5}\n",
      "Accuracy: 0.4000\n",
      "Precision (weighted): 0.5050\n",
      "F1 Score (weighted): 0.4153\n"
     ]
    }
   ],
   "source": [
    "# Different parameter sets to try\n",
    "param_grid = [\n",
    "    {'n_estimators': 100, 'learning_rate': 0.1, 'max_depth': 3},\n",
    "    {'n_estimators': 200, 'learning_rate': 0.1, 'max_depth': 3},\n",
    "    {'n_estimators': 100, 'learning_rate': 0.05, 'max_depth': 3},\n",
    "    {'n_estimators': 100, 'learning_rate': 0.1, 'max_depth': 5},\n",
    "]\n",
    "\n",
    "# Store results\n",
    "results = []\n",
    "\n",
    "for params in param_grid:\n",
    "    print(f\"\\nTraining with parameters: {params}\")\n",
    "    model = GradientBoostingClassifier(\n",
    "        n_estimators=params['n_estimators'],\n",
    "        learning_rate=params['learning_rate'],\n",
    "        max_depth=params['max_depth'],\n",
    "        random_state=42\n",
    "    )\n",
    "    model.fit(X_train, y_train)\n",
    "    y_pred = model.predict(X_test)\n",
    "\n",
    "    accuracy = accuracy_score(y_test, y_pred)\n",
    "    precision = precision_score(y_test, y_pred, average='weighted', zero_division=0)\n",
    "    f1 = f1_score(y_test, y_pred, average='weighted')\n",
    "\n",
    "    print(f\"Accuracy: {accuracy:.4f}\")\n",
    "    print(f\"Precision (weighted): {precision:.4f}\")\n",
    "    print(f\"F1 Score (weighted): {f1:.4f}\")\n",
    "\n",
    "    results.append({\n",
    "        'params': params,\n",
    "        'accuracy': accuracy,\n",
    "        'precision': precision,\n",
    "        'f1_score': f1\n",
    "    })\n"
   ]
  }
 ],
 "metadata": {
  "kernelspec": {
   "display_name": "myenv",
   "language": "python",
   "name": "python3"
  },
  "language_info": {
   "codemirror_mode": {
    "name": "ipython",
    "version": 3
   },
   "file_extension": ".py",
   "mimetype": "text/x-python",
   "name": "python",
   "nbconvert_exporter": "python",
   "pygments_lexer": "ipython3",
   "version": "3.13.1"
  }
 },
 "nbformat": 4,
 "nbformat_minor": 2
}
