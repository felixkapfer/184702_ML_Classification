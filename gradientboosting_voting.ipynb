{
 "cells": [
  {
   "cell_type": "markdown",
   "metadata": {},
   "source": [
    "# Gradient Boosting Classification and Hyperparameter Experiments"
   ]
  },
  {
   "cell_type": "code",
   "execution_count": 27,
   "metadata": {},
   "outputs": [],
   "source": [
    "# Dataset: Autism Children (autism_children.csv)\n",
    "\n",
    "# 1. Import libraries\n",
    "import pandas as pd\n",
    "from sklearn.model_selection import train_test_split, GridSearchCV\n",
    "from sklearn.ensemble import GradientBoostingClassifier\n",
    "from sklearn.metrics import (\n",
    "    accuracy_score, precision_score, f1_score,\n",
    "    classification_report, make_scorer\n",
    ")\n",
    "\n",
    "# 2. Load and preprocess the data\n",
    "df = pd.read_csv('autism_children.csv')  # ensure file is in working directory\n",
    "df = df.drop(columns=['Unnamed: 0', 'result'])  # drop index & leakage\n",
    "df = df.drop_duplicates()  # remove exact duplicates\n",
    "\n",
    "y = df['class']\n",
    "X = pd.get_dummies(df.drop(columns=['class']))  # one-hot encode categoricals\n",
    "\n",
    "# 3. Split into train and test sets\n",
    "X_train, X_test, y_train, y_test = train_test_split(\n",
    "    X, y,\n",
    "    test_size=0.2,\n",
    "    random_state=42,\n",
    "    stratify=y\n",
    ")\n",
    "\n"
   ]
  },
  {
   "cell_type": "markdown",
   "metadata": {},
   "source": [
    "#  Gradient Boosting model"
   ]
  },
  {
   "cell_type": "code",
   "execution_count": 28,
   "metadata": {},
   "outputs": [
    {
     "name": "stdout",
     "output_type": "stream",
     "text": [
      "=== Baseline Gradient Boosting Results ===\n",
      "Accuracy: 0.8793\n",
      "Precision (weighted): 0.8799\n",
      "F1 Score (weighted): 0.8793\n",
      "\n",
      "Classification Report:\n",
      "               precision    recall  f1-score   support\n",
      "\n",
      "           0       0.90      0.87      0.88        30\n",
      "           1       0.86      0.89      0.88        28\n",
      "\n",
      "    accuracy                           0.88        58\n",
      "   macro avg       0.88      0.88      0.88        58\n",
      "weighted avg       0.88      0.88      0.88        58\n",
      "\n"
     ]
    }
   ],
   "source": [
    "# 4. Baseline Gradient Boosting model\n",
    "baseline = GradientBoostingClassifier(random_state=42)\n",
    "baseline.fit(X_train, y_train)\n",
    "\n",
    "y_pred_base = baseline.predict(X_test)\n",
    "acc_base = accuracy_score(y_test, y_pred_base)\n",
    "prec_base = precision_score(y_test, y_pred_base, average='weighted')\n",
    "f1_base = f1_score(y_test, y_pred_base, average='weighted')\n",
    "\n",
    "print(\"=== Baseline Gradient Boosting Results ===\")\n",
    "print(f\"Accuracy: {acc_base:.4f}\")\n",
    "print(f\"Precision (weighted): {prec_base:.4f}\")\n",
    "print(f\"F1 Score (weighted): {f1_base:.4f}\")\n",
    "print(\"\\nClassification Report:\\n\", classification_report(y_test, y_pred_base))\n",
    "\n",
    "# 5. Hyperparameter grid search setup\n",
    "param_grid = {\n",
    "    'n_estimators': [50, 100, 200],\n",
    "    'learning_rate': [0.01, 0.1, 0.2],\n",
    "    'max_depth': [3, 5, 7],\n",
    "    'subsample': [0.6, 0.8, 1.0]\n",
    "}\n",
    "scorer = make_scorer(f1_score, average='weighted')\n",
    "\n",
    "grid_search = GridSearchCV(\n",
    "    estimator=GradientBoostingClassifier(random_state=42),\n",
    "    param_grid=param_grid,\n",
    "    scoring=scorer,\n",
    "    cv=5,\n",
    "    n_jobs=-1,\n",
    "    verbose=1,\n",
    "    return_train_score=True\n",
    ")\n",
    "\n"
   ]
  },
  {
   "cell_type": "markdown",
   "metadata": {},
   "source": [
    "# hyperparameter experiments"
   ]
  },
  {
   "cell_type": "code",
   "execution_count": 29,
   "metadata": {},
   "outputs": [
    {
     "name": "stdout",
     "output_type": "stream",
     "text": [
      "Fitting 5 folds for each of 81 candidates, totalling 405 fits\n",
      "\n",
      "=== Grid Search Completed ===\n",
      "Best Parameters: {'learning_rate': 0.2, 'max_depth': 3, 'n_estimators': 100, 'subsample': 0.6}\n",
      "\n",
      "=== Tuned Gradient Boosting Results ===\n",
      "Accuracy: 0.9310\n",
      "Precision (weighted): 0.9310\n",
      "F1 Score (weighted): 0.9310\n",
      "\n",
      "Classification Report:\n",
      "               precision    recall  f1-score   support\n",
      "\n",
      "           0       0.93      0.93      0.93        30\n",
      "           1       0.93      0.93      0.93        28\n",
      "\n",
      "    accuracy                           0.93        58\n",
      "   macro avg       0.93      0.93      0.93        58\n",
      "weighted avg       0.93      0.93      0.93        58\n",
      "\n",
      "\n",
      "=== Performance Improvement ===\n",
      "Accuracy Improvement: +0.0517\n",
      "Precision Improvement: +0.0511\n",
      "F1 Score Improvement: +0.0517\n",
      "Saved CV results to 'autism_gb_gridsearch_results.csv'.\n"
     ]
    }
   ],
   "source": [
    "# 6. Run hyperparameter experiments\n",
    "grid_search.fit(X_train, y_train)\n",
    "print(\"\\n=== Grid Search Completed ===\")\n",
    "print(\"Best Parameters:\", grid_search.best_params_)\n",
    "\n",
    "# 7. Evaluate tuned model\n",
    "y_pred_tuned = grid_search.best_estimator_.predict(X_test)\n",
    "acc_tuned = accuracy_score(y_test, y_pred_tuned)\n",
    "prec_tuned = precision_score(y_test, y_pred_tuned, average='weighted')\n",
    "f1_tuned = f1_score(y_test, y_pred_tuned, average='weighted')\n",
    "\n",
    "print(\"\\n=== Tuned Gradient Boosting Results ===\")\n",
    "print(f\"Accuracy: {acc_tuned:.4f}\")\n",
    "print(f\"Precision (weighted): {prec_tuned:.4f}\")\n",
    "print(f\"F1 Score (weighted): {f1_tuned:.4f}\")\n",
    "print(\"\\nClassification Report:\\n\", classification_report(y_test, y_pred_tuned))\n",
    "\n",
    "# 8. Compare baseline vs. tuned performance\n",
    "print(\"\\n=== Performance Improvement ===\")\n",
    "print(f\"Accuracy Improvement: {acc_tuned - acc_base:+.4f}\")\n",
    "print(f\"Precision Improvement: {prec_tuned - prec_base:+.4f}\")\n",
    "print(f\"F1 Score Improvement: {f1_tuned - f1_base:+.4f}\")\n",
    "\n",
    "# 9. Save full CV results for reporting\n",
    "df_cv = pd.DataFrame(grid_search.cv_results_)\n",
    "df_cv.to_csv('autism_gb_gridsearch_results.csv', index=False)\n",
    "print(\"Saved CV results to 'autism_gb_gridsearch_results.csv'.\")\n"
   ]
  }
 ],
 "metadata": {
  "kernelspec": {
   "display_name": "myenv",
   "language": "python",
   "name": "python3"
  },
  "language_info": {
   "codemirror_mode": {
    "name": "ipython",
    "version": 3
   },
   "file_extension": ".py",
   "mimetype": "text/x-python",
   "name": "python",
   "nbconvert_exporter": "python",
   "pygments_lexer": "ipython3",
   "version": "3.13.1"
  }
 },
 "nbformat": 4,
 "nbformat_minor": 2
}
