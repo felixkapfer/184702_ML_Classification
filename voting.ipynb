{
 "cells": [
  {
   "cell_type": "markdown",
   "id": "eef5515a",
   "metadata": {},
   "source": [
    "# 1. Notebook Preparation"
   ]
  },
  {
   "cell_type": "markdown",
   "id": "bf75c5f1",
   "metadata": {},
   "source": [
    "## 1.1 Import necessary libraries"
   ]
  },
  {
   "cell_type": "code",
   "execution_count": null,
   "id": "32628635",
   "metadata": {},
   "outputs": [],
   "source": [
    "# Import the necessary libraries\n",
    "import pandas as pd\n",
    "import numpy as np\n",
    "import plotly.express as px\n",
    "import plotly.graph_objects as go\n",
    "import seaborn as sns\n",
    "import matplotlib.pyplot as plt\n",
    "\n",
    "from utils.logger import Logger\n",
    "from utils.helpers import get_dataset_dimensions, count_unique_values, replace_values, summarize_missing, drop_columns_missing, drop_rows_missing, impute_mode\n",
    "from plotly.subplots import make_subplots\n"
   ]
  },
  {
   "cell_type": "markdown",
   "id": "f4f87811",
   "metadata": {},
   "source": [
    "## 1.2. Create Utils & Helpers"
   ]
  },
  {
   "cell_type": "code",
   "execution_count": 72,
   "id": "327a809b",
   "metadata": {},
   "outputs": [],
   "source": [
    "# Create logger instance\n",
    "logger = Logger(__name__)"
   ]
  },
  {
   "cell_type": "markdown",
   "id": "b70e0cb4",
   "metadata": {},
   "source": [
    "## 1.3. Load The Data Set Into A PDF"
   ]
  },
  {
   "cell_type": "code",
   "execution_count": 73,
   "id": "edeb713c",
   "metadata": {},
   "outputs": [],
   "source": [
    "# Load the dataset into a pandas DataFrame\n",
    "df_votings = pd.read_csv('../data/raw/kaggle/congress/CongressionalVotingID.shuf.lrn.csv')"
   ]
  },
  {
   "cell_type": "code",
   "execution_count": null,
   "id": "4aac245d",
   "metadata": {},
   "outputs": [],
   "source": [
    "# Lead the infer dataset into a pandas DataFrame\n",
    "df_votings_infer = pd.read_csv('../data/raw/kaggle/congress/CongressionalVotingID.shuf.tes.csv')"
   ]
  },
  {
   "cell_type": "markdown",
   "id": "f3762a2d",
   "metadata": {},
   "source": [
    "# 2. Data Analysis & Preparation "
   ]
  },
  {
   "cell_type": "markdown",
   "id": "2a4e1ffc",
   "metadata": {},
   "source": [
    "## 2.1. Maternal Health Risk Data Set"
   ]
  },
  {
   "cell_type": "markdown",
   "id": "09d581af",
   "metadata": {},
   "source": [
    "### 2.1.1. General Information"
   ]
  },
  {
   "cell_type": "code",
   "execution_count": 75,
   "id": "dd24f5a3",
   "metadata": {},
   "outputs": [
    {
     "name": "stdout",
     "output_type": "stream",
     "text": [
      "<class 'pandas.core.frame.DataFrame'>\n",
      "RangeIndex: 218 entries, 0 to 217\n",
      "Data columns (total 18 columns):\n",
      " #   Column                                  Non-Null Count  Dtype \n",
      "---  ------                                  --------------  ----- \n",
      " 0   ID                                      218 non-null    int64 \n",
      " 1   class                                   218 non-null    object\n",
      " 2   handicapped-infants                     218 non-null    object\n",
      " 3   water-project-cost-sharing              218 non-null    object\n",
      " 4   adoption-of-the-budget-resolution       218 non-null    object\n",
      " 5   physician-fee-freeze                    218 non-null    object\n",
      " 6   el-salvador-aid                         218 non-null    object\n",
      " 7   religious-groups-in-schools             218 non-null    object\n",
      " 8   anti-satellite-test-ban                 218 non-null    object\n",
      " 9   aid-to-nicaraguan-contras               218 non-null    object\n",
      " 10  mx-missile                              218 non-null    object\n",
      " 11  immigration                             218 non-null    object\n",
      " 12  synfuels-crporation-cutback             218 non-null    object\n",
      " 13  education-spending                      218 non-null    object\n",
      " 14  superfund-right-to-sue                  218 non-null    object\n",
      " 15  crime                                   218 non-null    object\n",
      " 16  duty-free-exports                       218 non-null    object\n",
      " 17  export-administration-act-south-africa  218 non-null    object\n",
      "dtypes: int64(1), object(17)\n",
      "memory usage: 30.8+ KB\n"
     ]
    }
   ],
   "source": [
    "# Step 2.1.1.1. - Display the dataset information\n",
    "df_votings.info()"
   ]
  },
  {
   "cell_type": "code",
   "execution_count": 76,
   "id": "8360470d",
   "metadata": {},
   "outputs": [
    {
     "data": {
      "text/html": [
       "<div>\n",
       "<style scoped>\n",
       "    .dataframe tbody tr th:only-of-type {\n",
       "        vertical-align: middle;\n",
       "    }\n",
       "\n",
       "    .dataframe tbody tr th {\n",
       "        vertical-align: top;\n",
       "    }\n",
       "\n",
       "    .dataframe thead th {\n",
       "        text-align: right;\n",
       "    }\n",
       "</style>\n",
       "<table border=\"1\" class=\"dataframe\">\n",
       "  <thead>\n",
       "    <tr style=\"text-align: right;\">\n",
       "      <th></th>\n",
       "      <th>ID</th>\n",
       "      <th>class</th>\n",
       "      <th>handicapped-infants</th>\n",
       "      <th>water-project-cost-sharing</th>\n",
       "      <th>adoption-of-the-budget-resolution</th>\n",
       "      <th>physician-fee-freeze</th>\n",
       "      <th>el-salvador-aid</th>\n",
       "      <th>religious-groups-in-schools</th>\n",
       "      <th>anti-satellite-test-ban</th>\n",
       "      <th>aid-to-nicaraguan-contras</th>\n",
       "      <th>mx-missile</th>\n",
       "      <th>immigration</th>\n",
       "      <th>synfuels-crporation-cutback</th>\n",
       "      <th>education-spending</th>\n",
       "      <th>superfund-right-to-sue</th>\n",
       "      <th>crime</th>\n",
       "      <th>duty-free-exports</th>\n",
       "      <th>export-administration-act-south-africa</th>\n",
       "    </tr>\n",
       "  </thead>\n",
       "  <tbody>\n",
       "    <tr>\n",
       "      <th>0</th>\n",
       "      <td>362</td>\n",
       "      <td>democrat</td>\n",
       "      <td>y</td>\n",
       "      <td>n</td>\n",
       "      <td>y</td>\n",
       "      <td>n</td>\n",
       "      <td>y</td>\n",
       "      <td>y</td>\n",
       "      <td>y</td>\n",
       "      <td>n</td>\n",
       "      <td>y</td>\n",
       "      <td>y</td>\n",
       "      <td>n</td>\n",
       "      <td>n</td>\n",
       "      <td>y</td>\n",
       "      <td>y</td>\n",
       "      <td>n</td>\n",
       "      <td>unknown</td>\n",
       "    </tr>\n",
       "    <tr>\n",
       "      <th>1</th>\n",
       "      <td>86</td>\n",
       "      <td>democrat</td>\n",
       "      <td>n</td>\n",
       "      <td>n</td>\n",
       "      <td>y</td>\n",
       "      <td>n</td>\n",
       "      <td>y</td>\n",
       "      <td>y</td>\n",
       "      <td>n</td>\n",
       "      <td>n</td>\n",
       "      <td>n</td>\n",
       "      <td>y</td>\n",
       "      <td>y</td>\n",
       "      <td>y</td>\n",
       "      <td>y</td>\n",
       "      <td>y</td>\n",
       "      <td>n</td>\n",
       "      <td>y</td>\n",
       "    </tr>\n",
       "    <tr>\n",
       "      <th>2</th>\n",
       "      <td>264</td>\n",
       "      <td>democrat</td>\n",
       "      <td>y</td>\n",
       "      <td>n</td>\n",
       "      <td>y</td>\n",
       "      <td>n</td>\n",
       "      <td>n</td>\n",
       "      <td>n</td>\n",
       "      <td>y</td>\n",
       "      <td>y</td>\n",
       "      <td>y</td>\n",
       "      <td>n</td>\n",
       "      <td>n</td>\n",
       "      <td>n</td>\n",
       "      <td>n</td>\n",
       "      <td>n</td>\n",
       "      <td>y</td>\n",
       "      <td>unknown</td>\n",
       "    </tr>\n",
       "    <tr>\n",
       "      <th>3</th>\n",
       "      <td>258</td>\n",
       "      <td>republican</td>\n",
       "      <td>n</td>\n",
       "      <td>n</td>\n",
       "      <td>n</td>\n",
       "      <td>y</td>\n",
       "      <td>y</td>\n",
       "      <td>n</td>\n",
       "      <td>n</td>\n",
       "      <td>n</td>\n",
       "      <td>n</td>\n",
       "      <td>n</td>\n",
       "      <td>n</td>\n",
       "      <td>y</td>\n",
       "      <td>n</td>\n",
       "      <td>y</td>\n",
       "      <td>unknown</td>\n",
       "      <td>y</td>\n",
       "    </tr>\n",
       "    <tr>\n",
       "      <th>4</th>\n",
       "      <td>381</td>\n",
       "      <td>democrat</td>\n",
       "      <td>y</td>\n",
       "      <td>y</td>\n",
       "      <td>y</td>\n",
       "      <td>n</td>\n",
       "      <td>n</td>\n",
       "      <td>y</td>\n",
       "      <td>unknown</td>\n",
       "      <td>y</td>\n",
       "      <td>y</td>\n",
       "      <td>n</td>\n",
       "      <td>y</td>\n",
       "      <td>n</td>\n",
       "      <td>y</td>\n",
       "      <td>n</td>\n",
       "      <td>y</td>\n",
       "      <td>y</td>\n",
       "    </tr>\n",
       "  </tbody>\n",
       "</table>\n",
       "</div>"
      ],
      "text/plain": [
       "    ID       class handicapped-infants water-project-cost-sharing  \\\n",
       "0  362    democrat                   y                          n   \n",
       "1   86    democrat                   n                          n   \n",
       "2  264    democrat                   y                          n   \n",
       "3  258  republican                   n                          n   \n",
       "4  381    democrat                   y                          y   \n",
       "\n",
       "  adoption-of-the-budget-resolution physician-fee-freeze el-salvador-aid  \\\n",
       "0                                 y                    n               y   \n",
       "1                                 y                    n               y   \n",
       "2                                 y                    n               n   \n",
       "3                                 n                    y               y   \n",
       "4                                 y                    n               n   \n",
       "\n",
       "  religious-groups-in-schools anti-satellite-test-ban  \\\n",
       "0                           y                       y   \n",
       "1                           y                       n   \n",
       "2                           n                       y   \n",
       "3                           n                       n   \n",
       "4                           y                 unknown   \n",
       "\n",
       "  aid-to-nicaraguan-contras mx-missile immigration  \\\n",
       "0                         n          y           y   \n",
       "1                         n          n           y   \n",
       "2                         y          y           n   \n",
       "3                         n          n           n   \n",
       "4                         y          y           n   \n",
       "\n",
       "  synfuels-crporation-cutback education-spending superfund-right-to-sue crime  \\\n",
       "0                           n                  n                      y     y   \n",
       "1                           y                  y                      y     y   \n",
       "2                           n                  n                      n     n   \n",
       "3                           n                  y                      n     y   \n",
       "4                           y                  n                      y     n   \n",
       "\n",
       "  duty-free-exports export-administration-act-south-africa  \n",
       "0                 n                                unknown  \n",
       "1                 n                                      y  \n",
       "2                 y                                unknown  \n",
       "3           unknown                                      y  \n",
       "4                 y                                      y  "
      ]
     },
     "execution_count": 76,
     "metadata": {},
     "output_type": "execute_result"
    }
   ],
   "source": [
    "# Step 2.1.1.2. - Display the first 5 rows of the dataset\n",
    "df_votings.head()"
   ]
  },
  {
   "cell_type": "code",
   "execution_count": 77,
   "id": "6ba1fea4",
   "metadata": {},
   "outputs": [
    {
     "name": "stderr",
     "output_type": "stream",
     "text": [
      "2025-04-27 16:30:50,543 - helpers - INFO - Dataset dimensions: (218, 18)\n"
     ]
    },
    {
     "data": {
      "text/plain": [
       "(218, 18)"
      ]
     },
     "execution_count": 77,
     "metadata": {},
     "output_type": "execute_result"
    }
   ],
   "source": [
    "# Step 2.1.1.3. - Display the dataset dimensions\n",
    "get_dataset_dimensions(df_votings)"
   ]
  },
  {
   "cell_type": "code",
   "execution_count": 78,
   "id": "a704efa7",
   "metadata": {},
   "outputs": [
    {
     "name": "stdout",
     "output_type": "stream",
     "text": [
      "Column Names and Data Types:\n",
      "ID                                         int64\n",
      "class                                     object\n",
      "handicapped-infants                       object\n",
      "water-project-cost-sharing                object\n",
      "adoption-of-the-budget-resolution         object\n",
      "physician-fee-freeze                      object\n",
      "el-salvador-aid                           object\n",
      "religious-groups-in-schools               object\n",
      "anti-satellite-test-ban                   object\n",
      "aid-to-nicaraguan-contras                 object\n",
      "mx-missile                                object\n",
      "immigration                               object\n",
      "synfuels-crporation-cutback               object\n",
      "education-spending                        object\n",
      "superfund-right-to-sue                    object\n",
      "crime                                     object\n",
      "duty-free-exports                         object\n",
      "export-administration-act-south-africa    object\n",
      "dtype: object\n"
     ]
    }
   ],
   "source": [
    "# Step 2.1.1.4. - Display column names & data types\n",
    "print(\"Column Names and Data Types:\")\n",
    "print(df_votings.dtypes)"
   ]
  },
  {
   "cell_type": "code",
   "execution_count": 79,
   "id": "6b067906",
   "metadata": {},
   "outputs": [
    {
     "name": "stdout",
     "output_type": "stream",
     "text": [
      "Missing Values per Column:\n",
      "                                        missing_count  missing_pct\n",
      "ID                                                  0          0.0\n",
      "class                                               0          0.0\n",
      "handicapped-infants                                 0          0.0\n",
      "water-project-cost-sharing                          0          0.0\n",
      "adoption-of-the-budget-resolution                   0          0.0\n",
      "physician-fee-freeze                                0          0.0\n",
      "el-salvador-aid                                     0          0.0\n",
      "religious-groups-in-schools                         0          0.0\n",
      "anti-satellite-test-ban                             0          0.0\n",
      "aid-to-nicaraguan-contras                           0          0.0\n",
      "mx-missile                                          0          0.0\n",
      "immigration                                         0          0.0\n",
      "synfuels-crporation-cutback                         0          0.0\n",
      "education-spending                                  0          0.0\n",
      "superfund-right-to-sue                              0          0.0\n",
      "crime                                               0          0.0\n",
      "duty-free-exports                                   0          0.0\n",
      "export-administration-act-south-africa              0          0.0\n"
     ]
    }
   ],
   "source": [
    "# Step 2.1.1.5. - Display the missing values per column\n",
    "print(\"Missing Values per Column:\")\n",
    "print(summarize_missing(df_votings))"
   ]
  },
  {
   "cell_type": "markdown",
   "id": "c5972dea",
   "metadata": {},
   "source": [
    "The missing values are all 0 as the are technical missing rather than captures as `unknown` or `?`. Therefore we should replace them with `None`"
   ]
  },
  {
   "cell_type": "code",
   "execution_count": 80,
   "id": "0a244e54",
   "metadata": {},
   "outputs": [
    {
     "data": {
      "text/html": [
       "<div>\n",
       "<style scoped>\n",
       "    .dataframe tbody tr th:only-of-type {\n",
       "        vertical-align: middle;\n",
       "    }\n",
       "\n",
       "    .dataframe tbody tr th {\n",
       "        vertical-align: top;\n",
       "    }\n",
       "\n",
       "    .dataframe thead th {\n",
       "        text-align: right;\n",
       "    }\n",
       "</style>\n",
       "<table border=\"1\" class=\"dataframe\">\n",
       "  <thead>\n",
       "    <tr style=\"text-align: right;\">\n",
       "      <th></th>\n",
       "      <th>democrat</th>\n",
       "      <th>n</th>\n",
       "      <th>republican</th>\n",
       "      <th>unknown</th>\n",
       "      <th>y</th>\n",
       "    </tr>\n",
       "    <tr>\n",
       "      <th>feature</th>\n",
       "      <th></th>\n",
       "      <th></th>\n",
       "      <th></th>\n",
       "      <th></th>\n",
       "      <th></th>\n",
       "    </tr>\n",
       "  </thead>\n",
       "  <tbody>\n",
       "    <tr>\n",
       "      <th>class</th>\n",
       "      <td>127</td>\n",
       "      <td>0</td>\n",
       "      <td>91</td>\n",
       "      <td>0</td>\n",
       "      <td>0</td>\n",
       "    </tr>\n",
       "    <tr>\n",
       "      <th>handicapped-infants</th>\n",
       "      <td>0</td>\n",
       "      <td>109</td>\n",
       "      <td>0</td>\n",
       "      <td>4</td>\n",
       "      <td>105</td>\n",
       "    </tr>\n",
       "    <tr>\n",
       "      <th>water-project-cost-sharing</th>\n",
       "      <td>0</td>\n",
       "      <td>90</td>\n",
       "      <td>0</td>\n",
       "      <td>28</td>\n",
       "      <td>100</td>\n",
       "    </tr>\n",
       "    <tr>\n",
       "      <th>adoption-of-the-budget-resolution</th>\n",
       "      <td>0</td>\n",
       "      <td>87</td>\n",
       "      <td>0</td>\n",
       "      <td>8</td>\n",
       "      <td>123</td>\n",
       "    </tr>\n",
       "    <tr>\n",
       "      <th>physician-fee-freeze</th>\n",
       "      <td>0</td>\n",
       "      <td>119</td>\n",
       "      <td>0</td>\n",
       "      <td>6</td>\n",
       "      <td>93</td>\n",
       "    </tr>\n",
       "    <tr>\n",
       "      <th>el-salvador-aid</th>\n",
       "      <td>0</td>\n",
       "      <td>104</td>\n",
       "      <td>0</td>\n",
       "      <td>7</td>\n",
       "      <td>107</td>\n",
       "    </tr>\n",
       "    <tr>\n",
       "      <th>religious-groups-in-schools</th>\n",
       "      <td>0</td>\n",
       "      <td>76</td>\n",
       "      <td>0</td>\n",
       "      <td>6</td>\n",
       "      <td>136</td>\n",
       "    </tr>\n",
       "    <tr>\n",
       "      <th>anti-satellite-test-ban</th>\n",
       "      <td>0</td>\n",
       "      <td>93</td>\n",
       "      <td>0</td>\n",
       "      <td>7</td>\n",
       "      <td>118</td>\n",
       "    </tr>\n",
       "    <tr>\n",
       "      <th>aid-to-nicaraguan-contras</th>\n",
       "      <td>0</td>\n",
       "      <td>89</td>\n",
       "      <td>0</td>\n",
       "      <td>12</td>\n",
       "      <td>117</td>\n",
       "    </tr>\n",
       "    <tr>\n",
       "      <th>mx-missile</th>\n",
       "      <td>0</td>\n",
       "      <td>107</td>\n",
       "      <td>0</td>\n",
       "      <td>8</td>\n",
       "      <td>103</td>\n",
       "    </tr>\n",
       "    <tr>\n",
       "      <th>immigration</th>\n",
       "      <td>0</td>\n",
       "      <td>116</td>\n",
       "      <td>0</td>\n",
       "      <td>3</td>\n",
       "      <td>99</td>\n",
       "    </tr>\n",
       "    <tr>\n",
       "      <th>synfuels-crporation-cutback</th>\n",
       "      <td>0</td>\n",
       "      <td>134</td>\n",
       "      <td>0</td>\n",
       "      <td>10</td>\n",
       "      <td>74</td>\n",
       "    </tr>\n",
       "    <tr>\n",
       "      <th>education-spending</th>\n",
       "      <td>0</td>\n",
       "      <td>114</td>\n",
       "      <td>0</td>\n",
       "      <td>18</td>\n",
       "      <td>86</td>\n",
       "    </tr>\n",
       "    <tr>\n",
       "      <th>superfund-right-to-sue</th>\n",
       "      <td>0</td>\n",
       "      <td>92</td>\n",
       "      <td>0</td>\n",
       "      <td>16</td>\n",
       "      <td>110</td>\n",
       "    </tr>\n",
       "    <tr>\n",
       "      <th>crime</th>\n",
       "      <td>0</td>\n",
       "      <td>84</td>\n",
       "      <td>0</td>\n",
       "      <td>11</td>\n",
       "      <td>123</td>\n",
       "    </tr>\n",
       "    <tr>\n",
       "      <th>duty-free-exports</th>\n",
       "      <td>0</td>\n",
       "      <td>116</td>\n",
       "      <td>0</td>\n",
       "      <td>14</td>\n",
       "      <td>88</td>\n",
       "    </tr>\n",
       "    <tr>\n",
       "      <th>export-administration-act-south-africa</th>\n",
       "      <td>0</td>\n",
       "      <td>29</td>\n",
       "      <td>0</td>\n",
       "      <td>54</td>\n",
       "      <td>135</td>\n",
       "    </tr>\n",
       "  </tbody>\n",
       "</table>\n",
       "</div>"
      ],
      "text/plain": [
       "                                        democrat    n  republican  unknown  \\\n",
       "feature                                                                      \n",
       "class                                        127    0          91        0   \n",
       "handicapped-infants                            0  109           0        4   \n",
       "water-project-cost-sharing                     0   90           0       28   \n",
       "adoption-of-the-budget-resolution              0   87           0        8   \n",
       "physician-fee-freeze                           0  119           0        6   \n",
       "el-salvador-aid                                0  104           0        7   \n",
       "religious-groups-in-schools                    0   76           0        6   \n",
       "anti-satellite-test-ban                        0   93           0        7   \n",
       "aid-to-nicaraguan-contras                      0   89           0       12   \n",
       "mx-missile                                     0  107           0        8   \n",
       "immigration                                    0  116           0        3   \n",
       "synfuels-crporation-cutback                    0  134           0       10   \n",
       "education-spending                             0  114           0       18   \n",
       "superfund-right-to-sue                         0   92           0       16   \n",
       "crime                                          0   84           0       11   \n",
       "duty-free-exports                              0  116           0       14   \n",
       "export-administration-act-south-africa         0   29           0       54   \n",
       "\n",
       "                                          y  \n",
       "feature                                      \n",
       "class                                     0  \n",
       "handicapped-infants                     105  \n",
       "water-project-cost-sharing              100  \n",
       "adoption-of-the-budget-resolution       123  \n",
       "physician-fee-freeze                     93  \n",
       "el-salvador-aid                         107  \n",
       "religious-groups-in-schools             136  \n",
       "anti-satellite-test-ban                 118  \n",
       "aid-to-nicaraguan-contras               117  \n",
       "mx-missile                              103  \n",
       "immigration                              99  \n",
       "synfuels-crporation-cutback              74  \n",
       "education-spending                       86  \n",
       "superfund-right-to-sue                  110  \n",
       "crime                                   123  \n",
       "duty-free-exports                        88  \n",
       "export-administration-act-south-africa  135  "
      ]
     },
     "metadata": {},
     "output_type": "display_data"
    }
   ],
   "source": [
    "# Step 2.1.1.6. - Check for Unique Values and their amount\n",
    "# Specify the columns to check for unique values\n",
    "unique_value_columns = [col for col in df_votings.columns if col != 'ID']\n",
    "\n",
    "# Call the function to count unique values in the specified columns\n",
    "unique_values = count_unique_values(df_votings, unique_value_columns)\n",
    "\n",
    "# Display the unique values\n",
    "display(unique_values)"
   ]
  },
  {
   "cell_type": "code",
   "execution_count": 81,
   "id": "9cc3e692",
   "metadata": {},
   "outputs": [
    {
     "name": "stdout",
     "output_type": "stream",
     "text": [
      "Summary Statistics:\n",
      "               ID\n",
      "count  218.000000\n",
      "mean   209.279817\n",
      "std    125.726093\n",
      "min      6.000000\n",
      "25%    102.250000\n",
      "50%    209.500000\n",
      "75%    315.500000\n",
      "max    433.000000\n"
     ]
    }
   ],
   "source": [
    "# Step 2.1.1.7. - Display a summary of statistics (numerical columns)\n",
    "print(\"Summary Statistics:\")\n",
    "print(df_votings.describe())"
   ]
  },
  {
   "cell_type": "markdown",
   "id": "3f31df34",
   "metadata": {},
   "source": [
    "--> Describe method is not not useful at this point as all columns are text based and nothing else is numeric except ID"
   ]
  },
  {
   "cell_type": "markdown",
   "id": "f65af5ff",
   "metadata": {},
   "source": [
    "## 2.2. Data Pre-Processing"
   ]
  },
  {
   "cell_type": "markdown",
   "id": "3f0e5702",
   "metadata": {},
   "source": [
    "### 2.2.1 Replace Values"
   ]
  },
  {
   "cell_type": "code",
   "execution_count": 82,
   "id": "c8afe703",
   "metadata": {},
   "outputs": [
    {
     "name": "stdout",
     "output_type": "stream",
     "text": [
      "                                        missing_count  missing_pct\n",
      "ID                                                  0     0.000000\n",
      "class                                               0     0.000000\n",
      "handicapped-infants                                 4     1.834862\n",
      "water-project-cost-sharing                         28    12.844037\n",
      "adoption-of-the-budget-resolution                   8     3.669725\n",
      "physician-fee-freeze                                6     2.752294\n",
      "el-salvador-aid                                     7     3.211009\n",
      "religious-groups-in-schools                         6     2.752294\n",
      "anti-satellite-test-ban                             7     3.211009\n",
      "aid-to-nicaraguan-contras                          12     5.504587\n",
      "mx-missile                                          8     3.669725\n",
      "immigration                                         3     1.376147\n",
      "synfuels-crporation-cutback                        10     4.587156\n",
      "education-spending                                 18     8.256881\n",
      "superfund-right-to-sue                             16     7.339450\n",
      "crime                                              11     5.045872\n",
      "duty-free-exports                                  14     6.422018\n",
      "export-administration-act-south-africa             54    24.770642\n"
     ]
    },
    {
     "name": "stderr",
     "output_type": "stream",
     "text": [
      "/Users/ben/code/tuwien/ML/184702_ML_Classification/src/helpers.py:72: FutureWarning:\n",
      "\n",
      "Downcasting behavior in `replace` is deprecated and will be removed in a future version. To retain the old behavior, explicitly call `result.infer_objects(copy=False)`. To opt-in to the future behavior, set `pd.set_option('future.no_silent_downcasting', True)`\n",
      "\n"
     ]
    }
   ],
   "source": [
    "# Specify the columns to replace values\n",
    "replace_value_columns = [col for col in df_votings.columns if col != 'ID']\n",
    "replace_value_columns_infer = [col for col in df_votings_infer.columns if col != 'ID']\n",
    "# Define the value mapping for replacement\n",
    "replacement_mapping = {\n",
    "    'y': 1,\n",
    "    'n': 0,\n",
    "    'unknown': np.nan,\n",
    "    '?': np.nan\n",
    "}\n",
    "\n",
    "# Call the function to replace values in the specified columns\n",
    "df_votings_replaced = replace_values(df_votings, replace_value_columns, replacement_mapping)\n",
    "df_votings_infer_replaced = replace_values(df_votings_infer, replace_value_columns_infer, replacement_mapping)\n",
    "\n",
    "print(summarize_missing(df_votings_replaced))"
   ]
  },
  {
   "cell_type": "markdown",
   "id": "ba950d5a",
   "metadata": {},
   "source": [
    "### 2.2.2 Handle Missing Values"
   ]
  },
  {
   "cell_type": "code",
   "execution_count": 83,
   "id": "45878309",
   "metadata": {},
   "outputs": [
    {
     "name": "stdout",
     "output_type": "stream",
     "text": [
      "                                   missing_count  missing_pct\n",
      "ID                                             0          0.0\n",
      "class                                          0          0.0\n",
      "handicapped-infants                            0          0.0\n",
      "water-project-cost-sharing                     0          0.0\n",
      "adoption-of-the-budget-resolution              0          0.0\n",
      "physician-fee-freeze                           0          0.0\n",
      "el-salvador-aid                                0          0.0\n",
      "religious-groups-in-schools                    0          0.0\n",
      "anti-satellite-test-ban                        0          0.0\n",
      "aid-to-nicaraguan-contras                      0          0.0\n",
      "mx-missile                                     0          0.0\n",
      "immigration                                    0          0.0\n",
      "synfuels-crporation-cutback                    0          0.0\n",
      "education-spending                             0          0.0\n",
      "superfund-right-to-sue                         0          0.0\n",
      "crime                                          0          0.0\n",
      "duty-free-exports                              0          0.0\n"
     ]
    }
   ],
   "source": [
    "# 2. Drop columns that have more than 20% missing values\n",
    "df1 = drop_columns_missing(df_votings_replaced, threshold=0.20)\n",
    "\n",
    "# 3. Drop rows that have more than 30% missing values\n",
    "df2 = drop_rows_missing(df1, threshold=0.30)\n",
    "\n",
    "# 4. Impute missing values in the voting-related columns using the mode (most frequent value)\n",
    "vote_cols = [c for c in df2.columns if c not in ['ID', 'class']]  # Define the columns to impute\n",
    "df_votings_cleaned = impute_mode(df2, columns=vote_cols)\n",
    "\n",
    "#  5. Summarize the missing values for the dataset\n",
    "print(summarize_missing(df_votings_cleaned))"
   ]
  },
  {
   "cell_type": "code",
   "execution_count": 84,
   "id": "e69942f4",
   "metadata": {},
   "outputs": [
    {
     "name": "stdout",
     "output_type": "stream",
     "text": [
      "                                   missing_count  missing_pct\n",
      "ID                                             0     0.000000\n",
      "handicapped-infants                            8     3.686636\n",
      "water-project-cost-sharing                    20     9.216590\n",
      "adoption-of-the-budget-resolution              3     1.382488\n",
      "physician-fee-freeze                           5     2.304147\n",
      "el-salvador-aid                                8     3.686636\n",
      "religious-groups-in-schools                    5     2.304147\n",
      "anti-satellite-test-ban                        7     3.225806\n",
      "aid-to-nicaraguan-contras                      3     1.382488\n",
      "mx-missile                                    14     6.451613\n",
      "immigration                                    4     1.843318\n",
      "synfuels-crporation-cutback                   11     5.069124\n",
      "education-spending                            13     5.990783\n",
      "superfund-right-to-sue                         9     4.147465\n",
      "crime                                          6     2.764977\n",
      "duty-free-exports                             14     6.451613\n"
     ]
    }
   ],
   "source": [
    "# 2. Drop columns that have more than 20% missing values\n",
    "df1_infer = drop_columns_missing(df_votings_infer_replaced, threshold=0.20)\n",
    "\n",
    "\n",
    "df_votings_cleaned_infer = df1_infer\n",
    "\n",
    "#  5. Summarize the missing values for the dataset\n",
    "print(summarize_missing(df_votings_cleaned_infer))"
   ]
  },
  {
   "cell_type": "markdown",
   "id": "65fe38b1",
   "metadata": {},
   "source": [
    "## 2.3 Data Analysis"
   ]
  },
  {
   "cell_type": "markdown",
   "id": "0e9c6447",
   "metadata": {},
   "source": [
    "### 2.3.1 Distribution of Votes by Party"
   ]
  },
  {
   "cell_type": "code",
   "execution_count": 85,
   "id": "831526a4",
   "metadata": {},
   "outputs": [],
   "source": [
    "\n",
    "def plot_vote_distribution(df) -> None:\n",
    "    \"\"\"\n",
    "    Plot the distribution of votes for a specific party.\n",
    "    \n",
    "    Parameters:\n",
    "    df (DataFrame): The DataFrame containing voting data.\n",
    "    party (str): The party to plot ('democrat' or 'republican').\n",
    "    \n",
    "    Returns:\n",
    "    None\n",
    "    \"\"\"\n",
    "    # Selecting all columns except \"ID\" and \"class\" for voting-related columns\n",
    "    vote_cols = [c for c in df.columns if c not in [\"ID\", \"class\"]]\n",
    "\n",
    "    # Defining the grid size for subplots (4 rows and 4 columns)\n",
    "    rows = 4\n",
    "    cols = 4\n",
    "    # Titles for each subplot will be the names of the voting columns\n",
    "    subplot_titles = vote_cols\n",
    "\n",
    "    # Create a subplot figure with the specified number of rows and columns\n",
    "    fig = make_subplots(\n",
    "        rows=rows, \n",
    "        cols=cols, \n",
    "        subplot_titles=subplot_titles,      # Setting titles for each subplot\n",
    "        vertical_spacing=0.1,               # Vertical spacing between subplots\n",
    "        horizontal_spacing=0.05             # Horizontal spacing between subplots  \n",
    "    )\n",
    "\n",
    "    # Loop through each of the voting columns to create a subplot for each\n",
    "    for idx, col in enumerate(vote_cols, 1):\n",
    "        # Determine the row and column position for each subplot based on index\n",
    "        row = (idx-1)//cols + 1\n",
    "        col_pos = (idx-1)%cols + 1\n",
    "        \n",
    "        # Calculate the normalized voting proportions for the \"Democrat\" class in the current column\n",
    "        democrat_counts = df[df[\"class\"] == \"democrat\"][col].value_counts(normalize=True)\n",
    "\n",
    "        # Calculate the normalized voting proportions for the \"Republican\" class in the current column\n",
    "        republican_counts = df[df[\"class\"] == \"republican\"][col].value_counts(normalize=True)\n",
    "        \n",
    "        # Add a bar trace for Democrat votes in the current subplot (row, col)\n",
    "        fig.add_trace(\n",
    "            go.Bar(\n",
    "                x=democrat_counts.index,        # Categories of votes (e.g., Yes, No, etc.)\n",
    "                y=democrat_counts.values,       # Proportion of votes for each category\n",
    "                name=\"Democrat\",                # Label for the Democrat party in the legend\n",
    "                marker_color=\"blue\",            # Blue color for the Democrat bars\n",
    "                showlegend=(idx == 1)           # Show the legend only for the first subplot\n",
    "            ),\n",
    "            row=row,            # Position the plot at the correct row\n",
    "            col=col_pos         # Position the plot at the correct column\n",
    "        )\n",
    "    \n",
    "        # Add a bar trace for Republican votes in the current subplot (row, col)\n",
    "        fig.add_trace(\n",
    "            go.Bar(\n",
    "                x=republican_counts.index,      # Categories of votes (e.g., Yes, No, etc.)\n",
    "                y=republican_counts.values,     # Proportion of votes for each category\n",
    "                name=\"Republican\",              # Label for the Republican party in the legend\n",
    "                marker_color=\"red\",             # Red color for the Republican bars\n",
    "                showlegend=(idx == 1)           # Show the legend only for the first subplot\n",
    "            ),\n",
    "            row=row,        # Position the plot at the correct row\n",
    "            col=col_pos     # Position the plot at the correct column\n",
    "        )\n",
    "\n",
    "    # Update the layout of the figure to include a title and adjust the overall look\n",
    "    fig.update_layout(\n",
    "        height=1200, \n",
    "        width=1200,\n",
    "        title_text=\"Distribution of Votes by Party in %\",\n",
    "        bargap=0.2,\n",
    "        legend=dict(orientation=\"h\", yanchor=\"bottom\", y=1.02)  # Position the legend horizontally above the subplots\n",
    "    )\n",
    "\n",
    "    # Update the x and y axis labels for each subplot\n",
    "    for i in range(1, rows * cols + 1):\n",
    "        # Remove x-axis titles (no need for titles in these bar plots)\n",
    "        fig.update_xaxes(title_text=\"\", row=(i - 1) // cols + 1, col=(i - 1) % cols + 1)\n",
    "        # Set y-axis label to \"Proportion\" for all subplots\n",
    "        fig.update_yaxes(title_text=\"Proportion\", row=(i - 1) // cols + 1, col=(i - 1) % cols + 1)\n",
    "\n",
    "    # Display the figure\n",
    "    fig.show()"
   ]
  },
  {
   "cell_type": "code",
   "execution_count": 86,
   "id": "7508af44",
   "metadata": {},
   "outputs": [
    {
     "data": {
      "application/vnd.plotly.v1+json": {
       "config": {
        "plotlyServerURL": "https://plot.ly"
       },
       "data": [
        {
         "marker": {
          "color": "blue"
         },
         "name": "Democrat",
         "showlegend": true,
         "type": "bar",
         "x": [
          "y",
          "n",
          "unknown"
         ],
         "xaxis": "x",
         "y": {
          "bdata": "Op1Op9Pp5D8qlUqlUqnUPwwGg8FgMJg/",
          "dtype": "f8"
         },
         "yaxis": "y"
        },
        {
         "marker": {
          "color": "red"
         },
         "name": "Republican",
         "showlegend": true,
         "type": "bar",
         "x": [
          "n",
          "y",
          "unknown"
         ],
         "xaxis": "x",
         "y": {
          "bdata": "mH7pl37p5z8f7/Ee7/HOPxdogRZogYY/",
          "dtype": "f8"
         },
         "yaxis": "y"
        },
        {
         "marker": {
          "color": "blue"
         },
         "name": "Democrat",
         "showlegend": false,
         "type": "bar",
         "x": [
          "n",
          "y",
          "unknown"
         ],
         "xaxis": "x2",
         "y": {
          "bdata": "LpfL5XK53D/udrvdbrfbP4/H4/F4PL4/",
          "dtype": "f8"
         },
         "yaxis": "y2"
        },
        {
         "marker": {
          "color": "red"
         },
         "name": "Republican",
         "showlegend": false,
         "type": "bar",
         "x": [
          "y",
          "n",
          "unknown"
         ],
         "xaxis": "x2",
         "y": {
          "bdata": "YPqlX/ql3z9XczVXczXXP5IkSZIkScI/",
          "dtype": "f8"
         },
         "yaxis": "y2"
        },
        {
         "marker": {
          "color": "blue"
         },
         "name": "Democrat",
         "showlegend": false,
         "type": "bar",
         "x": [
          "y",
          "n",
          "unknown"
         ],
         "xaxis": "x3",
         "y": {
          "bdata": "Ho/H4/F47D8IBAKBQCCwPwwGg8FgMKg/",
          "dtype": "f8"
         },
         "yaxis": "y3"
        },
        {
         "marker": {
          "color": "red"
         },
         "name": "Republican",
         "showlegend": false,
         "type": "bar",
         "x": [
          "n",
          "y",
          "unknown"
         ],
         "xaxis": "x3",
         "y": {
          "bdata": "fLzHe7zH6z8cwiEcwiG8PxdogRZogZY/",
          "dtype": "f8"
         },
         "yaxis": "y3"
        },
        {
         "marker": {
          "color": "blue"
         },
         "name": "Democrat",
         "showlegend": false,
         "type": "bar",
         "x": [
          "n",
          "y",
          "unknown"
         ],
         "xaxis": "x4",
         "y": {
          "bdata": "X6/X6/V67T8KhUKhUCikPwqFQqFQKKQ/",
          "dtype": "f8"
         },
         "yaxis": "y4"
        },
        {
         "marker": {
          "color": "red"
         },
         "name": "Republican",
         "showlegend": false,
         "type": "bar",
         "x": [
          "y",
          "n",
          "unknown"
         ],
         "xaxis": "x4",
         "y": {
          "bdata": "H+/xHu/x7j8XaIEWaIGWPxdogRZogYY/",
          "dtype": "f8"
         },
         "yaxis": "y4"
        },
        {
         "marker": {
          "color": "blue"
         },
         "name": "Democrat",
         "showlegend": false,
         "type": "bar",
         "x": [
          "n",
          "y",
          "unknown"
         ],
         "xaxis": "x5",
         "y": {
          "bdata": "TSaTyWQy6T9LpVKpVCrFPwwGg8FgMKg/",
          "dtype": "f8"
         },
         "yaxis": "y5"
        },
        {
         "marker": {
          "color": "red"
         },
         "name": "Republican",
         "showlegend": false,
         "type": "bar",
         "x": [
          "y",
          "n",
          "unknown"
         ],
         "xaxis": "x5",
         "y": {
          "bdata": "3uM93uM97j8XaIEWaIGmPxdogRZogYY/",
          "dtype": "f8"
         },
         "yaxis": "y5"
        },
        {
         "marker": {
          "color": "blue"
         },
         "name": "Democrat",
         "showlegend": false,
         "type": "bar",
         "x": [
          "n",
          "y",
          "unknown"
         ],
         "xaxis": "x6",
         "y": {
          "bdata": "WSwWi8Vi4T+tVqvVarXaPwqFQqFQKKQ/",
          "dtype": "f8"
         },
         "yaxis": "y6"
        },
        {
         "marker": {
          "color": "red"
         },
         "name": "Republican",
         "showlegend": false,
         "type": "bar",
         "x": [
          "y",
          "n",
          "unknown"
         ],
         "xaxis": "x6",
         "y": {
          "bdata": "/dIv/dIv7T8UO7ETO7GzPxdogRZogYY/",
          "dtype": "f8"
         },
         "yaxis": "y6"
        },
        {
         "marker": {
          "color": "blue"
         },
         "name": "Democrat",
         "showlegend": false,
         "type": "bar",
         "x": [
          "y",
          "n",
          "unknown"
         ],
         "xaxis": "x7",
         "y": {
          "bdata": "LBaLxWKx6D9NJpPJZDLJPwgEAoFAIKA/",
          "dtype": "f8"
         },
         "yaxis": "y7"
        },
        {
         "marker": {
          "color": "red"
         },
         "name": "Republican",
         "showlegend": false,
         "type": "bar",
         "x": [
          "n",
          "y",
          "unknown"
         ],
         "xaxis": "x7",
         "y": {
          "bdata": "mH7pl37p5z8cwiEcwiHMPxEO4RAO4aA/",
          "dtype": "f8"
         },
         "yaxis": "y7"
        },
        {
         "marker": {
          "color": "blue"
         },
         "name": "Democrat",
         "showlegend": false,
         "type": "bar",
         "x": [
          "y",
          "n",
          "unknown"
         ],
         "xaxis": "x8",
         "y": {
          "bdata": "vV6v1+v16j9JJBKJRCLBPwwGg8FgMJg/",
          "dtype": "f8"
         },
         "yaxis": "y8"
        },
        {
         "marker": {
          "color": "red"
         },
         "name": "Republican",
         "showlegend": false,
         "type": "bar",
         "x": [
          "n",
          "y",
          "unknown"
         ],
         "xaxis": "x8",
         "y": {
          "bdata": "GZVRGZVR6T8cwiEcwiG8PxmVURmVUbk/",
          "dtype": "f8"
         },
         "yaxis": "y8"
        },
        {
         "marker": {
          "color": "blue"
         },
         "name": "Democrat",
         "showlegend": false,
         "type": "bar",
         "x": [
          "y",
          "n",
          "unknown"
         ],
         "xaxis": "x9",
         "y": {
          "bdata": "3O12u91u5z/OZrPZbDbLPw6Hw+FwOKw/",
          "dtype": "f8"
         },
         "yaxis": "y9"
        },
        {
         "marker": {
          "color": "red"
         },
         "name": "Republican",
         "showlegend": false,
         "type": "bar",
         "x": [
          "n",
          "y",
          "unknown"
         ],
         "xaxis": "x9",
         "y": {
          "bdata": "HMIhHMIh7D8cwiEcwiG8PxdogRZogYY/",
          "dtype": "f8"
         },
         "yaxis": "y9"
        },
        {
         "marker": {
          "color": "blue"
         },
         "name": "Democrat",
         "showlegend": false,
         "type": "bar",
         "x": [
          "n",
          "y",
          "unknown"
         ],
         "xaxis": "x10",
         "y": {
          "bdata": "eTwej8fj4T/OZrPZbDbbPwgEAoFAIJA/",
          "dtype": "f8"
         },
         "yaxis": "y10"
        },
        {
         "marker": {
          "color": "red"
         },
         "name": "Republican",
         "showlegend": false,
         "type": "bar",
         "x": [
          "n",
          "y",
          "unknown"
         ],
         "xaxis": "x10",
         "y": {
          "bdata": "YPqlX/ql3z9g+qVf+qXfPxdogRZogYY/",
          "dtype": "f8"
         },
         "yaxis": "y10"
        },
        {
         "marker": {
          "color": "blue"
         },
         "name": "Democrat",
         "showlegend": false,
         "type": "bar",
         "x": [
          "n",
          "y",
          "unknown"
         ],
         "xaxis": "x11",
         "y": {
          "bdata": "r9fr9Xq93j+Px+PxeDzePwwGg8FgMKg/",
          "dtype": "f8"
         },
         "yaxis": "y11"
        },
        {
         "marker": {
          "color": "red"
         },
         "name": "Republican",
         "showlegend": false,
         "type": "bar",
         "x": [
          "n",
          "y",
          "unknown"
         ],
         "xaxis": "x11",
         "y": {
          "bdata": "upqruZqr6T8UO7ETO7HDPxdogRZogaY/",
          "dtype": "f8"
         },
         "yaxis": "y11"
        },
        {
         "marker": {
          "color": "blue"
         },
         "name": "Democrat",
         "showlegend": false,
         "type": "bar",
         "x": [
          "n",
          "y",
          "unknown"
         ],
         "xaxis": "x12",
         "y": {
          "bdata": "fT6fz+fz6T+NRqPRaDS6P4vFYrFYLLY/",
          "dtype": "f8"
         },
         "yaxis": "y12"
        },
        {
         "marker": {
          "color": "red"
         },
         "name": "Republican",
         "showlegend": false,
         "type": "bar",
         "x": [
          "y",
          "n",
          "unknown"
         ],
         "xaxis": "x12",
         "y": {
          "bdata": "upqruZqr6T8f7/Ee7/G+PxQ7sRM7sbM/",
          "dtype": "f8"
         },
         "yaxis": "y12"
        },
        {
         "marker": {
          "color": "blue"
         },
         "name": "Democrat",
         "showlegend": false,
         "type": "bar",
         "x": [
          "n",
          "y",
          "unknown"
         ],
         "xaxis": "x13",
         "y": {
          "bdata": "Op1Op9Pp5D+JRCKRSCTSPwgEAoFAILA/",
          "dtype": "f8"
         },
         "yaxis": "y13"
        },
        {
         "marker": {
          "color": "red"
         },
         "name": "Republican",
         "showlegend": false,
         "type": "bar",
         "x": [
          "y",
          "n",
          "unknown"
         ],
         "xaxis": "x13",
         "y": {
          "bdata": "WqAFWqAF6j8ZlVEZlVG5PxdogRZogbY/",
          "dtype": "f8"
         },
         "yaxis": "y13"
        },
        {
         "marker": {
          "color": "blue"
         },
         "name": "Democrat",
         "showlegend": false,
         "type": "bar",
         "x": [
          "n",
          "y",
          "unknown"
         ],
         "xaxis": "x14",
         "y": {
          "bdata": "KpVKpVKp5D8KhUKhUCjUPwqFQqFQKKQ/",
          "dtype": "f8"
         },
         "yaxis": "y14"
        },
        {
         "marker": {
          "color": "red"
         },
         "name": "Republican",
         "showlegend": false,
         "type": "bar",
         "x": [
          "y",
          "unknown",
          "n"
         ],
         "xaxis": "x14",
         "y": {
          "bdata": "/dIv/dIv7T8RDuEQDuGwPxdogRZogZY/",
          "dtype": "f8"
         },
         "yaxis": "y14"
        },
        {
         "marker": {
          "color": "blue"
         },
         "name": "Democrat",
         "showlegend": false,
         "type": "bar",
         "x": [
          "y",
          "n",
          "unknown"
         ],
         "xaxis": "x15",
         "y": {
          "bdata": "CoVCoVAo5D8qlUqlUqnUPwwGg8FgMKg/",
          "dtype": "f8"
         },
         "yaxis": "y15"
        },
        {
         "marker": {
          "color": "red"
         },
         "name": "Republican",
         "showlegend": false,
         "type": "bar",
         "x": [
          "n",
          "unknown",
          "y"
         ],
         "xaxis": "x15",
         "y": {
          "bdata": "+qVf+qVf6j8XaIEWaIG2PxdogRZogbY/",
          "dtype": "f8"
         },
         "yaxis": "y15"
        },
        {
         "marker": {
          "color": "blue"
         },
         "name": "Democrat",
         "showlegend": false,
         "type": "bar",
         "x": [
          "y",
          "unknown",
          "n"
         ],
         "xaxis": "x16",
         "y": {
          "bdata": "KpVKpVKp5D8qlUqlUqnUPwgEAoFAIKA/",
          "dtype": "f8"
         },
         "yaxis": "y16"
        },
        {
         "marker": {
          "color": "red"
         },
         "name": "Republican",
         "showlegend": false,
         "type": "bar",
         "x": [
          "y",
          "n",
          "unknown"
         ],
         "xaxis": "x16",
         "y": {
          "bdata": "MyqjMiqj4j9SGZVRGZXRP5IkSZIkScI/",
          "dtype": "f8"
         },
         "yaxis": "y16"
        }
       ],
       "layout": {
        "annotations": [
         {
          "font": {
           "size": 16
          },
          "showarrow": false,
          "text": "handicapped-infants",
          "x": 0.10625,
          "xanchor": "center",
          "xref": "paper",
          "y": 1,
          "yanchor": "bottom",
          "yref": "paper"
         },
         {
          "font": {
           "size": 16
          },
          "showarrow": false,
          "text": "water-project-cost-sharing",
          "x": 0.36875,
          "xanchor": "center",
          "xref": "paper",
          "y": 1,
          "yanchor": "bottom",
          "yref": "paper"
         },
         {
          "font": {
           "size": 16
          },
          "showarrow": false,
          "text": "adoption-of-the-budget-resolution",
          "x": 0.6312500000000001,
          "xanchor": "center",
          "xref": "paper",
          "y": 1,
          "yanchor": "bottom",
          "yref": "paper"
         },
         {
          "font": {
           "size": 16
          },
          "showarrow": false,
          "text": "physician-fee-freeze",
          "x": 0.89375,
          "xanchor": "center",
          "xref": "paper",
          "y": 1,
          "yanchor": "bottom",
          "yref": "paper"
         },
         {
          "font": {
           "size": 16
          },
          "showarrow": false,
          "text": "el-salvador-aid",
          "x": 0.10625,
          "xanchor": "center",
          "xref": "paper",
          "y": 0.7250000000000001,
          "yanchor": "bottom",
          "yref": "paper"
         },
         {
          "font": {
           "size": 16
          },
          "showarrow": false,
          "text": "religious-groups-in-schools",
          "x": 0.36875,
          "xanchor": "center",
          "xref": "paper",
          "y": 0.7250000000000001,
          "yanchor": "bottom",
          "yref": "paper"
         },
         {
          "font": {
           "size": 16
          },
          "showarrow": false,
          "text": "anti-satellite-test-ban",
          "x": 0.6312500000000001,
          "xanchor": "center",
          "xref": "paper",
          "y": 0.7250000000000001,
          "yanchor": "bottom",
          "yref": "paper"
         },
         {
          "font": {
           "size": 16
          },
          "showarrow": false,
          "text": "aid-to-nicaraguan-contras",
          "x": 0.89375,
          "xanchor": "center",
          "xref": "paper",
          "y": 0.7250000000000001,
          "yanchor": "bottom",
          "yref": "paper"
         },
         {
          "font": {
           "size": 16
          },
          "showarrow": false,
          "text": "mx-missile",
          "x": 0.10625,
          "xanchor": "center",
          "xref": "paper",
          "y": 0.45,
          "yanchor": "bottom",
          "yref": "paper"
         },
         {
          "font": {
           "size": 16
          },
          "showarrow": false,
          "text": "immigration",
          "x": 0.36875,
          "xanchor": "center",
          "xref": "paper",
          "y": 0.45,
          "yanchor": "bottom",
          "yref": "paper"
         },
         {
          "font": {
           "size": 16
          },
          "showarrow": false,
          "text": "synfuels-crporation-cutback",
          "x": 0.6312500000000001,
          "xanchor": "center",
          "xref": "paper",
          "y": 0.45,
          "yanchor": "bottom",
          "yref": "paper"
         },
         {
          "font": {
           "size": 16
          },
          "showarrow": false,
          "text": "education-spending",
          "x": 0.89375,
          "xanchor": "center",
          "xref": "paper",
          "y": 0.45,
          "yanchor": "bottom",
          "yref": "paper"
         },
         {
          "font": {
           "size": 16
          },
          "showarrow": false,
          "text": "superfund-right-to-sue",
          "x": 0.10625,
          "xanchor": "center",
          "xref": "paper",
          "y": 0.175,
          "yanchor": "bottom",
          "yref": "paper"
         },
         {
          "font": {
           "size": 16
          },
          "showarrow": false,
          "text": "crime",
          "x": 0.36875,
          "xanchor": "center",
          "xref": "paper",
          "y": 0.175,
          "yanchor": "bottom",
          "yref": "paper"
         },
         {
          "font": {
           "size": 16
          },
          "showarrow": false,
          "text": "duty-free-exports",
          "x": 0.6312500000000001,
          "xanchor": "center",
          "xref": "paper",
          "y": 0.175,
          "yanchor": "bottom",
          "yref": "paper"
         },
         {
          "font": {
           "size": 16
          },
          "showarrow": false,
          "text": "export-administration-act-south-africa",
          "x": 0.89375,
          "xanchor": "center",
          "xref": "paper",
          "y": 0.175,
          "yanchor": "bottom",
          "yref": "paper"
         }
        ],
        "bargap": 0.2,
        "height": 1200,
        "legend": {
         "orientation": "h",
         "y": 1.02,
         "yanchor": "bottom"
        },
        "template": {
         "data": {
          "bar": [
           {
            "error_x": {
             "color": "#2a3f5f"
            },
            "error_y": {
             "color": "#2a3f5f"
            },
            "marker": {
             "line": {
              "color": "#E5ECF6",
              "width": 0.5
             },
             "pattern": {
              "fillmode": "overlay",
              "size": 10,
              "solidity": 0.2
             }
            },
            "type": "bar"
           }
          ],
          "barpolar": [
           {
            "marker": {
             "line": {
              "color": "#E5ECF6",
              "width": 0.5
             },
             "pattern": {
              "fillmode": "overlay",
              "size": 10,
              "solidity": 0.2
             }
            },
            "type": "barpolar"
           }
          ],
          "carpet": [
           {
            "aaxis": {
             "endlinecolor": "#2a3f5f",
             "gridcolor": "white",
             "linecolor": "white",
             "minorgridcolor": "white",
             "startlinecolor": "#2a3f5f"
            },
            "baxis": {
             "endlinecolor": "#2a3f5f",
             "gridcolor": "white",
             "linecolor": "white",
             "minorgridcolor": "white",
             "startlinecolor": "#2a3f5f"
            },
            "type": "carpet"
           }
          ],
          "choropleth": [
           {
            "colorbar": {
             "outlinewidth": 0,
             "ticks": ""
            },
            "type": "choropleth"
           }
          ],
          "contour": [
           {
            "colorbar": {
             "outlinewidth": 0,
             "ticks": ""
            },
            "colorscale": [
             [
              0,
              "#0d0887"
             ],
             [
              0.1111111111111111,
              "#46039f"
             ],
             [
              0.2222222222222222,
              "#7201a8"
             ],
             [
              0.3333333333333333,
              "#9c179e"
             ],
             [
              0.4444444444444444,
              "#bd3786"
             ],
             [
              0.5555555555555556,
              "#d8576b"
             ],
             [
              0.6666666666666666,
              "#ed7953"
             ],
             [
              0.7777777777777778,
              "#fb9f3a"
             ],
             [
              0.8888888888888888,
              "#fdca26"
             ],
             [
              1,
              "#f0f921"
             ]
            ],
            "type": "contour"
           }
          ],
          "contourcarpet": [
           {
            "colorbar": {
             "outlinewidth": 0,
             "ticks": ""
            },
            "type": "contourcarpet"
           }
          ],
          "heatmap": [
           {
            "colorbar": {
             "outlinewidth": 0,
             "ticks": ""
            },
            "colorscale": [
             [
              0,
              "#0d0887"
             ],
             [
              0.1111111111111111,
              "#46039f"
             ],
             [
              0.2222222222222222,
              "#7201a8"
             ],
             [
              0.3333333333333333,
              "#9c179e"
             ],
             [
              0.4444444444444444,
              "#bd3786"
             ],
             [
              0.5555555555555556,
              "#d8576b"
             ],
             [
              0.6666666666666666,
              "#ed7953"
             ],
             [
              0.7777777777777778,
              "#fb9f3a"
             ],
             [
              0.8888888888888888,
              "#fdca26"
             ],
             [
              1,
              "#f0f921"
             ]
            ],
            "type": "heatmap"
           }
          ],
          "histogram": [
           {
            "marker": {
             "pattern": {
              "fillmode": "overlay",
              "size": 10,
              "solidity": 0.2
             }
            },
            "type": "histogram"
           }
          ],
          "histogram2d": [
           {
            "colorbar": {
             "outlinewidth": 0,
             "ticks": ""
            },
            "colorscale": [
             [
              0,
              "#0d0887"
             ],
             [
              0.1111111111111111,
              "#46039f"
             ],
             [
              0.2222222222222222,
              "#7201a8"
             ],
             [
              0.3333333333333333,
              "#9c179e"
             ],
             [
              0.4444444444444444,
              "#bd3786"
             ],
             [
              0.5555555555555556,
              "#d8576b"
             ],
             [
              0.6666666666666666,
              "#ed7953"
             ],
             [
              0.7777777777777778,
              "#fb9f3a"
             ],
             [
              0.8888888888888888,
              "#fdca26"
             ],
             [
              1,
              "#f0f921"
             ]
            ],
            "type": "histogram2d"
           }
          ],
          "histogram2dcontour": [
           {
            "colorbar": {
             "outlinewidth": 0,
             "ticks": ""
            },
            "colorscale": [
             [
              0,
              "#0d0887"
             ],
             [
              0.1111111111111111,
              "#46039f"
             ],
             [
              0.2222222222222222,
              "#7201a8"
             ],
             [
              0.3333333333333333,
              "#9c179e"
             ],
             [
              0.4444444444444444,
              "#bd3786"
             ],
             [
              0.5555555555555556,
              "#d8576b"
             ],
             [
              0.6666666666666666,
              "#ed7953"
             ],
             [
              0.7777777777777778,
              "#fb9f3a"
             ],
             [
              0.8888888888888888,
              "#fdca26"
             ],
             [
              1,
              "#f0f921"
             ]
            ],
            "type": "histogram2dcontour"
           }
          ],
          "mesh3d": [
           {
            "colorbar": {
             "outlinewidth": 0,
             "ticks": ""
            },
            "type": "mesh3d"
           }
          ],
          "parcoords": [
           {
            "line": {
             "colorbar": {
              "outlinewidth": 0,
              "ticks": ""
             }
            },
            "type": "parcoords"
           }
          ],
          "pie": [
           {
            "automargin": true,
            "type": "pie"
           }
          ],
          "scatter": [
           {
            "fillpattern": {
             "fillmode": "overlay",
             "size": 10,
             "solidity": 0.2
            },
            "type": "scatter"
           }
          ],
          "scatter3d": [
           {
            "line": {
             "colorbar": {
              "outlinewidth": 0,
              "ticks": ""
             }
            },
            "marker": {
             "colorbar": {
              "outlinewidth": 0,
              "ticks": ""
             }
            },
            "type": "scatter3d"
           }
          ],
          "scattercarpet": [
           {
            "marker": {
             "colorbar": {
              "outlinewidth": 0,
              "ticks": ""
             }
            },
            "type": "scattercarpet"
           }
          ],
          "scattergeo": [
           {
            "marker": {
             "colorbar": {
              "outlinewidth": 0,
              "ticks": ""
             }
            },
            "type": "scattergeo"
           }
          ],
          "scattergl": [
           {
            "marker": {
             "colorbar": {
              "outlinewidth": 0,
              "ticks": ""
             }
            },
            "type": "scattergl"
           }
          ],
          "scattermap": [
           {
            "marker": {
             "colorbar": {
              "outlinewidth": 0,
              "ticks": ""
             }
            },
            "type": "scattermap"
           }
          ],
          "scattermapbox": [
           {
            "marker": {
             "colorbar": {
              "outlinewidth": 0,
              "ticks": ""
             }
            },
            "type": "scattermapbox"
           }
          ],
          "scatterpolar": [
           {
            "marker": {
             "colorbar": {
              "outlinewidth": 0,
              "ticks": ""
             }
            },
            "type": "scatterpolar"
           }
          ],
          "scatterpolargl": [
           {
            "marker": {
             "colorbar": {
              "outlinewidth": 0,
              "ticks": ""
             }
            },
            "type": "scatterpolargl"
           }
          ],
          "scatterternary": [
           {
            "marker": {
             "colorbar": {
              "outlinewidth": 0,
              "ticks": ""
             }
            },
            "type": "scatterternary"
           }
          ],
          "surface": [
           {
            "colorbar": {
             "outlinewidth": 0,
             "ticks": ""
            },
            "colorscale": [
             [
              0,
              "#0d0887"
             ],
             [
              0.1111111111111111,
              "#46039f"
             ],
             [
              0.2222222222222222,
              "#7201a8"
             ],
             [
              0.3333333333333333,
              "#9c179e"
             ],
             [
              0.4444444444444444,
              "#bd3786"
             ],
             [
              0.5555555555555556,
              "#d8576b"
             ],
             [
              0.6666666666666666,
              "#ed7953"
             ],
             [
              0.7777777777777778,
              "#fb9f3a"
             ],
             [
              0.8888888888888888,
              "#fdca26"
             ],
             [
              1,
              "#f0f921"
             ]
            ],
            "type": "surface"
           }
          ],
          "table": [
           {
            "cells": {
             "fill": {
              "color": "#EBF0F8"
             },
             "line": {
              "color": "white"
             }
            },
            "header": {
             "fill": {
              "color": "#C8D4E3"
             },
             "line": {
              "color": "white"
             }
            },
            "type": "table"
           }
          ]
         },
         "layout": {
          "annotationdefaults": {
           "arrowcolor": "#2a3f5f",
           "arrowhead": 0,
           "arrowwidth": 1
          },
          "autotypenumbers": "strict",
          "coloraxis": {
           "colorbar": {
            "outlinewidth": 0,
            "ticks": ""
           }
          },
          "colorscale": {
           "diverging": [
            [
             0,
             "#8e0152"
            ],
            [
             0.1,
             "#c51b7d"
            ],
            [
             0.2,
             "#de77ae"
            ],
            [
             0.3,
             "#f1b6da"
            ],
            [
             0.4,
             "#fde0ef"
            ],
            [
             0.5,
             "#f7f7f7"
            ],
            [
             0.6,
             "#e6f5d0"
            ],
            [
             0.7,
             "#b8e186"
            ],
            [
             0.8,
             "#7fbc41"
            ],
            [
             0.9,
             "#4d9221"
            ],
            [
             1,
             "#276419"
            ]
           ],
           "sequential": [
            [
             0,
             "#0d0887"
            ],
            [
             0.1111111111111111,
             "#46039f"
            ],
            [
             0.2222222222222222,
             "#7201a8"
            ],
            [
             0.3333333333333333,
             "#9c179e"
            ],
            [
             0.4444444444444444,
             "#bd3786"
            ],
            [
             0.5555555555555556,
             "#d8576b"
            ],
            [
             0.6666666666666666,
             "#ed7953"
            ],
            [
             0.7777777777777778,
             "#fb9f3a"
            ],
            [
             0.8888888888888888,
             "#fdca26"
            ],
            [
             1,
             "#f0f921"
            ]
           ],
           "sequentialminus": [
            [
             0,
             "#0d0887"
            ],
            [
             0.1111111111111111,
             "#46039f"
            ],
            [
             0.2222222222222222,
             "#7201a8"
            ],
            [
             0.3333333333333333,
             "#9c179e"
            ],
            [
             0.4444444444444444,
             "#bd3786"
            ],
            [
             0.5555555555555556,
             "#d8576b"
            ],
            [
             0.6666666666666666,
             "#ed7953"
            ],
            [
             0.7777777777777778,
             "#fb9f3a"
            ],
            [
             0.8888888888888888,
             "#fdca26"
            ],
            [
             1,
             "#f0f921"
            ]
           ]
          },
          "colorway": [
           "#636efa",
           "#EF553B",
           "#00cc96",
           "#ab63fa",
           "#FFA15A",
           "#19d3f3",
           "#FF6692",
           "#B6E880",
           "#FF97FF",
           "#FECB52"
          ],
          "font": {
           "color": "#2a3f5f"
          },
          "geo": {
           "bgcolor": "white",
           "lakecolor": "white",
           "landcolor": "#E5ECF6",
           "showlakes": true,
           "showland": true,
           "subunitcolor": "white"
          },
          "hoverlabel": {
           "align": "left"
          },
          "hovermode": "closest",
          "mapbox": {
           "style": "light"
          },
          "paper_bgcolor": "white",
          "plot_bgcolor": "#E5ECF6",
          "polar": {
           "angularaxis": {
            "gridcolor": "white",
            "linecolor": "white",
            "ticks": ""
           },
           "bgcolor": "#E5ECF6",
           "radialaxis": {
            "gridcolor": "white",
            "linecolor": "white",
            "ticks": ""
           }
          },
          "scene": {
           "xaxis": {
            "backgroundcolor": "#E5ECF6",
            "gridcolor": "white",
            "gridwidth": 2,
            "linecolor": "white",
            "showbackground": true,
            "ticks": "",
            "zerolinecolor": "white"
           },
           "yaxis": {
            "backgroundcolor": "#E5ECF6",
            "gridcolor": "white",
            "gridwidth": 2,
            "linecolor": "white",
            "showbackground": true,
            "ticks": "",
            "zerolinecolor": "white"
           },
           "zaxis": {
            "backgroundcolor": "#E5ECF6",
            "gridcolor": "white",
            "gridwidth": 2,
            "linecolor": "white",
            "showbackground": true,
            "ticks": "",
            "zerolinecolor": "white"
           }
          },
          "shapedefaults": {
           "line": {
            "color": "#2a3f5f"
           }
          },
          "ternary": {
           "aaxis": {
            "gridcolor": "white",
            "linecolor": "white",
            "ticks": ""
           },
           "baxis": {
            "gridcolor": "white",
            "linecolor": "white",
            "ticks": ""
           },
           "bgcolor": "#E5ECF6",
           "caxis": {
            "gridcolor": "white",
            "linecolor": "white",
            "ticks": ""
           }
          },
          "title": {
           "x": 0.05
          },
          "xaxis": {
           "automargin": true,
           "gridcolor": "white",
           "linecolor": "white",
           "ticks": "",
           "title": {
            "standoff": 15
           },
           "zerolinecolor": "white",
           "zerolinewidth": 2
          },
          "yaxis": {
           "automargin": true,
           "gridcolor": "white",
           "linecolor": "white",
           "ticks": "",
           "title": {
            "standoff": 15
           },
           "zerolinecolor": "white",
           "zerolinewidth": 2
          }
         }
        },
        "title": {
         "text": "Distribution of Votes by Party in %"
        },
        "width": 1200,
        "xaxis": {
         "anchor": "y",
         "domain": [
          0,
          0.2125
         ],
         "title": {
          "text": ""
         }
        },
        "xaxis10": {
         "anchor": "y10",
         "domain": [
          0.2625,
          0.475
         ],
         "title": {
          "text": ""
         }
        },
        "xaxis11": {
         "anchor": "y11",
         "domain": [
          0.525,
          0.7375
         ],
         "title": {
          "text": ""
         }
        },
        "xaxis12": {
         "anchor": "y12",
         "domain": [
          0.7875,
          1
         ],
         "title": {
          "text": ""
         }
        },
        "xaxis13": {
         "anchor": "y13",
         "domain": [
          0,
          0.2125
         ],
         "title": {
          "text": ""
         }
        },
        "xaxis14": {
         "anchor": "y14",
         "domain": [
          0.2625,
          0.475
         ],
         "title": {
          "text": ""
         }
        },
        "xaxis15": {
         "anchor": "y15",
         "domain": [
          0.525,
          0.7375
         ],
         "title": {
          "text": ""
         }
        },
        "xaxis16": {
         "anchor": "y16",
         "domain": [
          0.7875,
          1
         ],
         "title": {
          "text": ""
         }
        },
        "xaxis2": {
         "anchor": "y2",
         "domain": [
          0.2625,
          0.475
         ],
         "title": {
          "text": ""
         }
        },
        "xaxis3": {
         "anchor": "y3",
         "domain": [
          0.525,
          0.7375
         ],
         "title": {
          "text": ""
         }
        },
        "xaxis4": {
         "anchor": "y4",
         "domain": [
          0.7875,
          1
         ],
         "title": {
          "text": ""
         }
        },
        "xaxis5": {
         "anchor": "y5",
         "domain": [
          0,
          0.2125
         ],
         "title": {
          "text": ""
         }
        },
        "xaxis6": {
         "anchor": "y6",
         "domain": [
          0.2625,
          0.475
         ],
         "title": {
          "text": ""
         }
        },
        "xaxis7": {
         "anchor": "y7",
         "domain": [
          0.525,
          0.7375
         ],
         "title": {
          "text": ""
         }
        },
        "xaxis8": {
         "anchor": "y8",
         "domain": [
          0.7875,
          1
         ],
         "title": {
          "text": ""
         }
        },
        "xaxis9": {
         "anchor": "y9",
         "domain": [
          0,
          0.2125
         ],
         "title": {
          "text": ""
         }
        },
        "yaxis": {
         "anchor": "x",
         "domain": [
          0.825,
          1
         ],
         "title": {
          "text": "Proportion"
         }
        },
        "yaxis10": {
         "anchor": "x10",
         "domain": [
          0.275,
          0.45
         ],
         "title": {
          "text": "Proportion"
         }
        },
        "yaxis11": {
         "anchor": "x11",
         "domain": [
          0.275,
          0.45
         ],
         "title": {
          "text": "Proportion"
         }
        },
        "yaxis12": {
         "anchor": "x12",
         "domain": [
          0.275,
          0.45
         ],
         "title": {
          "text": "Proportion"
         }
        },
        "yaxis13": {
         "anchor": "x13",
         "domain": [
          0,
          0.175
         ],
         "title": {
          "text": "Proportion"
         }
        },
        "yaxis14": {
         "anchor": "x14",
         "domain": [
          0,
          0.175
         ],
         "title": {
          "text": "Proportion"
         }
        },
        "yaxis15": {
         "anchor": "x15",
         "domain": [
          0,
          0.175
         ],
         "title": {
          "text": "Proportion"
         }
        },
        "yaxis16": {
         "anchor": "x16",
         "domain": [
          0,
          0.175
         ],
         "title": {
          "text": "Proportion"
         }
        },
        "yaxis2": {
         "anchor": "x2",
         "domain": [
          0.825,
          1
         ],
         "title": {
          "text": "Proportion"
         }
        },
        "yaxis3": {
         "anchor": "x3",
         "domain": [
          0.825,
          1
         ],
         "title": {
          "text": "Proportion"
         }
        },
        "yaxis4": {
         "anchor": "x4",
         "domain": [
          0.825,
          1
         ],
         "title": {
          "text": "Proportion"
         }
        },
        "yaxis5": {
         "anchor": "x5",
         "domain": [
          0.55,
          0.7250000000000001
         ],
         "title": {
          "text": "Proportion"
         }
        },
        "yaxis6": {
         "anchor": "x6",
         "domain": [
          0.55,
          0.7250000000000001
         ],
         "title": {
          "text": "Proportion"
         }
        },
        "yaxis7": {
         "anchor": "x7",
         "domain": [
          0.55,
          0.7250000000000001
         ],
         "title": {
          "text": "Proportion"
         }
        },
        "yaxis8": {
         "anchor": "x8",
         "domain": [
          0.55,
          0.7250000000000001
         ],
         "title": {
          "text": "Proportion"
         }
        },
        "yaxis9": {
         "anchor": "x9",
         "domain": [
          0.275,
          0.45
         ],
         "title": {
          "text": "Proportion"
         }
        }
       }
      }
     },
     "metadata": {},
     "output_type": "display_data"
    }
   ],
   "source": [
    "plot_vote_distribution(df_votings)"
   ]
  },
  {
   "cell_type": "code",
   "execution_count": 87,
   "id": "9084479f",
   "metadata": {},
   "outputs": [
    {
     "data": {
      "application/vnd.plotly.v1+json": {
       "config": {
        "plotlyServerURL": "https://plot.ly"
       },
       "data": [
        {
         "marker": {
          "color": "blue"
         },
         "name": "Democrat",
         "showlegend": true,
         "type": "bar",
         "x": {
          "bdata": "AAAAAAAA8D8AAAAAAAAAAA==",
          "dtype": "f8"
         },
         "xaxis": "x",
         "y": {
          "bdata": "RVEURVEU5T92Xdd1XdfVPw==",
          "dtype": "f8"
         },
         "yaxis": "y"
        },
        {
         "marker": {
          "color": "red"
         },
         "name": "Republican",
         "showlegend": true,
         "type": "bar",
         "x": {
          "bdata": "AAAAAAAAAAAAAAAAAADwPw==",
          "dtype": "f8"
         },
         "xaxis": "x",
         "y": {
          "bdata": "gQtc4AIX6D/60Y9+9KPPPw==",
          "dtype": "f8"
         },
         "yaxis": "y"
        },
        {
         "marker": {
          "color": "blue"
         },
         "name": "Democrat",
         "showlegend": false,
         "type": "bar",
         "x": {
          "bdata": "AAAAAAAA8D8AAAAAAAAAAA==",
          "dtype": "f8"
         },
         "xaxis": "x2",
         "y": {
          "bdata": "YhiGYRiG4T89z/M8z/PcPw==",
          "dtype": "f8"
         },
         "yaxis": "y2"
        },
        {
         "marker": {
          "color": "red"
         },
         "name": "Republican",
         "showlegend": false,
         "type": "bar",
         "x": {
          "bdata": "AAAAAAAA8D8AAAAAAAAAAA==",
          "dtype": "f8"
         },
         "xaxis": "x2",
         "y": {
          "bdata": "QhGKUIQi5D983ete97rXPw==",
          "dtype": "f8"
         },
         "yaxis": "y2"
        },
        {
         "marker": {
          "color": "blue"
         },
         "name": "Democrat",
         "showlegend": false,
         "type": "bar",
         "x": {
          "bdata": "AAAAAAAA8D8AAAAAAAAAAA==",
          "dtype": "f8"
         },
         "xaxis": "x3",
         "y": {
          "bdata": "ft/3fd/37T8QBEEQBEGwPw==",
          "dtype": "f8"
         },
         "yaxis": "y3"
        },
        {
         "marker": {
          "color": "red"
         },
         "name": "Republican",
         "showlegend": false,
         "type": "bar",
         "x": {
          "bdata": "AAAAAAAAAAAAAAAAAADwPw==",
          "dtype": "f8"
         },
         "xaxis": "x3",
         "y": {
          "bdata": "wQUucIEL7D/60Y9+9KO/Pw==",
          "dtype": "f8"
         },
         "yaxis": "y3"
        },
        {
         "marker": {
          "color": "blue"
         },
         "name": "Democrat",
         "showlegend": false,
         "type": "bar",
         "x": {
          "bdata": "AAAAAAAAAAAAAAAAAADwPw==",
          "dtype": "f8"
         },
         "xaxis": "x4",
         "y": {
          "bdata": "r+u6ruu67j8URVEURVGkPw==",
          "dtype": "f8"
         },
         "yaxis": "y4"
        },
        {
         "marker": {
          "color": "red"
         },
         "name": "Republican",
         "showlegend": false,
         "type": "bar",
         "x": {
          "bdata": "AAAAAAAA8D8AAAAAAAAAAA==",
          "dtype": "f8"
         },
         "xaxis": "x4",
         "y": {
          "bdata": "9KMf/ehH7z9wgQtc4AKXPw==",
          "dtype": "f8"
         },
         "yaxis": "y4"
        },
        {
         "marker": {
          "color": "blue"
         },
         "name": "Democrat",
         "showlegend": false,
         "type": "bar",
         "x": {
          "bdata": "AAAAAAAAAAAAAAAAAADwPw==",
          "dtype": "f8"
         },
         "xaxis": "x5",
         "y": {
          "bdata": "WZZlWZZl6T+apmmapmnKPw==",
          "dtype": "f8"
         },
         "yaxis": "y5"
        },
        {
         "marker": {
          "color": "red"
         },
         "name": "Republican",
         "showlegend": false,
         "type": "bar",
         "x": {
          "bdata": "AAAAAAAA8D8AAAAAAAAAAA==",
          "dtype": "f8"
         },
         "xaxis": "x5",
         "y": {
          "bdata": "6Uc/+tGP7j9wgQtc4AKnPw==",
          "dtype": "f8"
         },
         "yaxis": "y5"
        },
        {
         "marker": {
          "color": "blue"
         },
         "name": "Democrat",
         "showlegend": false,
         "type": "bar",
         "x": {
          "bdata": "AAAAAAAAAAAAAAAAAADwPw==",
          "dtype": "f8"
         },
         "xaxis": "x6",
         "y": {
          "bdata": "YhiGYRiG4T89z/M8z/PcPw==",
          "dtype": "f8"
         },
         "yaxis": "y6"
        },
        {
         "marker": {
          "color": "red"
         },
         "name": "Republican",
         "showlegend": false,
         "type": "bar",
         "x": {
          "bdata": "AAAAAAAA8D8AAAAAAAAAAA==",
          "dtype": "f8"
         },
         "xaxis": "x6",
         "y": {
          "bdata": "2L3uda977T9CEYpQhCK0Pw==",
          "dtype": "f8"
         },
         "yaxis": "y6"
        },
        {
         "marker": {
          "color": "blue"
         },
         "name": "Democrat",
         "showlegend": false,
         "type": "bar",
         "x": {
          "bdata": "AAAAAAAA8D8AAAAAAAAAAA==",
          "dtype": "f8"
         },
         "xaxis": "x7",
         "y": {
          "bdata": "apqmaZqm6T9ZlmVZlmXJPw==",
          "dtype": "f8"
         },
         "yaxis": "y7"
        },
        {
         "marker": {
          "color": "red"
         },
         "name": "Republican",
         "showlegend": false,
         "type": "bar",
         "x": {
          "bdata": "AAAAAAAAAAAAAAAAAADwPw==",
          "dtype": "f8"
         },
         "xaxis": "x7",
         "y": {
          "bdata": "hznMYQ5z6D/jGc94xjPOPw==",
          "dtype": "f8"
         },
         "yaxis": "y7"
        },
        {
         "marker": {
          "color": "blue"
         },
         "name": "Democrat",
         "showlegend": false,
         "type": "bar",
         "x": {
          "bdata": "AAAAAAAA8D8AAAAAAAAAAA==",
          "dtype": "f8"
         },
         "xaxis": "x8",
         "y": {
          "bdata": "7Lqu67qu6z9RFEVRFEXBPw==",
          "dtype": "f8"
         },
         "yaxis": "y8"
        },
        {
         "marker": {
          "color": "red"
         },
         "name": "Republican",
         "showlegend": false,
         "type": "bar",
         "x": {
          "bdata": "AAAAAAAAAAAAAAAAAADwPw==",
          "dtype": "f8"
         },
         "xaxis": "x8",
         "y": {
          "bdata": "nvGMZzzj6T+HOcxhDnPIPw==",
          "dtype": "f8"
         },
         "yaxis": "y8"
        },
        {
         "marker": {
          "color": "blue"
         },
         "name": "Democrat",
         "showlegend": false,
         "type": "bar",
         "x": {
          "bdata": "AAAAAAAA8D8AAAAAAAAAAA==",
          "dtype": "f8"
         },
         "xaxis": "x9",
         "y": {
          "bdata": "13Vd13Vd5z9RFEVRFEXRPw==",
          "dtype": "f8"
         },
         "yaxis": "y9"
        },
        {
         "marker": {
          "color": "red"
         },
         "name": "Republican",
         "showlegend": false,
         "type": "bar",
         "x": {
          "bdata": "AAAAAAAAAAAAAAAAAADwPw==",
          "dtype": "f8"
         },
         "xaxis": "x9",
         "y": {
          "bdata": "xjOe8Yxn7D/MYQ5zmMO8Pw==",
          "dtype": "f8"
         },
         "yaxis": "y9"
        },
        {
         "marker": {
          "color": "blue"
         },
         "name": "Democrat",
         "showlegend": false,
         "type": "bar",
         "x": {
          "bdata": "AAAAAAAAAAAAAAAAAADwPw==",
          "dtype": "f8"
         },
         "xaxis": "x10",
         "y": {
          "bdata": "kiRJkiRJ4j/btm3btm3bPw==",
          "dtype": "f8"
         },
         "yaxis": "y10"
        },
        {
         "marker": {
          "color": "red"
         },
         "name": "Republican",
         "showlegend": false,
         "type": "bar",
         "x": {
          "bdata": "AAAAAAAA8D8AAAAAAAAAAA==",
          "dtype": "f8"
         },
         "xaxis": "x10",
         "y": {
          "bdata": "Axe4wAUu4D/60Y9+9KPfPw==",
          "dtype": "f8"
         },
         "yaxis": "y10"
        },
        {
         "marker": {
          "color": "blue"
         },
         "name": "Democrat",
         "showlegend": false,
         "type": "bar",
         "x": {
          "bdata": "AAAAAAAAAAAAAAAAAADwPw==",
          "dtype": "f8"
         },
         "xaxis": "x11",
         "y": {
          "bdata": "MQzDMAzD4D+e53me53nePw==",
          "dtype": "f8"
         },
         "yaxis": "y11"
        },
        {
         "marker": {
          "color": "red"
         },
         "name": "Republican",
         "showlegend": false,
         "type": "bar",
         "x": {
          "bdata": "AAAAAAAAAAAAAAAAAADwPw==",
          "dtype": "f8"
         },
         "xaxis": "x11",
         "y": {
          "bdata": "r3vd61736j9CEYpQhCLEPw==",
          "dtype": "f8"
         },
         "yaxis": "y11"
        },
        {
         "marker": {
          "color": "blue"
         },
         "name": "Democrat",
         "showlegend": false,
         "type": "bar",
         "x": {
          "bdata": "AAAAAAAAAAAAAAAAAADwPw==",
          "dtype": "f8"
         },
         "xaxis": "x12",
         "y": {
          "bdata": "LcuyLMuy7D+apmmapmm6Pw==",
          "dtype": "f8"
         },
         "yaxis": "y12"
        },
        {
         "marker": {
          "color": "red"
         },
         "name": "Republican",
         "showlegend": false,
         "type": "bar",
         "x": {
          "bdata": "AAAAAAAA8D8AAAAAAAAAAA==",
          "dtype": "f8"
         },
         "xaxis": "x12",
         "y": {
          "bdata": "pB/96Ec/6j9wgQtc4ALHPw==",
          "dtype": "f8"
         },
         "yaxis": "y12"
        },
        {
         "marker": {
          "color": "blue"
         },
         "name": "Democrat",
         "showlegend": false,
         "type": "bar",
         "x": {
          "bdata": "AAAAAAAAAAAAAAAAAADwPw==",
          "dtype": "f8"
         },
         "xaxis": "x13",
         "y": {
          "bdata": "RVEURVEU5T92Xdd1XdfVPw==",
          "dtype": "f8"
         },
         "yaxis": "y13"
        },
        {
         "marker": {
          "color": "red"
         },
         "name": "Republican",
         "showlegend": false,
         "type": "bar",
         "x": {
          "bdata": "AAAAAAAA8D8AAAAAAAAAAA==",
          "dtype": "f8"
         },
         "xaxis": "x13",
         "y": {
          "bdata": "zGEOc5jD7D+e8YxnPOO5Pw==",
          "dtype": "f8"
         },
         "yaxis": "y13"
        },
        {
         "marker": {
          "color": "blue"
         },
         "name": "Democrat",
         "showlegend": false,
         "type": "bar",
         "x": {
          "bdata": "AAAAAAAAAAAAAAAAAADwPw==",
          "dtype": "f8"
         },
         "xaxis": "x14",
         "y": {
          "bdata": "NU3TNE3T5D+WZVmWZVnWPw==",
          "dtype": "f8"
         },
         "yaxis": "y14"
        },
        {
         "marker": {
          "color": "red"
         },
         "name": "Republican",
         "showlegend": false,
         "type": "bar",
         "x": {
          "bdata": "AAAAAAAA8D8AAAAAAAAAAA==",
          "dtype": "f8"
         },
         "xaxis": "x14",
         "y": {
          "bdata": "9KMf/ehH7z9wgQtc4AKXPw==",
          "dtype": "f8"
         },
         "yaxis": "y14"
        },
        {
         "marker": {
          "color": "blue"
         },
         "name": "Democrat",
         "showlegend": false,
         "type": "bar",
         "x": {
          "bdata": "AAAAAAAA8D8AAAAAAAAAAA==",
          "dtype": "f8"
         },
         "xaxis": "x15",
         "y": {
          "bdata": "FEVRFEVR5D/XdV3XdV3XPw==",
          "dtype": "f8"
         },
         "yaxis": "y15"
        },
        {
         "marker": {
          "color": "red"
         },
         "name": "Republican",
         "showlegend": false,
         "type": "bar",
         "x": {
          "bdata": "AAAAAAAAAAAAAAAAAADwPw==",
          "dtype": "f8"
         },
         "xaxis": "x15",
         "y": {
          "bdata": "0o9+9KMf7T9wgQtc4AK3Pw==",
          "dtype": "f8"
         },
         "yaxis": "y15"
        }
       ],
       "layout": {
        "annotations": [
         {
          "font": {
           "size": 16
          },
          "showarrow": false,
          "text": "handicapped-infants",
          "x": 0.10625,
          "xanchor": "center",
          "xref": "paper",
          "y": 1,
          "yanchor": "bottom",
          "yref": "paper"
         },
         {
          "font": {
           "size": 16
          },
          "showarrow": false,
          "text": "water-project-cost-sharing",
          "x": 0.36875,
          "xanchor": "center",
          "xref": "paper",
          "y": 1,
          "yanchor": "bottom",
          "yref": "paper"
         },
         {
          "font": {
           "size": 16
          },
          "showarrow": false,
          "text": "adoption-of-the-budget-resolution",
          "x": 0.6312500000000001,
          "xanchor": "center",
          "xref": "paper",
          "y": 1,
          "yanchor": "bottom",
          "yref": "paper"
         },
         {
          "font": {
           "size": 16
          },
          "showarrow": false,
          "text": "physician-fee-freeze",
          "x": 0.89375,
          "xanchor": "center",
          "xref": "paper",
          "y": 1,
          "yanchor": "bottom",
          "yref": "paper"
         },
         {
          "font": {
           "size": 16
          },
          "showarrow": false,
          "text": "el-salvador-aid",
          "x": 0.10625,
          "xanchor": "center",
          "xref": "paper",
          "y": 0.7250000000000001,
          "yanchor": "bottom",
          "yref": "paper"
         },
         {
          "font": {
           "size": 16
          },
          "showarrow": false,
          "text": "religious-groups-in-schools",
          "x": 0.36875,
          "xanchor": "center",
          "xref": "paper",
          "y": 0.7250000000000001,
          "yanchor": "bottom",
          "yref": "paper"
         },
         {
          "font": {
           "size": 16
          },
          "showarrow": false,
          "text": "anti-satellite-test-ban",
          "x": 0.6312500000000001,
          "xanchor": "center",
          "xref": "paper",
          "y": 0.7250000000000001,
          "yanchor": "bottom",
          "yref": "paper"
         },
         {
          "font": {
           "size": 16
          },
          "showarrow": false,
          "text": "aid-to-nicaraguan-contras",
          "x": 0.89375,
          "xanchor": "center",
          "xref": "paper",
          "y": 0.7250000000000001,
          "yanchor": "bottom",
          "yref": "paper"
         },
         {
          "font": {
           "size": 16
          },
          "showarrow": false,
          "text": "mx-missile",
          "x": 0.10625,
          "xanchor": "center",
          "xref": "paper",
          "y": 0.45,
          "yanchor": "bottom",
          "yref": "paper"
         },
         {
          "font": {
           "size": 16
          },
          "showarrow": false,
          "text": "immigration",
          "x": 0.36875,
          "xanchor": "center",
          "xref": "paper",
          "y": 0.45,
          "yanchor": "bottom",
          "yref": "paper"
         },
         {
          "font": {
           "size": 16
          },
          "showarrow": false,
          "text": "synfuels-crporation-cutback",
          "x": 0.6312500000000001,
          "xanchor": "center",
          "xref": "paper",
          "y": 0.45,
          "yanchor": "bottom",
          "yref": "paper"
         },
         {
          "font": {
           "size": 16
          },
          "showarrow": false,
          "text": "education-spending",
          "x": 0.89375,
          "xanchor": "center",
          "xref": "paper",
          "y": 0.45,
          "yanchor": "bottom",
          "yref": "paper"
         },
         {
          "font": {
           "size": 16
          },
          "showarrow": false,
          "text": "superfund-right-to-sue",
          "x": 0.10625,
          "xanchor": "center",
          "xref": "paper",
          "y": 0.175,
          "yanchor": "bottom",
          "yref": "paper"
         },
         {
          "font": {
           "size": 16
          },
          "showarrow": false,
          "text": "crime",
          "x": 0.36875,
          "xanchor": "center",
          "xref": "paper",
          "y": 0.175,
          "yanchor": "bottom",
          "yref": "paper"
         },
         {
          "font": {
           "size": 16
          },
          "showarrow": false,
          "text": "duty-free-exports",
          "x": 0.6312500000000001,
          "xanchor": "center",
          "xref": "paper",
          "y": 0.175,
          "yanchor": "bottom",
          "yref": "paper"
         }
        ],
        "bargap": 0.2,
        "height": 1200,
        "legend": {
         "orientation": "h",
         "y": 1.02,
         "yanchor": "bottom"
        },
        "template": {
         "data": {
          "bar": [
           {
            "error_x": {
             "color": "#2a3f5f"
            },
            "error_y": {
             "color": "#2a3f5f"
            },
            "marker": {
             "line": {
              "color": "#E5ECF6",
              "width": 0.5
             },
             "pattern": {
              "fillmode": "overlay",
              "size": 10,
              "solidity": 0.2
             }
            },
            "type": "bar"
           }
          ],
          "barpolar": [
           {
            "marker": {
             "line": {
              "color": "#E5ECF6",
              "width": 0.5
             },
             "pattern": {
              "fillmode": "overlay",
              "size": 10,
              "solidity": 0.2
             }
            },
            "type": "barpolar"
           }
          ],
          "carpet": [
           {
            "aaxis": {
             "endlinecolor": "#2a3f5f",
             "gridcolor": "white",
             "linecolor": "white",
             "minorgridcolor": "white",
             "startlinecolor": "#2a3f5f"
            },
            "baxis": {
             "endlinecolor": "#2a3f5f",
             "gridcolor": "white",
             "linecolor": "white",
             "minorgridcolor": "white",
             "startlinecolor": "#2a3f5f"
            },
            "type": "carpet"
           }
          ],
          "choropleth": [
           {
            "colorbar": {
             "outlinewidth": 0,
             "ticks": ""
            },
            "type": "choropleth"
           }
          ],
          "contour": [
           {
            "colorbar": {
             "outlinewidth": 0,
             "ticks": ""
            },
            "colorscale": [
             [
              0,
              "#0d0887"
             ],
             [
              0.1111111111111111,
              "#46039f"
             ],
             [
              0.2222222222222222,
              "#7201a8"
             ],
             [
              0.3333333333333333,
              "#9c179e"
             ],
             [
              0.4444444444444444,
              "#bd3786"
             ],
             [
              0.5555555555555556,
              "#d8576b"
             ],
             [
              0.6666666666666666,
              "#ed7953"
             ],
             [
              0.7777777777777778,
              "#fb9f3a"
             ],
             [
              0.8888888888888888,
              "#fdca26"
             ],
             [
              1,
              "#f0f921"
             ]
            ],
            "type": "contour"
           }
          ],
          "contourcarpet": [
           {
            "colorbar": {
             "outlinewidth": 0,
             "ticks": ""
            },
            "type": "contourcarpet"
           }
          ],
          "heatmap": [
           {
            "colorbar": {
             "outlinewidth": 0,
             "ticks": ""
            },
            "colorscale": [
             [
              0,
              "#0d0887"
             ],
             [
              0.1111111111111111,
              "#46039f"
             ],
             [
              0.2222222222222222,
              "#7201a8"
             ],
             [
              0.3333333333333333,
              "#9c179e"
             ],
             [
              0.4444444444444444,
              "#bd3786"
             ],
             [
              0.5555555555555556,
              "#d8576b"
             ],
             [
              0.6666666666666666,
              "#ed7953"
             ],
             [
              0.7777777777777778,
              "#fb9f3a"
             ],
             [
              0.8888888888888888,
              "#fdca26"
             ],
             [
              1,
              "#f0f921"
             ]
            ],
            "type": "heatmap"
           }
          ],
          "histogram": [
           {
            "marker": {
             "pattern": {
              "fillmode": "overlay",
              "size": 10,
              "solidity": 0.2
             }
            },
            "type": "histogram"
           }
          ],
          "histogram2d": [
           {
            "colorbar": {
             "outlinewidth": 0,
             "ticks": ""
            },
            "colorscale": [
             [
              0,
              "#0d0887"
             ],
             [
              0.1111111111111111,
              "#46039f"
             ],
             [
              0.2222222222222222,
              "#7201a8"
             ],
             [
              0.3333333333333333,
              "#9c179e"
             ],
             [
              0.4444444444444444,
              "#bd3786"
             ],
             [
              0.5555555555555556,
              "#d8576b"
             ],
             [
              0.6666666666666666,
              "#ed7953"
             ],
             [
              0.7777777777777778,
              "#fb9f3a"
             ],
             [
              0.8888888888888888,
              "#fdca26"
             ],
             [
              1,
              "#f0f921"
             ]
            ],
            "type": "histogram2d"
           }
          ],
          "histogram2dcontour": [
           {
            "colorbar": {
             "outlinewidth": 0,
             "ticks": ""
            },
            "colorscale": [
             [
              0,
              "#0d0887"
             ],
             [
              0.1111111111111111,
              "#46039f"
             ],
             [
              0.2222222222222222,
              "#7201a8"
             ],
             [
              0.3333333333333333,
              "#9c179e"
             ],
             [
              0.4444444444444444,
              "#bd3786"
             ],
             [
              0.5555555555555556,
              "#d8576b"
             ],
             [
              0.6666666666666666,
              "#ed7953"
             ],
             [
              0.7777777777777778,
              "#fb9f3a"
             ],
             [
              0.8888888888888888,
              "#fdca26"
             ],
             [
              1,
              "#f0f921"
             ]
            ],
            "type": "histogram2dcontour"
           }
          ],
          "mesh3d": [
           {
            "colorbar": {
             "outlinewidth": 0,
             "ticks": ""
            },
            "type": "mesh3d"
           }
          ],
          "parcoords": [
           {
            "line": {
             "colorbar": {
              "outlinewidth": 0,
              "ticks": ""
             }
            },
            "type": "parcoords"
           }
          ],
          "pie": [
           {
            "automargin": true,
            "type": "pie"
           }
          ],
          "scatter": [
           {
            "fillpattern": {
             "fillmode": "overlay",
             "size": 10,
             "solidity": 0.2
            },
            "type": "scatter"
           }
          ],
          "scatter3d": [
           {
            "line": {
             "colorbar": {
              "outlinewidth": 0,
              "ticks": ""
             }
            },
            "marker": {
             "colorbar": {
              "outlinewidth": 0,
              "ticks": ""
             }
            },
            "type": "scatter3d"
           }
          ],
          "scattercarpet": [
           {
            "marker": {
             "colorbar": {
              "outlinewidth": 0,
              "ticks": ""
             }
            },
            "type": "scattercarpet"
           }
          ],
          "scattergeo": [
           {
            "marker": {
             "colorbar": {
              "outlinewidth": 0,
              "ticks": ""
             }
            },
            "type": "scattergeo"
           }
          ],
          "scattergl": [
           {
            "marker": {
             "colorbar": {
              "outlinewidth": 0,
              "ticks": ""
             }
            },
            "type": "scattergl"
           }
          ],
          "scattermap": [
           {
            "marker": {
             "colorbar": {
              "outlinewidth": 0,
              "ticks": ""
             }
            },
            "type": "scattermap"
           }
          ],
          "scattermapbox": [
           {
            "marker": {
             "colorbar": {
              "outlinewidth": 0,
              "ticks": ""
             }
            },
            "type": "scattermapbox"
           }
          ],
          "scatterpolar": [
           {
            "marker": {
             "colorbar": {
              "outlinewidth": 0,
              "ticks": ""
             }
            },
            "type": "scatterpolar"
           }
          ],
          "scatterpolargl": [
           {
            "marker": {
             "colorbar": {
              "outlinewidth": 0,
              "ticks": ""
             }
            },
            "type": "scatterpolargl"
           }
          ],
          "scatterternary": [
           {
            "marker": {
             "colorbar": {
              "outlinewidth": 0,
              "ticks": ""
             }
            },
            "type": "scatterternary"
           }
          ],
          "surface": [
           {
            "colorbar": {
             "outlinewidth": 0,
             "ticks": ""
            },
            "colorscale": [
             [
              0,
              "#0d0887"
             ],
             [
              0.1111111111111111,
              "#46039f"
             ],
             [
              0.2222222222222222,
              "#7201a8"
             ],
             [
              0.3333333333333333,
              "#9c179e"
             ],
             [
              0.4444444444444444,
              "#bd3786"
             ],
             [
              0.5555555555555556,
              "#d8576b"
             ],
             [
              0.6666666666666666,
              "#ed7953"
             ],
             [
              0.7777777777777778,
              "#fb9f3a"
             ],
             [
              0.8888888888888888,
              "#fdca26"
             ],
             [
              1,
              "#f0f921"
             ]
            ],
            "type": "surface"
           }
          ],
          "table": [
           {
            "cells": {
             "fill": {
              "color": "#EBF0F8"
             },
             "line": {
              "color": "white"
             }
            },
            "header": {
             "fill": {
              "color": "#C8D4E3"
             },
             "line": {
              "color": "white"
             }
            },
            "type": "table"
           }
          ]
         },
         "layout": {
          "annotationdefaults": {
           "arrowcolor": "#2a3f5f",
           "arrowhead": 0,
           "arrowwidth": 1
          },
          "autotypenumbers": "strict",
          "coloraxis": {
           "colorbar": {
            "outlinewidth": 0,
            "ticks": ""
           }
          },
          "colorscale": {
           "diverging": [
            [
             0,
             "#8e0152"
            ],
            [
             0.1,
             "#c51b7d"
            ],
            [
             0.2,
             "#de77ae"
            ],
            [
             0.3,
             "#f1b6da"
            ],
            [
             0.4,
             "#fde0ef"
            ],
            [
             0.5,
             "#f7f7f7"
            ],
            [
             0.6,
             "#e6f5d0"
            ],
            [
             0.7,
             "#b8e186"
            ],
            [
             0.8,
             "#7fbc41"
            ],
            [
             0.9,
             "#4d9221"
            ],
            [
             1,
             "#276419"
            ]
           ],
           "sequential": [
            [
             0,
             "#0d0887"
            ],
            [
             0.1111111111111111,
             "#46039f"
            ],
            [
             0.2222222222222222,
             "#7201a8"
            ],
            [
             0.3333333333333333,
             "#9c179e"
            ],
            [
             0.4444444444444444,
             "#bd3786"
            ],
            [
             0.5555555555555556,
             "#d8576b"
            ],
            [
             0.6666666666666666,
             "#ed7953"
            ],
            [
             0.7777777777777778,
             "#fb9f3a"
            ],
            [
             0.8888888888888888,
             "#fdca26"
            ],
            [
             1,
             "#f0f921"
            ]
           ],
           "sequentialminus": [
            [
             0,
             "#0d0887"
            ],
            [
             0.1111111111111111,
             "#46039f"
            ],
            [
             0.2222222222222222,
             "#7201a8"
            ],
            [
             0.3333333333333333,
             "#9c179e"
            ],
            [
             0.4444444444444444,
             "#bd3786"
            ],
            [
             0.5555555555555556,
             "#d8576b"
            ],
            [
             0.6666666666666666,
             "#ed7953"
            ],
            [
             0.7777777777777778,
             "#fb9f3a"
            ],
            [
             0.8888888888888888,
             "#fdca26"
            ],
            [
             1,
             "#f0f921"
            ]
           ]
          },
          "colorway": [
           "#636efa",
           "#EF553B",
           "#00cc96",
           "#ab63fa",
           "#FFA15A",
           "#19d3f3",
           "#FF6692",
           "#B6E880",
           "#FF97FF",
           "#FECB52"
          ],
          "font": {
           "color": "#2a3f5f"
          },
          "geo": {
           "bgcolor": "white",
           "lakecolor": "white",
           "landcolor": "#E5ECF6",
           "showlakes": true,
           "showland": true,
           "subunitcolor": "white"
          },
          "hoverlabel": {
           "align": "left"
          },
          "hovermode": "closest",
          "mapbox": {
           "style": "light"
          },
          "paper_bgcolor": "white",
          "plot_bgcolor": "#E5ECF6",
          "polar": {
           "angularaxis": {
            "gridcolor": "white",
            "linecolor": "white",
            "ticks": ""
           },
           "bgcolor": "#E5ECF6",
           "radialaxis": {
            "gridcolor": "white",
            "linecolor": "white",
            "ticks": ""
           }
          },
          "scene": {
           "xaxis": {
            "backgroundcolor": "#E5ECF6",
            "gridcolor": "white",
            "gridwidth": 2,
            "linecolor": "white",
            "showbackground": true,
            "ticks": "",
            "zerolinecolor": "white"
           },
           "yaxis": {
            "backgroundcolor": "#E5ECF6",
            "gridcolor": "white",
            "gridwidth": 2,
            "linecolor": "white",
            "showbackground": true,
            "ticks": "",
            "zerolinecolor": "white"
           },
           "zaxis": {
            "backgroundcolor": "#E5ECF6",
            "gridcolor": "white",
            "gridwidth": 2,
            "linecolor": "white",
            "showbackground": true,
            "ticks": "",
            "zerolinecolor": "white"
           }
          },
          "shapedefaults": {
           "line": {
            "color": "#2a3f5f"
           }
          },
          "ternary": {
           "aaxis": {
            "gridcolor": "white",
            "linecolor": "white",
            "ticks": ""
           },
           "baxis": {
            "gridcolor": "white",
            "linecolor": "white",
            "ticks": ""
           },
           "bgcolor": "#E5ECF6",
           "caxis": {
            "gridcolor": "white",
            "linecolor": "white",
            "ticks": ""
           }
          },
          "title": {
           "x": 0.05
          },
          "xaxis": {
           "automargin": true,
           "gridcolor": "white",
           "linecolor": "white",
           "ticks": "",
           "title": {
            "standoff": 15
           },
           "zerolinecolor": "white",
           "zerolinewidth": 2
          },
          "yaxis": {
           "automargin": true,
           "gridcolor": "white",
           "linecolor": "white",
           "ticks": "",
           "title": {
            "standoff": 15
           },
           "zerolinecolor": "white",
           "zerolinewidth": 2
          }
         }
        },
        "title": {
         "text": "Distribution of Votes by Party in %"
        },
        "width": 1200,
        "xaxis": {
         "anchor": "y",
         "domain": [
          0,
          0.2125
         ],
         "title": {
          "text": ""
         }
        },
        "xaxis10": {
         "anchor": "y10",
         "domain": [
          0.2625,
          0.475
         ],
         "title": {
          "text": ""
         }
        },
        "xaxis11": {
         "anchor": "y11",
         "domain": [
          0.525,
          0.7375
         ],
         "title": {
          "text": ""
         }
        },
        "xaxis12": {
         "anchor": "y12",
         "domain": [
          0.7875,
          1
         ],
         "title": {
          "text": ""
         }
        },
        "xaxis13": {
         "anchor": "y13",
         "domain": [
          0,
          0.2125
         ],
         "title": {
          "text": ""
         }
        },
        "xaxis14": {
         "anchor": "y14",
         "domain": [
          0.2625,
          0.475
         ],
         "title": {
          "text": ""
         }
        },
        "xaxis15": {
         "anchor": "y15",
         "domain": [
          0.525,
          0.7375
         ],
         "title": {
          "text": ""
         }
        },
        "xaxis16": {
         "anchor": "y16",
         "domain": [
          0.7875,
          1
         ],
         "title": {
          "text": ""
         }
        },
        "xaxis2": {
         "anchor": "y2",
         "domain": [
          0.2625,
          0.475
         ],
         "title": {
          "text": ""
         }
        },
        "xaxis3": {
         "anchor": "y3",
         "domain": [
          0.525,
          0.7375
         ],
         "title": {
          "text": ""
         }
        },
        "xaxis4": {
         "anchor": "y4",
         "domain": [
          0.7875,
          1
         ],
         "title": {
          "text": ""
         }
        },
        "xaxis5": {
         "anchor": "y5",
         "domain": [
          0,
          0.2125
         ],
         "title": {
          "text": ""
         }
        },
        "xaxis6": {
         "anchor": "y6",
         "domain": [
          0.2625,
          0.475
         ],
         "title": {
          "text": ""
         }
        },
        "xaxis7": {
         "anchor": "y7",
         "domain": [
          0.525,
          0.7375
         ],
         "title": {
          "text": ""
         }
        },
        "xaxis8": {
         "anchor": "y8",
         "domain": [
          0.7875,
          1
         ],
         "title": {
          "text": ""
         }
        },
        "xaxis9": {
         "anchor": "y9",
         "domain": [
          0,
          0.2125
         ],
         "title": {
          "text": ""
         }
        },
        "yaxis": {
         "anchor": "x",
         "domain": [
          0.825,
          1
         ],
         "title": {
          "text": "Proportion"
         }
        },
        "yaxis10": {
         "anchor": "x10",
         "domain": [
          0.275,
          0.45
         ],
         "title": {
          "text": "Proportion"
         }
        },
        "yaxis11": {
         "anchor": "x11",
         "domain": [
          0.275,
          0.45
         ],
         "title": {
          "text": "Proportion"
         }
        },
        "yaxis12": {
         "anchor": "x12",
         "domain": [
          0.275,
          0.45
         ],
         "title": {
          "text": "Proportion"
         }
        },
        "yaxis13": {
         "anchor": "x13",
         "domain": [
          0,
          0.175
         ],
         "title": {
          "text": "Proportion"
         }
        },
        "yaxis14": {
         "anchor": "x14",
         "domain": [
          0,
          0.175
         ],
         "title": {
          "text": "Proportion"
         }
        },
        "yaxis15": {
         "anchor": "x15",
         "domain": [
          0,
          0.175
         ],
         "title": {
          "text": "Proportion"
         }
        },
        "yaxis16": {
         "anchor": "x16",
         "domain": [
          0,
          0.175
         ],
         "title": {
          "text": "Proportion"
         }
        },
        "yaxis2": {
         "anchor": "x2",
         "domain": [
          0.825,
          1
         ],
         "title": {
          "text": "Proportion"
         }
        },
        "yaxis3": {
         "anchor": "x3",
         "domain": [
          0.825,
          1
         ],
         "title": {
          "text": "Proportion"
         }
        },
        "yaxis4": {
         "anchor": "x4",
         "domain": [
          0.825,
          1
         ],
         "title": {
          "text": "Proportion"
         }
        },
        "yaxis5": {
         "anchor": "x5",
         "domain": [
          0.55,
          0.7250000000000001
         ],
         "title": {
          "text": "Proportion"
         }
        },
        "yaxis6": {
         "anchor": "x6",
         "domain": [
          0.55,
          0.7250000000000001
         ],
         "title": {
          "text": "Proportion"
         }
        },
        "yaxis7": {
         "anchor": "x7",
         "domain": [
          0.55,
          0.7250000000000001
         ],
         "title": {
          "text": "Proportion"
         }
        },
        "yaxis8": {
         "anchor": "x8",
         "domain": [
          0.55,
          0.7250000000000001
         ],
         "title": {
          "text": "Proportion"
         }
        },
        "yaxis9": {
         "anchor": "x9",
         "domain": [
          0.275,
          0.45
         ],
         "title": {
          "text": "Proportion"
         }
        }
       }
      }
     },
     "metadata": {},
     "output_type": "display_data"
    }
   ],
   "source": [
    "plot_vote_distribution(df_votings_cleaned)"
   ]
  },
  {
   "cell_type": "markdown",
   "id": "7c4bc819",
   "metadata": {},
   "source": [
    "### 2.3.2 Correlation Matrix of Vote Features"
   ]
  },
  {
   "cell_type": "code",
   "execution_count": 88,
   "id": "e86fc2f9",
   "metadata": {},
   "outputs": [],
   "source": [
    "def plot_vote_correlation(df) -> None:\n",
    "    \"\"\"\n",
    "    Generates and displays a heatmap of the correlation matrix for a given DataFrame.\n",
    "\n",
    "    This function first converts all values in the DataFrame to numeric values, \n",
    "    coercing any non-numeric values to NaN. Then, it calculates the correlation \n",
    "    matrix of the cleaned data and visualizes the correlation between different \n",
    "    features using a heatmap. The heatmap is displayed using Plotly, with a \n",
    "    color scale ranging from -1 (negative correlation) to +1 (positive correlation).\n",
    "\n",
    "    Parameters:\n",
    "    df (pandas.DataFrame): A pandas DataFrame containing vote-related features, \n",
    "                            where columns represent different features and rows \n",
    "                            represent individual observations.\n",
    "\n",
    "    Returns:\n",
    "    None: This function displays the heatmap directly but does not return any value.\n",
    "\n",
    "    Example:\n",
    "    plot_vote_correlation(vote_df)\n",
    "    \"\"\"\n",
    "    # Apply the 'pd.to_numeric' function to convert all values in the DataFrame to numeric, \n",
    "    # coercing any non-numeric values to NaN (missing values).\n",
    "    df_encoded = df.apply(pd.to_numeric, errors='coerce')\n",
    "\n",
    "    # Calculate the correlation matrix of the cleaned and encoded DataFrame\n",
    "    corr_test = df_encoded.corr()\n",
    "\n",
    "    # Create a heatmap figure to visualize the correlation matrix\n",
    "    fig_corr = go.Figure(data=go.Heatmap(\n",
    "        z=corr_test.values,\n",
    "        x=corr_test.columns,\n",
    "        y=corr_test.index,\n",
    "        colorscale=\"RdBu\",\n",
    "        zmin=-1,\n",
    "        zmax=1,\n",
    "        colorbar=dict(title=\"Correlation\")\n",
    "    ))\n",
    "\n",
    "    # Update the layout of the heatmap\n",
    "    fig_corr.update_layout(\n",
    "        title=\"Correlation Matrix of Vote Features\",  # Main title for the heatmap\n",
    "        width=1000,  # Width of the heatmap figure (in pixels)\n",
    "        height=800,  # Height of the heatmap figure (in pixels)\n",
    "        title_x=0.5  # Center the title horizontally on the plot\n",
    "    )\n",
    "\n",
    "    # Display the heatmap\n",
    "    fig_corr.show()"
   ]
  },
  {
   "cell_type": "code",
   "execution_count": 89,
   "id": "8244ee25",
   "metadata": {},
   "outputs": [],
   "source": [
    "import plotly.express as px\n",
    "\n",
    "def plot_votes_class_balance(df_votings):\n",
    "    \"\"\"\n",
    "    Generates a histogram showing the class balance in congressional voting \n",
    "    along with annotations displaying the absolute count and percentage for \n",
    "    each class (e.g., Democrat and Republican).\n",
    "\n",
    "    Parameters:\n",
    "    df_votings (pandas.DataFrame): The dataframe containing the voting data \n",
    "                                    with a column named 'class' indicating \n",
    "                                    the political party ('democrat' or 'republican').\n",
    "\n",
    "    Returns:\n",
    "    plotly.graph_objects.Figure: A Plotly histogram figure with custom annotations.\n",
    "    \"\"\"\n",
    "    # Calculate class counts and proportions\n",
    "    class_counts = df_votings[\"class\"].value_counts()  # Count the occurrences of each class\n",
    "    class_props = class_counts / class_counts.sum()  # Calculate the proportions for each class\n",
    "\n",
    "    # Create histogram without text_auto\n",
    "    fig_class = px.histogram(\n",
    "        df_votings,\n",
    "        x=\"class\",\n",
    "        color=\"class\",\n",
    "        color_discrete_map={\"democrat\": \"#0015BC\", \"republican\": \"#E9141D\"},  # Assign colors for each class\n",
    "        title=\"<b>Class Balance in Congressional Voting</b>\",  # Title of the chart\n",
    "        category_orders={\"class\": [\"democrat\", \"republican\"]},  # Order of categories\n",
    "        labels={\"class\": \"Political Party\"},  # Label for the 'class' axis\n",
    "        width=800,\n",
    "        height=500\n",
    "    )\n",
    "\n",
    "    # Manually add annotations: absolute count + percentage\n",
    "    for i, (count, prop) in enumerate(zip(class_counts, class_props)):\n",
    "        fig_class.add_annotation(\n",
    "            x=class_counts.index[i],  # Position annotation at the class\n",
    "            y=count / 2,  # Center the annotation in the bar\n",
    "            text=f\"<b>{count} ({prop:.1%})</b>\",  # Display the count and percentage\n",
    "            showarrow=False,  # Do not display an arrow for annotation\n",
    "            font=dict(size=14, color=\"white\", family=\"Arial Black\"),  # Font style for annotations\n",
    "            align=\"center\"  # Center align the text\n",
    "        )\n",
    "\n",
    "    # Layout adjustments\n",
    "    fig_class.update_layout(\n",
    "        uniformtext_minsize=12,  # Minimum size for uniform text\n",
    "        uniformtext_mode=\"hide\",  # Hide text when there is not enough space\n",
    "        yaxis=dict(range=[0, max(class_counts) * 1.2])  # Adjust the y-axis range to give extra space\n",
    "    )\n",
    "\n",
    "    # Bar text (not needed – disabled)\n",
    "    fig_class.update_traces(\n",
    "        text=None,  # Disable bar text\n",
    "        marker_line_width=0  # Disable the line around bars\n",
    "    )\n",
    "\n",
    "    fig_class.show()  # Display the histogram figure\n"
   ]
  },
  {
   "cell_type": "code",
   "execution_count": 90,
   "id": "5fde7c29",
   "metadata": {},
   "outputs": [
    {
     "data": {
      "application/vnd.plotly.v1+json": {
       "config": {
        "plotlyServerURL": "https://plot.ly"
       },
       "data": [
        {
         "bingroup": "x",
         "hovertemplate": "Political Party=%{x}<br>count=%{y}<extra></extra>",
         "legendgroup": "democrat",
         "marker": {
          "color": "#0015BC",
          "line": {
           "width": 0
          },
          "pattern": {
           "shape": ""
          }
         },
         "name": "democrat",
         "orientation": "v",
         "showlegend": true,
         "type": "histogram",
         "x": [
          "democrat",
          "democrat",
          "democrat",
          "democrat",
          "democrat",
          "democrat",
          "democrat",
          "democrat",
          "democrat",
          "democrat",
          "democrat",
          "democrat",
          "democrat",
          "democrat",
          "democrat",
          "democrat",
          "democrat",
          "democrat",
          "democrat",
          "democrat",
          "democrat",
          "democrat",
          "democrat",
          "democrat",
          "democrat",
          "democrat",
          "democrat",
          "democrat",
          "democrat",
          "democrat",
          "democrat",
          "democrat",
          "democrat",
          "democrat",
          "democrat",
          "democrat",
          "democrat",
          "democrat",
          "democrat",
          "democrat",
          "democrat",
          "democrat",
          "democrat",
          "democrat",
          "democrat",
          "democrat",
          "democrat",
          "democrat",
          "democrat",
          "democrat",
          "democrat",
          "democrat",
          "democrat",
          "democrat",
          "democrat",
          "democrat",
          "democrat",
          "democrat",
          "democrat",
          "democrat",
          "democrat",
          "democrat",
          "democrat",
          "democrat",
          "democrat",
          "democrat",
          "democrat",
          "democrat",
          "democrat",
          "democrat",
          "democrat",
          "democrat",
          "democrat",
          "democrat",
          "democrat",
          "democrat",
          "democrat",
          "democrat",
          "democrat",
          "democrat",
          "democrat",
          "democrat",
          "democrat",
          "democrat",
          "democrat",
          "democrat",
          "democrat",
          "democrat",
          "democrat",
          "democrat",
          "democrat",
          "democrat",
          "democrat",
          "democrat",
          "democrat",
          "democrat",
          "democrat",
          "democrat",
          "democrat",
          "democrat",
          "democrat",
          "democrat",
          "democrat",
          "democrat",
          "democrat",
          "democrat",
          "democrat",
          "democrat",
          "democrat",
          "democrat",
          "democrat",
          "democrat",
          "democrat",
          "democrat",
          "democrat",
          "democrat",
          "democrat",
          "democrat",
          "democrat",
          "democrat",
          "democrat",
          "democrat",
          "democrat",
          "democrat",
          "democrat",
          "democrat",
          "democrat"
         ],
         "xaxis": "x",
         "yaxis": "y"
        },
        {
         "bingroup": "x",
         "hovertemplate": "Political Party=%{x}<br>count=%{y}<extra></extra>",
         "legendgroup": "republican",
         "marker": {
          "color": "#E9141D",
          "line": {
           "width": 0
          },
          "pattern": {
           "shape": ""
          }
         },
         "name": "republican",
         "orientation": "v",
         "showlegend": true,
         "type": "histogram",
         "x": [
          "republican",
          "republican",
          "republican",
          "republican",
          "republican",
          "republican",
          "republican",
          "republican",
          "republican",
          "republican",
          "republican",
          "republican",
          "republican",
          "republican",
          "republican",
          "republican",
          "republican",
          "republican",
          "republican",
          "republican",
          "republican",
          "republican",
          "republican",
          "republican",
          "republican",
          "republican",
          "republican",
          "republican",
          "republican",
          "republican",
          "republican",
          "republican",
          "republican",
          "republican",
          "republican",
          "republican",
          "republican",
          "republican",
          "republican",
          "republican",
          "republican",
          "republican",
          "republican",
          "republican",
          "republican",
          "republican",
          "republican",
          "republican",
          "republican",
          "republican",
          "republican",
          "republican",
          "republican",
          "republican",
          "republican",
          "republican",
          "republican",
          "republican",
          "republican",
          "republican",
          "republican",
          "republican",
          "republican",
          "republican",
          "republican",
          "republican",
          "republican",
          "republican",
          "republican",
          "republican",
          "republican",
          "republican",
          "republican",
          "republican",
          "republican",
          "republican",
          "republican",
          "republican",
          "republican",
          "republican",
          "republican",
          "republican",
          "republican",
          "republican",
          "republican",
          "republican",
          "republican",
          "republican",
          "republican",
          "republican",
          "republican"
         ],
         "xaxis": "x",
         "yaxis": "y"
        }
       ],
       "layout": {
        "annotations": [
         {
          "align": "center",
          "font": {
           "color": "white",
           "family": "Arial Black",
           "size": 14
          },
          "showarrow": false,
          "text": "<b>127 (58.3%)</b>",
          "x": "democrat",
          "y": 63.5
         },
         {
          "align": "center",
          "font": {
           "color": "white",
           "family": "Arial Black",
           "size": 14
          },
          "showarrow": false,
          "text": "<b>91 (41.7%)</b>",
          "x": "republican",
          "y": 45.5
         }
        ],
        "barmode": "relative",
        "height": 500,
        "legend": {
         "title": {
          "text": "Political Party"
         },
         "tracegroupgap": 0
        },
        "template": {
         "data": {
          "bar": [
           {
            "error_x": {
             "color": "#2a3f5f"
            },
            "error_y": {
             "color": "#2a3f5f"
            },
            "marker": {
             "line": {
              "color": "#E5ECF6",
              "width": 0.5
             },
             "pattern": {
              "fillmode": "overlay",
              "size": 10,
              "solidity": 0.2
             }
            },
            "type": "bar"
           }
          ],
          "barpolar": [
           {
            "marker": {
             "line": {
              "color": "#E5ECF6",
              "width": 0.5
             },
             "pattern": {
              "fillmode": "overlay",
              "size": 10,
              "solidity": 0.2
             }
            },
            "type": "barpolar"
           }
          ],
          "carpet": [
           {
            "aaxis": {
             "endlinecolor": "#2a3f5f",
             "gridcolor": "white",
             "linecolor": "white",
             "minorgridcolor": "white",
             "startlinecolor": "#2a3f5f"
            },
            "baxis": {
             "endlinecolor": "#2a3f5f",
             "gridcolor": "white",
             "linecolor": "white",
             "minorgridcolor": "white",
             "startlinecolor": "#2a3f5f"
            },
            "type": "carpet"
           }
          ],
          "choropleth": [
           {
            "colorbar": {
             "outlinewidth": 0,
             "ticks": ""
            },
            "type": "choropleth"
           }
          ],
          "contour": [
           {
            "colorbar": {
             "outlinewidth": 0,
             "ticks": ""
            },
            "colorscale": [
             [
              0,
              "#0d0887"
             ],
             [
              0.1111111111111111,
              "#46039f"
             ],
             [
              0.2222222222222222,
              "#7201a8"
             ],
             [
              0.3333333333333333,
              "#9c179e"
             ],
             [
              0.4444444444444444,
              "#bd3786"
             ],
             [
              0.5555555555555556,
              "#d8576b"
             ],
             [
              0.6666666666666666,
              "#ed7953"
             ],
             [
              0.7777777777777778,
              "#fb9f3a"
             ],
             [
              0.8888888888888888,
              "#fdca26"
             ],
             [
              1,
              "#f0f921"
             ]
            ],
            "type": "contour"
           }
          ],
          "contourcarpet": [
           {
            "colorbar": {
             "outlinewidth": 0,
             "ticks": ""
            },
            "type": "contourcarpet"
           }
          ],
          "heatmap": [
           {
            "colorbar": {
             "outlinewidth": 0,
             "ticks": ""
            },
            "colorscale": [
             [
              0,
              "#0d0887"
             ],
             [
              0.1111111111111111,
              "#46039f"
             ],
             [
              0.2222222222222222,
              "#7201a8"
             ],
             [
              0.3333333333333333,
              "#9c179e"
             ],
             [
              0.4444444444444444,
              "#bd3786"
             ],
             [
              0.5555555555555556,
              "#d8576b"
             ],
             [
              0.6666666666666666,
              "#ed7953"
             ],
             [
              0.7777777777777778,
              "#fb9f3a"
             ],
             [
              0.8888888888888888,
              "#fdca26"
             ],
             [
              1,
              "#f0f921"
             ]
            ],
            "type": "heatmap"
           }
          ],
          "histogram": [
           {
            "marker": {
             "pattern": {
              "fillmode": "overlay",
              "size": 10,
              "solidity": 0.2
             }
            },
            "type": "histogram"
           }
          ],
          "histogram2d": [
           {
            "colorbar": {
             "outlinewidth": 0,
             "ticks": ""
            },
            "colorscale": [
             [
              0,
              "#0d0887"
             ],
             [
              0.1111111111111111,
              "#46039f"
             ],
             [
              0.2222222222222222,
              "#7201a8"
             ],
             [
              0.3333333333333333,
              "#9c179e"
             ],
             [
              0.4444444444444444,
              "#bd3786"
             ],
             [
              0.5555555555555556,
              "#d8576b"
             ],
             [
              0.6666666666666666,
              "#ed7953"
             ],
             [
              0.7777777777777778,
              "#fb9f3a"
             ],
             [
              0.8888888888888888,
              "#fdca26"
             ],
             [
              1,
              "#f0f921"
             ]
            ],
            "type": "histogram2d"
           }
          ],
          "histogram2dcontour": [
           {
            "colorbar": {
             "outlinewidth": 0,
             "ticks": ""
            },
            "colorscale": [
             [
              0,
              "#0d0887"
             ],
             [
              0.1111111111111111,
              "#46039f"
             ],
             [
              0.2222222222222222,
              "#7201a8"
             ],
             [
              0.3333333333333333,
              "#9c179e"
             ],
             [
              0.4444444444444444,
              "#bd3786"
             ],
             [
              0.5555555555555556,
              "#d8576b"
             ],
             [
              0.6666666666666666,
              "#ed7953"
             ],
             [
              0.7777777777777778,
              "#fb9f3a"
             ],
             [
              0.8888888888888888,
              "#fdca26"
             ],
             [
              1,
              "#f0f921"
             ]
            ],
            "type": "histogram2dcontour"
           }
          ],
          "mesh3d": [
           {
            "colorbar": {
             "outlinewidth": 0,
             "ticks": ""
            },
            "type": "mesh3d"
           }
          ],
          "parcoords": [
           {
            "line": {
             "colorbar": {
              "outlinewidth": 0,
              "ticks": ""
             }
            },
            "type": "parcoords"
           }
          ],
          "pie": [
           {
            "automargin": true,
            "type": "pie"
           }
          ],
          "scatter": [
           {
            "fillpattern": {
             "fillmode": "overlay",
             "size": 10,
             "solidity": 0.2
            },
            "type": "scatter"
           }
          ],
          "scatter3d": [
           {
            "line": {
             "colorbar": {
              "outlinewidth": 0,
              "ticks": ""
             }
            },
            "marker": {
             "colorbar": {
              "outlinewidth": 0,
              "ticks": ""
             }
            },
            "type": "scatter3d"
           }
          ],
          "scattercarpet": [
           {
            "marker": {
             "colorbar": {
              "outlinewidth": 0,
              "ticks": ""
             }
            },
            "type": "scattercarpet"
           }
          ],
          "scattergeo": [
           {
            "marker": {
             "colorbar": {
              "outlinewidth": 0,
              "ticks": ""
             }
            },
            "type": "scattergeo"
           }
          ],
          "scattergl": [
           {
            "marker": {
             "colorbar": {
              "outlinewidth": 0,
              "ticks": ""
             }
            },
            "type": "scattergl"
           }
          ],
          "scattermap": [
           {
            "marker": {
             "colorbar": {
              "outlinewidth": 0,
              "ticks": ""
             }
            },
            "type": "scattermap"
           }
          ],
          "scattermapbox": [
           {
            "marker": {
             "colorbar": {
              "outlinewidth": 0,
              "ticks": ""
             }
            },
            "type": "scattermapbox"
           }
          ],
          "scatterpolar": [
           {
            "marker": {
             "colorbar": {
              "outlinewidth": 0,
              "ticks": ""
             }
            },
            "type": "scatterpolar"
           }
          ],
          "scatterpolargl": [
           {
            "marker": {
             "colorbar": {
              "outlinewidth": 0,
              "ticks": ""
             }
            },
            "type": "scatterpolargl"
           }
          ],
          "scatterternary": [
           {
            "marker": {
             "colorbar": {
              "outlinewidth": 0,
              "ticks": ""
             }
            },
            "type": "scatterternary"
           }
          ],
          "surface": [
           {
            "colorbar": {
             "outlinewidth": 0,
             "ticks": ""
            },
            "colorscale": [
             [
              0,
              "#0d0887"
             ],
             [
              0.1111111111111111,
              "#46039f"
             ],
             [
              0.2222222222222222,
              "#7201a8"
             ],
             [
              0.3333333333333333,
              "#9c179e"
             ],
             [
              0.4444444444444444,
              "#bd3786"
             ],
             [
              0.5555555555555556,
              "#d8576b"
             ],
             [
              0.6666666666666666,
              "#ed7953"
             ],
             [
              0.7777777777777778,
              "#fb9f3a"
             ],
             [
              0.8888888888888888,
              "#fdca26"
             ],
             [
              1,
              "#f0f921"
             ]
            ],
            "type": "surface"
           }
          ],
          "table": [
           {
            "cells": {
             "fill": {
              "color": "#EBF0F8"
             },
             "line": {
              "color": "white"
             }
            },
            "header": {
             "fill": {
              "color": "#C8D4E3"
             },
             "line": {
              "color": "white"
             }
            },
            "type": "table"
           }
          ]
         },
         "layout": {
          "annotationdefaults": {
           "arrowcolor": "#2a3f5f",
           "arrowhead": 0,
           "arrowwidth": 1
          },
          "autotypenumbers": "strict",
          "coloraxis": {
           "colorbar": {
            "outlinewidth": 0,
            "ticks": ""
           }
          },
          "colorscale": {
           "diverging": [
            [
             0,
             "#8e0152"
            ],
            [
             0.1,
             "#c51b7d"
            ],
            [
             0.2,
             "#de77ae"
            ],
            [
             0.3,
             "#f1b6da"
            ],
            [
             0.4,
             "#fde0ef"
            ],
            [
             0.5,
             "#f7f7f7"
            ],
            [
             0.6,
             "#e6f5d0"
            ],
            [
             0.7,
             "#b8e186"
            ],
            [
             0.8,
             "#7fbc41"
            ],
            [
             0.9,
             "#4d9221"
            ],
            [
             1,
             "#276419"
            ]
           ],
           "sequential": [
            [
             0,
             "#0d0887"
            ],
            [
             0.1111111111111111,
             "#46039f"
            ],
            [
             0.2222222222222222,
             "#7201a8"
            ],
            [
             0.3333333333333333,
             "#9c179e"
            ],
            [
             0.4444444444444444,
             "#bd3786"
            ],
            [
             0.5555555555555556,
             "#d8576b"
            ],
            [
             0.6666666666666666,
             "#ed7953"
            ],
            [
             0.7777777777777778,
             "#fb9f3a"
            ],
            [
             0.8888888888888888,
             "#fdca26"
            ],
            [
             1,
             "#f0f921"
            ]
           ],
           "sequentialminus": [
            [
             0,
             "#0d0887"
            ],
            [
             0.1111111111111111,
             "#46039f"
            ],
            [
             0.2222222222222222,
             "#7201a8"
            ],
            [
             0.3333333333333333,
             "#9c179e"
            ],
            [
             0.4444444444444444,
             "#bd3786"
            ],
            [
             0.5555555555555556,
             "#d8576b"
            ],
            [
             0.6666666666666666,
             "#ed7953"
            ],
            [
             0.7777777777777778,
             "#fb9f3a"
            ],
            [
             0.8888888888888888,
             "#fdca26"
            ],
            [
             1,
             "#f0f921"
            ]
           ]
          },
          "colorway": [
           "#636efa",
           "#EF553B",
           "#00cc96",
           "#ab63fa",
           "#FFA15A",
           "#19d3f3",
           "#FF6692",
           "#B6E880",
           "#FF97FF",
           "#FECB52"
          ],
          "font": {
           "color": "#2a3f5f"
          },
          "geo": {
           "bgcolor": "white",
           "lakecolor": "white",
           "landcolor": "#E5ECF6",
           "showlakes": true,
           "showland": true,
           "subunitcolor": "white"
          },
          "hoverlabel": {
           "align": "left"
          },
          "hovermode": "closest",
          "mapbox": {
           "style": "light"
          },
          "paper_bgcolor": "white",
          "plot_bgcolor": "#E5ECF6",
          "polar": {
           "angularaxis": {
            "gridcolor": "white",
            "linecolor": "white",
            "ticks": ""
           },
           "bgcolor": "#E5ECF6",
           "radialaxis": {
            "gridcolor": "white",
            "linecolor": "white",
            "ticks": ""
           }
          },
          "scene": {
           "xaxis": {
            "backgroundcolor": "#E5ECF6",
            "gridcolor": "white",
            "gridwidth": 2,
            "linecolor": "white",
            "showbackground": true,
            "ticks": "",
            "zerolinecolor": "white"
           },
           "yaxis": {
            "backgroundcolor": "#E5ECF6",
            "gridcolor": "white",
            "gridwidth": 2,
            "linecolor": "white",
            "showbackground": true,
            "ticks": "",
            "zerolinecolor": "white"
           },
           "zaxis": {
            "backgroundcolor": "#E5ECF6",
            "gridcolor": "white",
            "gridwidth": 2,
            "linecolor": "white",
            "showbackground": true,
            "ticks": "",
            "zerolinecolor": "white"
           }
          },
          "shapedefaults": {
           "line": {
            "color": "#2a3f5f"
           }
          },
          "ternary": {
           "aaxis": {
            "gridcolor": "white",
            "linecolor": "white",
            "ticks": ""
           },
           "baxis": {
            "gridcolor": "white",
            "linecolor": "white",
            "ticks": ""
           },
           "bgcolor": "#E5ECF6",
           "caxis": {
            "gridcolor": "white",
            "linecolor": "white",
            "ticks": ""
           }
          },
          "title": {
           "x": 0.05
          },
          "xaxis": {
           "automargin": true,
           "gridcolor": "white",
           "linecolor": "white",
           "ticks": "",
           "title": {
            "standoff": 15
           },
           "zerolinecolor": "white",
           "zerolinewidth": 2
          },
          "yaxis": {
           "automargin": true,
           "gridcolor": "white",
           "linecolor": "white",
           "ticks": "",
           "title": {
            "standoff": 15
           },
           "zerolinecolor": "white",
           "zerolinewidth": 2
          }
         }
        },
        "title": {
         "text": "<b>Class Balance in Congressional Voting</b>"
        },
        "uniformtext": {
         "minsize": 12,
         "mode": "hide"
        },
        "width": 800,
        "xaxis": {
         "anchor": "y",
         "categoryarray": [
          "democrat",
          "republican"
         ],
         "categoryorder": "array",
         "domain": [
          0,
          1
         ],
         "title": {
          "text": "Political Party"
         }
        },
        "yaxis": {
         "anchor": "x",
         "domain": [
          0,
          1
         ],
         "range": [
          0,
          152.4
         ],
         "title": {
          "text": "count"
         }
        }
       }
      }
     },
     "metadata": {},
     "output_type": "display_data"
    }
   ],
   "source": [
    "plot_votes_class_balance(df_votings)"
   ]
  },
  {
   "cell_type": "code",
   "execution_count": 91,
   "id": "ba9e3633",
   "metadata": {},
   "outputs": [
    {
     "data": {
      "application/vnd.plotly.v1+json": {
       "config": {
        "plotlyServerURL": "https://plot.ly"
       },
       "data": [
        {
         "bingroup": "x",
         "hovertemplate": "Political Party=%{x}<br>count=%{y}<extra></extra>",
         "legendgroup": "democrat",
         "marker": {
          "color": "#0015BC",
          "line": {
           "width": 0
          },
          "pattern": {
           "shape": ""
          }
         },
         "name": "democrat",
         "orientation": "v",
         "showlegend": true,
         "type": "histogram",
         "x": [
          "democrat",
          "democrat",
          "democrat",
          "democrat",
          "democrat",
          "democrat",
          "democrat",
          "democrat",
          "democrat",
          "democrat",
          "democrat",
          "democrat",
          "democrat",
          "democrat",
          "democrat",
          "democrat",
          "democrat",
          "democrat",
          "democrat",
          "democrat",
          "democrat",
          "democrat",
          "democrat",
          "democrat",
          "democrat",
          "democrat",
          "democrat",
          "democrat",
          "democrat",
          "democrat",
          "democrat",
          "democrat",
          "democrat",
          "democrat",
          "democrat",
          "democrat",
          "democrat",
          "democrat",
          "democrat",
          "democrat",
          "democrat",
          "democrat",
          "democrat",
          "democrat",
          "democrat",
          "democrat",
          "democrat",
          "democrat",
          "democrat",
          "democrat",
          "democrat",
          "democrat",
          "democrat",
          "democrat",
          "democrat",
          "democrat",
          "democrat",
          "democrat",
          "democrat",
          "democrat",
          "democrat",
          "democrat",
          "democrat",
          "democrat",
          "democrat",
          "democrat",
          "democrat",
          "democrat",
          "democrat",
          "democrat",
          "democrat",
          "democrat",
          "democrat",
          "democrat",
          "democrat",
          "democrat",
          "democrat",
          "democrat",
          "democrat",
          "democrat",
          "democrat",
          "democrat",
          "democrat",
          "democrat",
          "democrat",
          "democrat",
          "democrat",
          "democrat",
          "democrat",
          "democrat",
          "democrat",
          "democrat",
          "democrat",
          "democrat",
          "democrat",
          "democrat",
          "democrat",
          "democrat",
          "democrat",
          "democrat",
          "democrat",
          "democrat",
          "democrat",
          "democrat",
          "democrat",
          "democrat",
          "democrat",
          "democrat",
          "democrat",
          "democrat",
          "democrat",
          "democrat",
          "democrat",
          "democrat",
          "democrat",
          "democrat",
          "democrat",
          "democrat",
          "democrat",
          "democrat",
          "democrat",
          "democrat",
          "democrat",
          "democrat",
          "democrat",
          "democrat"
         ],
         "xaxis": "x",
         "yaxis": "y"
        },
        {
         "bingroup": "x",
         "hovertemplate": "Political Party=%{x}<br>count=%{y}<extra></extra>",
         "legendgroup": "republican",
         "marker": {
          "color": "#E9141D",
          "line": {
           "width": 0
          },
          "pattern": {
           "shape": ""
          }
         },
         "name": "republican",
         "orientation": "v",
         "showlegend": true,
         "type": "histogram",
         "x": [
          "republican",
          "republican",
          "republican",
          "republican",
          "republican",
          "republican",
          "republican",
          "republican",
          "republican",
          "republican",
          "republican",
          "republican",
          "republican",
          "republican",
          "republican",
          "republican",
          "republican",
          "republican",
          "republican",
          "republican",
          "republican",
          "republican",
          "republican",
          "republican",
          "republican",
          "republican",
          "republican",
          "republican",
          "republican",
          "republican",
          "republican",
          "republican",
          "republican",
          "republican",
          "republican",
          "republican",
          "republican",
          "republican",
          "republican",
          "republican",
          "republican",
          "republican",
          "republican",
          "republican",
          "republican",
          "republican",
          "republican",
          "republican",
          "republican",
          "republican",
          "republican",
          "republican",
          "republican",
          "republican",
          "republican",
          "republican",
          "republican",
          "republican",
          "republican",
          "republican",
          "republican",
          "republican",
          "republican",
          "republican",
          "republican",
          "republican",
          "republican",
          "republican",
          "republican",
          "republican",
          "republican",
          "republican",
          "republican",
          "republican",
          "republican",
          "republican",
          "republican",
          "republican",
          "republican",
          "republican",
          "republican",
          "republican",
          "republican",
          "republican",
          "republican",
          "republican",
          "republican",
          "republican",
          "republican"
         ],
         "xaxis": "x",
         "yaxis": "y"
        }
       ],
       "layout": {
        "annotations": [
         {
          "align": "center",
          "font": {
           "color": "white",
           "family": "Arial Black",
           "size": 14
          },
          "showarrow": false,
          "text": "<b>126 (58.6%)</b>",
          "x": "democrat",
          "y": 63
         },
         {
          "align": "center",
          "font": {
           "color": "white",
           "family": "Arial Black",
           "size": 14
          },
          "showarrow": false,
          "text": "<b>89 (41.4%)</b>",
          "x": "republican",
          "y": 44.5
         }
        ],
        "barmode": "relative",
        "height": 500,
        "legend": {
         "title": {
          "text": "Political Party"
         },
         "tracegroupgap": 0
        },
        "template": {
         "data": {
          "bar": [
           {
            "error_x": {
             "color": "#2a3f5f"
            },
            "error_y": {
             "color": "#2a3f5f"
            },
            "marker": {
             "line": {
              "color": "#E5ECF6",
              "width": 0.5
             },
             "pattern": {
              "fillmode": "overlay",
              "size": 10,
              "solidity": 0.2
             }
            },
            "type": "bar"
           }
          ],
          "barpolar": [
           {
            "marker": {
             "line": {
              "color": "#E5ECF6",
              "width": 0.5
             },
             "pattern": {
              "fillmode": "overlay",
              "size": 10,
              "solidity": 0.2
             }
            },
            "type": "barpolar"
           }
          ],
          "carpet": [
           {
            "aaxis": {
             "endlinecolor": "#2a3f5f",
             "gridcolor": "white",
             "linecolor": "white",
             "minorgridcolor": "white",
             "startlinecolor": "#2a3f5f"
            },
            "baxis": {
             "endlinecolor": "#2a3f5f",
             "gridcolor": "white",
             "linecolor": "white",
             "minorgridcolor": "white",
             "startlinecolor": "#2a3f5f"
            },
            "type": "carpet"
           }
          ],
          "choropleth": [
           {
            "colorbar": {
             "outlinewidth": 0,
             "ticks": ""
            },
            "type": "choropleth"
           }
          ],
          "contour": [
           {
            "colorbar": {
             "outlinewidth": 0,
             "ticks": ""
            },
            "colorscale": [
             [
              0,
              "#0d0887"
             ],
             [
              0.1111111111111111,
              "#46039f"
             ],
             [
              0.2222222222222222,
              "#7201a8"
             ],
             [
              0.3333333333333333,
              "#9c179e"
             ],
             [
              0.4444444444444444,
              "#bd3786"
             ],
             [
              0.5555555555555556,
              "#d8576b"
             ],
             [
              0.6666666666666666,
              "#ed7953"
             ],
             [
              0.7777777777777778,
              "#fb9f3a"
             ],
             [
              0.8888888888888888,
              "#fdca26"
             ],
             [
              1,
              "#f0f921"
             ]
            ],
            "type": "contour"
           }
          ],
          "contourcarpet": [
           {
            "colorbar": {
             "outlinewidth": 0,
             "ticks": ""
            },
            "type": "contourcarpet"
           }
          ],
          "heatmap": [
           {
            "colorbar": {
             "outlinewidth": 0,
             "ticks": ""
            },
            "colorscale": [
             [
              0,
              "#0d0887"
             ],
             [
              0.1111111111111111,
              "#46039f"
             ],
             [
              0.2222222222222222,
              "#7201a8"
             ],
             [
              0.3333333333333333,
              "#9c179e"
             ],
             [
              0.4444444444444444,
              "#bd3786"
             ],
             [
              0.5555555555555556,
              "#d8576b"
             ],
             [
              0.6666666666666666,
              "#ed7953"
             ],
             [
              0.7777777777777778,
              "#fb9f3a"
             ],
             [
              0.8888888888888888,
              "#fdca26"
             ],
             [
              1,
              "#f0f921"
             ]
            ],
            "type": "heatmap"
           }
          ],
          "histogram": [
           {
            "marker": {
             "pattern": {
              "fillmode": "overlay",
              "size": 10,
              "solidity": 0.2
             }
            },
            "type": "histogram"
           }
          ],
          "histogram2d": [
           {
            "colorbar": {
             "outlinewidth": 0,
             "ticks": ""
            },
            "colorscale": [
             [
              0,
              "#0d0887"
             ],
             [
              0.1111111111111111,
              "#46039f"
             ],
             [
              0.2222222222222222,
              "#7201a8"
             ],
             [
              0.3333333333333333,
              "#9c179e"
             ],
             [
              0.4444444444444444,
              "#bd3786"
             ],
             [
              0.5555555555555556,
              "#d8576b"
             ],
             [
              0.6666666666666666,
              "#ed7953"
             ],
             [
              0.7777777777777778,
              "#fb9f3a"
             ],
             [
              0.8888888888888888,
              "#fdca26"
             ],
             [
              1,
              "#f0f921"
             ]
            ],
            "type": "histogram2d"
           }
          ],
          "histogram2dcontour": [
           {
            "colorbar": {
             "outlinewidth": 0,
             "ticks": ""
            },
            "colorscale": [
             [
              0,
              "#0d0887"
             ],
             [
              0.1111111111111111,
              "#46039f"
             ],
             [
              0.2222222222222222,
              "#7201a8"
             ],
             [
              0.3333333333333333,
              "#9c179e"
             ],
             [
              0.4444444444444444,
              "#bd3786"
             ],
             [
              0.5555555555555556,
              "#d8576b"
             ],
             [
              0.6666666666666666,
              "#ed7953"
             ],
             [
              0.7777777777777778,
              "#fb9f3a"
             ],
             [
              0.8888888888888888,
              "#fdca26"
             ],
             [
              1,
              "#f0f921"
             ]
            ],
            "type": "histogram2dcontour"
           }
          ],
          "mesh3d": [
           {
            "colorbar": {
             "outlinewidth": 0,
             "ticks": ""
            },
            "type": "mesh3d"
           }
          ],
          "parcoords": [
           {
            "line": {
             "colorbar": {
              "outlinewidth": 0,
              "ticks": ""
             }
            },
            "type": "parcoords"
           }
          ],
          "pie": [
           {
            "automargin": true,
            "type": "pie"
           }
          ],
          "scatter": [
           {
            "fillpattern": {
             "fillmode": "overlay",
             "size": 10,
             "solidity": 0.2
            },
            "type": "scatter"
           }
          ],
          "scatter3d": [
           {
            "line": {
             "colorbar": {
              "outlinewidth": 0,
              "ticks": ""
             }
            },
            "marker": {
             "colorbar": {
              "outlinewidth": 0,
              "ticks": ""
             }
            },
            "type": "scatter3d"
           }
          ],
          "scattercarpet": [
           {
            "marker": {
             "colorbar": {
              "outlinewidth": 0,
              "ticks": ""
             }
            },
            "type": "scattercarpet"
           }
          ],
          "scattergeo": [
           {
            "marker": {
             "colorbar": {
              "outlinewidth": 0,
              "ticks": ""
             }
            },
            "type": "scattergeo"
           }
          ],
          "scattergl": [
           {
            "marker": {
             "colorbar": {
              "outlinewidth": 0,
              "ticks": ""
             }
            },
            "type": "scattergl"
           }
          ],
          "scattermap": [
           {
            "marker": {
             "colorbar": {
              "outlinewidth": 0,
              "ticks": ""
             }
            },
            "type": "scattermap"
           }
          ],
          "scattermapbox": [
           {
            "marker": {
             "colorbar": {
              "outlinewidth": 0,
              "ticks": ""
             }
            },
            "type": "scattermapbox"
           }
          ],
          "scatterpolar": [
           {
            "marker": {
             "colorbar": {
              "outlinewidth": 0,
              "ticks": ""
             }
            },
            "type": "scatterpolar"
           }
          ],
          "scatterpolargl": [
           {
            "marker": {
             "colorbar": {
              "outlinewidth": 0,
              "ticks": ""
             }
            },
            "type": "scatterpolargl"
           }
          ],
          "scatterternary": [
           {
            "marker": {
             "colorbar": {
              "outlinewidth": 0,
              "ticks": ""
             }
            },
            "type": "scatterternary"
           }
          ],
          "surface": [
           {
            "colorbar": {
             "outlinewidth": 0,
             "ticks": ""
            },
            "colorscale": [
             [
              0,
              "#0d0887"
             ],
             [
              0.1111111111111111,
              "#46039f"
             ],
             [
              0.2222222222222222,
              "#7201a8"
             ],
             [
              0.3333333333333333,
              "#9c179e"
             ],
             [
              0.4444444444444444,
              "#bd3786"
             ],
             [
              0.5555555555555556,
              "#d8576b"
             ],
             [
              0.6666666666666666,
              "#ed7953"
             ],
             [
              0.7777777777777778,
              "#fb9f3a"
             ],
             [
              0.8888888888888888,
              "#fdca26"
             ],
             [
              1,
              "#f0f921"
             ]
            ],
            "type": "surface"
           }
          ],
          "table": [
           {
            "cells": {
             "fill": {
              "color": "#EBF0F8"
             },
             "line": {
              "color": "white"
             }
            },
            "header": {
             "fill": {
              "color": "#C8D4E3"
             },
             "line": {
              "color": "white"
             }
            },
            "type": "table"
           }
          ]
         },
         "layout": {
          "annotationdefaults": {
           "arrowcolor": "#2a3f5f",
           "arrowhead": 0,
           "arrowwidth": 1
          },
          "autotypenumbers": "strict",
          "coloraxis": {
           "colorbar": {
            "outlinewidth": 0,
            "ticks": ""
           }
          },
          "colorscale": {
           "diverging": [
            [
             0,
             "#8e0152"
            ],
            [
             0.1,
             "#c51b7d"
            ],
            [
             0.2,
             "#de77ae"
            ],
            [
             0.3,
             "#f1b6da"
            ],
            [
             0.4,
             "#fde0ef"
            ],
            [
             0.5,
             "#f7f7f7"
            ],
            [
             0.6,
             "#e6f5d0"
            ],
            [
             0.7,
             "#b8e186"
            ],
            [
             0.8,
             "#7fbc41"
            ],
            [
             0.9,
             "#4d9221"
            ],
            [
             1,
             "#276419"
            ]
           ],
           "sequential": [
            [
             0,
             "#0d0887"
            ],
            [
             0.1111111111111111,
             "#46039f"
            ],
            [
             0.2222222222222222,
             "#7201a8"
            ],
            [
             0.3333333333333333,
             "#9c179e"
            ],
            [
             0.4444444444444444,
             "#bd3786"
            ],
            [
             0.5555555555555556,
             "#d8576b"
            ],
            [
             0.6666666666666666,
             "#ed7953"
            ],
            [
             0.7777777777777778,
             "#fb9f3a"
            ],
            [
             0.8888888888888888,
             "#fdca26"
            ],
            [
             1,
             "#f0f921"
            ]
           ],
           "sequentialminus": [
            [
             0,
             "#0d0887"
            ],
            [
             0.1111111111111111,
             "#46039f"
            ],
            [
             0.2222222222222222,
             "#7201a8"
            ],
            [
             0.3333333333333333,
             "#9c179e"
            ],
            [
             0.4444444444444444,
             "#bd3786"
            ],
            [
             0.5555555555555556,
             "#d8576b"
            ],
            [
             0.6666666666666666,
             "#ed7953"
            ],
            [
             0.7777777777777778,
             "#fb9f3a"
            ],
            [
             0.8888888888888888,
             "#fdca26"
            ],
            [
             1,
             "#f0f921"
            ]
           ]
          },
          "colorway": [
           "#636efa",
           "#EF553B",
           "#00cc96",
           "#ab63fa",
           "#FFA15A",
           "#19d3f3",
           "#FF6692",
           "#B6E880",
           "#FF97FF",
           "#FECB52"
          ],
          "font": {
           "color": "#2a3f5f"
          },
          "geo": {
           "bgcolor": "white",
           "lakecolor": "white",
           "landcolor": "#E5ECF6",
           "showlakes": true,
           "showland": true,
           "subunitcolor": "white"
          },
          "hoverlabel": {
           "align": "left"
          },
          "hovermode": "closest",
          "mapbox": {
           "style": "light"
          },
          "paper_bgcolor": "white",
          "plot_bgcolor": "#E5ECF6",
          "polar": {
           "angularaxis": {
            "gridcolor": "white",
            "linecolor": "white",
            "ticks": ""
           },
           "bgcolor": "#E5ECF6",
           "radialaxis": {
            "gridcolor": "white",
            "linecolor": "white",
            "ticks": ""
           }
          },
          "scene": {
           "xaxis": {
            "backgroundcolor": "#E5ECF6",
            "gridcolor": "white",
            "gridwidth": 2,
            "linecolor": "white",
            "showbackground": true,
            "ticks": "",
            "zerolinecolor": "white"
           },
           "yaxis": {
            "backgroundcolor": "#E5ECF6",
            "gridcolor": "white",
            "gridwidth": 2,
            "linecolor": "white",
            "showbackground": true,
            "ticks": "",
            "zerolinecolor": "white"
           },
           "zaxis": {
            "backgroundcolor": "#E5ECF6",
            "gridcolor": "white",
            "gridwidth": 2,
            "linecolor": "white",
            "showbackground": true,
            "ticks": "",
            "zerolinecolor": "white"
           }
          },
          "shapedefaults": {
           "line": {
            "color": "#2a3f5f"
           }
          },
          "ternary": {
           "aaxis": {
            "gridcolor": "white",
            "linecolor": "white",
            "ticks": ""
           },
           "baxis": {
            "gridcolor": "white",
            "linecolor": "white",
            "ticks": ""
           },
           "bgcolor": "#E5ECF6",
           "caxis": {
            "gridcolor": "white",
            "linecolor": "white",
            "ticks": ""
           }
          },
          "title": {
           "x": 0.05
          },
          "xaxis": {
           "automargin": true,
           "gridcolor": "white",
           "linecolor": "white",
           "ticks": "",
           "title": {
            "standoff": 15
           },
           "zerolinecolor": "white",
           "zerolinewidth": 2
          },
          "yaxis": {
           "automargin": true,
           "gridcolor": "white",
           "linecolor": "white",
           "ticks": "",
           "title": {
            "standoff": 15
           },
           "zerolinecolor": "white",
           "zerolinewidth": 2
          }
         }
        },
        "title": {
         "text": "<b>Class Balance in Congressional Voting</b>"
        },
        "uniformtext": {
         "minsize": 12,
         "mode": "hide"
        },
        "width": 800,
        "xaxis": {
         "anchor": "y",
         "categoryarray": [
          "democrat",
          "republican"
         ],
         "categoryorder": "array",
         "domain": [
          0,
          1
         ],
         "title": {
          "text": "Political Party"
         }
        },
        "yaxis": {
         "anchor": "x",
         "domain": [
          0,
          1
         ],
         "range": [
          0,
          151.2
         ],
         "title": {
          "text": "count"
         }
        }
       }
      }
     },
     "metadata": {},
     "output_type": "display_data"
    }
   ],
   "source": [
    "plot_votes_class_balance(df_votings_cleaned)"
   ]
  },
  {
   "cell_type": "code",
   "execution_count": 92,
   "id": "773fb87a",
   "metadata": {},
   "outputs": [],
   "source": [
    "df_votings_cleaned.to_csv(\"../data/cleaned/votings_cleaned.csv\")\n",
    "df_votings_cleaned_infer.to_csv(\"../data/cleaned/votings_cleaned_infer.csv\")"
   ]
  }
 ],
 "metadata": {
  "kernelspec": {
   "display_name": ".venv",
   "language": "python",
   "name": "python3"
  },
  "language_info": {
   "codemirror_mode": {
    "name": "ipython",
    "version": 3
   },
   "file_extension": ".py",
   "mimetype": "text/x-python",
   "name": "python",
   "nbconvert_exporter": "python",
   "pygments_lexer": "ipython3",
   "version": "3.10.12"
  }
 },
 "nbformat": 4,
 "nbformat_minor": 5
}
