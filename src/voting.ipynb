{
 "cells": [
  {
   "cell_type": "markdown",
   "id": "cb80916e",
   "metadata": {},
   "source": [
    "# Main Notebook"
   ]
  },
  {
   "cell_type": "code",
   "execution_count": null,
   "id": "32628635",
   "metadata": {},
   "outputs": [],
   "source": [
    "# Import the necessary libraries\n",
    "import pandas as pd\n",
    "import numpy as np\n",
    "import plotly.express as px\n",
    "import plotly.graph_objects as go\n",
    "import seaborn as sns\n",
    "import matplotlib.pyplot as plt\n",
    "\n",
    "from logger import Logger\n",
    "from helpers import get_dataset_dimensions, count_unique_values, replace_values, summarize_missing, drop_columns_missing, drop_rows_missing, impute_mode\n",
    "from plotly.subplots import make_subplots\n"
   ]
  },
  {
   "cell_type": "code",
   "execution_count": null,
   "id": "327a809b",
   "metadata": {},
   "outputs": [],
   "source": [
    "# Create logger instance\n",
    "logger = Logger(__name__)"
   ]
  },
  {
   "cell_type": "code",
   "execution_count": null,
   "id": "edeb713c",
   "metadata": {},
   "outputs": [],
   "source": [
    "# Load the dataset into a pandas DataFrame\n",
    "df_votings = pd.read_csv('../data/raw/kaggle/congress/CongressionalVotingID.shuf.lrn.csv')"
   ]
  },
  {
   "cell_type": "markdown",
   "id": "f3762a2d",
   "metadata": {},
   "source": [
    "# 2. Data Analysis & Preparation "
   ]
  },
  {
   "cell_type": "markdown",
   "id": "2a4e1ffc",
   "metadata": {},
   "source": [
    "## 2.1. Maternal Health Risk Data Set"
   ]
  },
  {
   "cell_type": "markdown",
   "id": "09d581af",
   "metadata": {},
   "source": [
    "### 2.1.1. General Information"
   ]
  },
  {
   "cell_type": "code",
   "execution_count": null,
   "id": "dd24f5a3",
   "metadata": {},
   "outputs": [],
   "source": [
    "# Step 2.1.1.1. - Display the dataset information\n",
    "df_votings.info()"
   ]
  },
  {
   "cell_type": "code",
   "execution_count": null,
   "id": "8360470d",
   "metadata": {},
   "outputs": [],
   "source": [
    "# Step 2.1.1.2. - Display the first 5 rows of the dataset\n",
    "df_votings.head()"
   ]
  },
  {
   "cell_type": "code",
   "execution_count": null,
   "id": "6ba1fea4",
   "metadata": {},
   "outputs": [],
   "source": [
    "# Step 2.1.1.3. - Display the dataset dimensions\n",
    "get_dataset_dimensions(df_votings)"
   ]
  },
  {
   "cell_type": "code",
   "execution_count": null,
   "id": "a704efa7",
   "metadata": {},
   "outputs": [],
   "source": [
    "# Step 2.1.1.4. - Display column names & data types\n",
    "print(\"Column Names and Data Types:\")\n",
    "print(df_votings.dtypes)"
   ]
  },
  {
   "cell_type": "code",
   "execution_count": null,
   "id": "6b067906",
   "metadata": {},
   "outputs": [],
   "source": [
    "# Step 2.1.1.5. - Display the missing values per column\n",
    "print(\"Missing Values per Column:\")\n",
    "print(summarize_missing(df_votings))"
   ]
  },
  {
   "cell_type": "markdown",
   "id": "c5972dea",
   "metadata": {},
   "source": [
    "The missing values are all 0 as the are technical missing rather than captures as `unknown` or `?`. Therefore we should replace them with `None`"
   ]
  },
  {
   "cell_type": "code",
   "execution_count": null,
   "id": "0a244e54",
   "metadata": {},
   "outputs": [],
   "source": [
    "# Step 2.1.1.6. - Check for Unique Values and their amount\n",
    "# Specify the columns to check for unique values\n",
    "unique_value_columns = [col for col in df_votings.columns if col != 'ID']\n",
    "\n",
    "# Call the function to count unique values in the specified columns\n",
    "unique_values = count_unique_values(df_votings, unique_value_columns)\n",
    "\n",
    "# Display the unique values\n",
    "display(unique_values)"
   ]
  },
  {
   "cell_type": "code",
   "execution_count": null,
   "id": "9cc3e692",
   "metadata": {},
   "outputs": [],
   "source": [
    "# Step 2.1.1.7. - Display a summary of statistics (numerical columns)\n",
    "print(\"Summary Statistics:\")\n",
    "print(df_votings.describe())"
   ]
  },
  {
   "cell_type": "markdown",
   "id": "3f31df34",
   "metadata": {},
   "source": [
    "--> Describe method is not not useful at this point as all columns are text based and nothing else is numeric except ID"
   ]
  },
  {
   "cell_type": "markdown",
   "id": "f65af5ff",
   "metadata": {},
   "source": [
    "## 2.2. Data Pre-Processing"
   ]
  },
  {
   "cell_type": "markdown",
   "id": "3f0e5702",
   "metadata": {},
   "source": [
    "### 2.2.1 Replace Values"
   ]
  },
  {
   "cell_type": "code",
   "execution_count": null,
   "id": "c8afe703",
   "metadata": {},
   "outputs": [],
   "source": [
    "# Specify the columns to replace values\n",
    "replace_value_columns = [col for col in df_votings.columns if col != 'ID']\n",
    "\n",
    "# Define the value mapping for replacement\n",
    "replacement_mapping = {\n",
    "    'y': 1,\n",
    "    'n': 0,\n",
    "    'unknown': np.nan,\n",
    "    '?': np.nan\n",
    "}\n",
    "\n",
    "# Call the function to replace values in the specified columns\n",
    "df_votings_replaced = replace_values(df_votings, replace_value_columns, replacement_mapping)\n",
    "\n",
    "print(summarize_missing(df_votings_replaced))"
   ]
  },
  {
   "cell_type": "markdown",
   "id": "ba950d5a",
   "metadata": {},
   "source": [
    "### 2.2.2 Handle Missing Values"
   ]
  },
  {
   "cell_type": "code",
   "execution_count": null,
   "id": "45878309",
   "metadata": {},
   "outputs": [],
   "source": [
    "# 2. Drop columns that have more than 20% missing values\n",
    "df1 = drop_columns_missing(df_votings_replaced, threshold=0.20)\n",
    "\n",
    "# 3. Drop rows that have more than 30% missing values\n",
    "df2 = drop_rows_missing(df1, threshold=0.30)\n",
    "\n",
    "# 4. Impute missing values in the voting-related columns using the mode (most frequent value)\n",
    "vote_cols = [c for c in df2.columns if c not in ['ID', 'class']]  # Define the columns to impute\n",
    "df_votings_cleaned = impute_mode(df2, columns=vote_cols)\n",
    "\n",
    "#  5. Summarize the missing values for the dataset\n",
    "print(summarize_missing(df_votings_cleaned))"
   ]
  },
  {
   "cell_type": "markdown",
   "id": "65fe38b1",
   "metadata": {},
   "source": [
    "## 2.3 Data Analysis"
   ]
  },
  {
   "cell_type": "markdown",
   "id": "0e9c6447",
   "metadata": {},
   "source": [
    "### 2.3.1 Distribution of Votes by Party"
   ]
  },
  {
   "cell_type": "code",
   "execution_count": null,
   "id": "831526a4",
   "metadata": {},
   "outputs": [],
   "source": [
    "\n",
    "def plot_vote_distribution(df) -> None:\n",
    "    \"\"\"\n",
    "    Plot the distribution of votes for a specific party.\n",
    "    \n",
    "    Parameters:\n",
    "    df (DataFrame): The DataFrame containing voting data.\n",
    "    party (str): The party to plot ('democrat' or 'republican').\n",
    "    \n",
    "    Returns:\n",
    "    None\n",
    "    \"\"\"\n",
    "    # Selecting all columns except \"ID\" and \"class\" for voting-related columns\n",
    "    vote_cols = [c for c in df.columns if c not in [\"ID\", \"class\"]]\n",
    "\n",
    "    # Defining the grid size for subplots (4 rows and 4 columns)\n",
    "    rows = 4\n",
    "    cols = 4\n",
    "    # Titles for each subplot will be the names of the voting columns\n",
    "    subplot_titles = vote_cols\n",
    "\n",
    "    # Create a subplot figure with the specified number of rows and columns\n",
    "    fig = make_subplots(\n",
    "        rows=rows, \n",
    "        cols=cols, \n",
    "        subplot_titles=subplot_titles,      # Setting titles for each subplot\n",
    "        vertical_spacing=0.1,               # Vertical spacing between subplots\n",
    "        horizontal_spacing=0.05             # Horizontal spacing between subplots  \n",
    "    )\n",
    "\n",
    "    # Loop through each of the voting columns to create a subplot for each\n",
    "    for idx, col in enumerate(vote_cols, 1):\n",
    "        # Determine the row and column position for each subplot based on index\n",
    "        row = (idx-1)//cols + 1\n",
    "        col_pos = (idx-1)%cols + 1\n",
    "        \n",
    "        # Calculate the normalized voting proportions for the \"Democrat\" class in the current column\n",
    "        democrat_counts = df[df[\"class\"] == \"democrat\"][col].value_counts(normalize=True)\n",
    "\n",
    "        # Calculate the normalized voting proportions for the \"Republican\" class in the current column\n",
    "        republican_counts = df[df[\"class\"] == \"republican\"][col].value_counts(normalize=True)\n",
    "        \n",
    "        # Add a bar trace for Democrat votes in the current subplot (row, col)\n",
    "        fig.add_trace(\n",
    "            go.Bar(\n",
    "                x=democrat_counts.index,        # Categories of votes (e.g., Yes, No, etc.)\n",
    "                y=democrat_counts.values,       # Proportion of votes for each category\n",
    "                name=\"Democrat\",                # Label for the Democrat party in the legend\n",
    "                marker_color=\"blue\",            # Blue color for the Democrat bars\n",
    "                showlegend=(idx == 1)           # Show the legend only for the first subplot\n",
    "            ),\n",
    "            row=row,            # Position the plot at the correct row\n",
    "            col=col_pos         # Position the plot at the correct column\n",
    "        )\n",
    "    \n",
    "        # Add a bar trace for Republican votes in the current subplot (row, col)\n",
    "        fig.add_trace(\n",
    "            go.Bar(\n",
    "                x=republican_counts.index,      # Categories of votes (e.g., Yes, No, etc.)\n",
    "                y=republican_counts.values,     # Proportion of votes for each category\n",
    "                name=\"Republican\",              # Label for the Republican party in the legend\n",
    "                marker_color=\"red\",             # Red color for the Republican bars\n",
    "                showlegend=(idx == 1)           # Show the legend only for the first subplot\n",
    "            ),\n",
    "            row=row,        # Position the plot at the correct row\n",
    "            col=col_pos     # Position the plot at the correct column\n",
    "        )\n",
    "\n",
    "    # Update the layout of the figure to include a title and adjust the overall look\n",
    "    fig.update_layout(\n",
    "        height=1200, \n",
    "        width=1200,\n",
    "        title_text=\"Distribution of Votes by Party in %\",\n",
    "        bargap=0.2,\n",
    "        legend=dict(orientation=\"h\", yanchor=\"bottom\", y=1.02)  # Position the legend horizontally above the subplots\n",
    "    )\n",
    "\n",
    "    # Update the x and y axis labels for each subplot\n",
    "    for i in range(1, rows * cols + 1):\n",
    "        # Remove x-axis titles (no need for titles in these bar plots)\n",
    "        fig.update_xaxes(title_text=\"\", row=(i - 1) // cols + 1, col=(i - 1) % cols + 1)\n",
    "        # Set y-axis label to \"Proportion\" for all subplots\n",
    "        fig.update_yaxes(title_text=\"Proportion\", row=(i - 1) // cols + 1, col=(i - 1) % cols + 1)\n",
    "\n",
    "    # Display the figure\n",
    "    fig.show()"
   ]
  },
  {
   "cell_type": "code",
   "execution_count": null,
   "id": "7508af44",
   "metadata": {},
   "outputs": [],
   "source": [
    "plot_vote_distribution(df_votings)"
   ]
  },
  {
   "cell_type": "code",
   "execution_count": null,
   "id": "9084479f",
   "metadata": {},
   "outputs": [],
   "source": [
    "plot_vote_distribution(df_votings_cleaned)"
   ]
  },
  {
   "cell_type": "markdown",
   "id": "7c4bc819",
   "metadata": {},
   "source": [
    "### 2.3.2 Correlation Matrix of Vote Features"
   ]
  },
  {
   "cell_type": "code",
   "execution_count": null,
   "id": "e86fc2f9",
   "metadata": {},
   "outputs": [],
   "source": [
    "def plot_vote_correlation(df) -> None:\n",
    "    \"\"\"\n",
    "    Generates and displays a heatmap of the correlation matrix for a given DataFrame.\n",
    "\n",
    "    This function first converts all values in the DataFrame to numeric values, \n",
    "    coercing any non-numeric values to NaN. Then, it calculates the correlation \n",
    "    matrix of the cleaned data and visualizes the correlation between different \n",
    "    features using a heatmap. The heatmap is displayed using Plotly, with a \n",
    "    color scale ranging from -1 (negative correlation) to +1 (positive correlation).\n",
    "\n",
    "    Parameters:\n",
    "    df (pandas.DataFrame): A pandas DataFrame containing vote-related features, \n",
    "                            where columns represent different features and rows \n",
    "                            represent individual observations.\n",
    "\n",
    "    Returns:\n",
    "    None: This function displays the heatmap directly but does not return any value.\n",
    "\n",
    "    Example:\n",
    "    plot_vote_correlation(vote_df)\n",
    "    \"\"\"\n",
    "    # Apply the 'pd.to_numeric' function to convert all values in the DataFrame to numeric, \n",
    "    # coercing any non-numeric values to NaN (missing values).\n",
    "    df_encoded = df.apply(pd.to_numeric, errors='coerce')\n",
    "\n",
    "    # Calculate the correlation matrix of the cleaned and encoded DataFrame\n",
    "    corr_test = df_encoded.corr()\n",
    "\n",
    "    # Create a heatmap figure to visualize the correlation matrix\n",
    "    fig_corr = go.Figure(data=go.Heatmap(\n",
    "        z=corr_test.values,\n",
    "        x=corr_test.columns,\n",
    "        y=corr_test.index,\n",
    "        colorscale=\"RdBu\",\n",
    "        zmin=-1,\n",
    "        zmax=1,\n",
    "        colorbar=dict(title=\"Correlation\")\n",
    "    ))\n",
    "\n",
    "    # Update the layout of the heatmap\n",
    "    fig_corr.update_layout(\n",
    "        title=\"Correlation Matrix of Vote Features\",  # Main title for the heatmap\n",
    "        width=1000,  # Width of the heatmap figure (in pixels)\n",
    "        height=800,  # Height of the heatmap figure (in pixels)\n",
    "        title_x=0.5  # Center the title horizontally on the plot\n",
    "    )\n",
    "\n",
    "    # Display the heatmap\n",
    "    fig_corr.show()"
   ]
  },
  {
   "cell_type": "code",
   "execution_count": null,
   "id": "8244ee25",
   "metadata": {},
   "outputs": [],
   "source": [
    "import plotly.express as px\n",
    "\n",
    "def plot_votes_class_balance(df_votings):\n",
    "    \"\"\"\n",
    "    Generates a histogram showing the class balance in congressional voting \n",
    "    along with annotations displaying the absolute count and percentage for \n",
    "    each class (e.g., Democrat and Republican).\n",
    "\n",
    "    Parameters:\n",
    "    df_votings (pandas.DataFrame): The dataframe containing the voting data \n",
    "                                    with a column named 'class' indicating \n",
    "                                    the political party ('democrat' or 'republican').\n",
    "\n",
    "    Returns:\n",
    "    plotly.graph_objects.Figure: A Plotly histogram figure with custom annotations.\n",
    "    \"\"\"\n",
    "    # Calculate class counts and proportions\n",
    "    class_counts = df_votings[\"class\"].value_counts()  # Count the occurrences of each class\n",
    "    class_props = class_counts / class_counts.sum()  # Calculate the proportions for each class\n",
    "\n",
    "    # Create histogram without text_auto\n",
    "    fig_class = px.histogram(\n",
    "        df_votings,\n",
    "        x=\"class\",\n",
    "        color=\"class\",\n",
    "        color_discrete_map={\"democrat\": \"#0015BC\", \"republican\": \"#E9141D\"},  # Assign colors for each class\n",
    "        title=\"<b>Class Balance in Congressional Voting</b>\",  # Title of the chart\n",
    "        category_orders={\"class\": [\"democrat\", \"republican\"]},  # Order of categories\n",
    "        labels={\"class\": \"Political Party\"},  # Label for the 'class' axis\n",
    "        width=800,\n",
    "        height=500\n",
    "    )\n",
    "\n",
    "    # Manually add annotations: absolute count + percentage\n",
    "    for i, (count, prop) in enumerate(zip(class_counts, class_props)):\n",
    "        fig_class.add_annotation(\n",
    "            x=class_counts.index[i],  # Position annotation at the class\n",
    "            y=count / 2,  # Center the annotation in the bar\n",
    "            text=f\"<b>{count} ({prop:.1%})</b>\",  # Display the count and percentage\n",
    "            showarrow=False,  # Do not display an arrow for annotation\n",
    "            font=dict(size=14, color=\"white\", family=\"Arial Black\"),  # Font style for annotations\n",
    "            align=\"center\"  # Center align the text\n",
    "        )\n",
    "\n",
    "    # Layout adjustments\n",
    "    fig_class.update_layout(\n",
    "        uniformtext_minsize=12,  # Minimum size for uniform text\n",
    "        uniformtext_mode=\"hide\",  # Hide text when there is not enough space\n",
    "        yaxis=dict(range=[0, max(class_counts) * 1.2])  # Adjust the y-axis range to give extra space\n",
    "    )\n",
    "\n",
    "    # Bar text (not needed – disabled)\n",
    "    fig_class.update_traces(\n",
    "        text=None,  # Disable bar text\n",
    "        marker_line_width=0  # Disable the line around bars\n",
    "    )\n",
    "\n",
    "    fig_class.show()  # Display the histogram figure\n"
   ]
  },
  {
   "cell_type": "code",
   "execution_count": null,
   "id": "5fde7c29",
   "metadata": {},
   "outputs": [],
   "source": [
    "plot_votes_class_balance(df_votings)"
   ]
  },
  {
   "cell_type": "code",
   "execution_count": null,
   "id": "ba9e3633",
   "metadata": {},
   "outputs": [],
   "source": [
    "plot_votes_class_balance(df_votings_cleaned)"
   ]
  }
 ],
 "metadata": {
  "language_info": {
   "name": "python"
  }
 },
 "nbformat": 4,
 "nbformat_minor": 5
}
