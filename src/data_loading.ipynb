{
 "cells": [
  {
   "cell_type": "markdown",
   "id": "2dc7194a",
   "metadata": {},
   "source": [
    "## 2. Data loading"
   ]
  },
  {
   "cell_type": "markdown",
   "id": "af908913",
   "metadata": {},
   "source": [
    "### Introduction to the Dat Sets\n",
    "\n",
    "- From UCI Machine Learning Repository\n",
    "  - Maternal Health Risk -> https://archive.ics.uci.edu/dataset/863/maternal+health+risk\n",
    "  - Autistic Spectrum Disorder Screening Data for Children -> https://archive.ics.uci.edu/dataset/419/autistic+spectrum+disorder+screening+data+for+children\n",
    "- From Kaggle\n",
    "  - 184.702 TU ML 2025S - Reviews -> https://www.kaggle.com/competitions/184-702-tu-ml-2025-s-reviews/data\n",
    "  - 184.702 TU ML 2025S - Congressional Voting -> https://www.kaggle.com/competitions/184-702-tu-ml-2025-s-congressional-voting/data"
   ]
  },
  {
   "cell_type": "markdown",
   "id": "992c9db5",
   "metadata": {},
   "source": [
    "### Download and save Kaggle Datasets"
   ]
  },
  {
   "cell_type": "code",
   "execution_count": 34,
   "id": "511eb463",
   "metadata": {},
   "outputs": [],
   "source": [
    "import pandas as pd\n",
    "from logger import Logger\n",
    "from ucimlrepo import fetch_ucirepo\n",
    "\n",
    "logger = Logger(__name__)"
   ]
  },
  {
   "cell_type": "code",
   "execution_count": 35,
   "id": "22262e85",
   "metadata": {},
   "outputs": [],
   "source": [
    "# Clean the data directory\n",
    "!rm -rf ../data/"
   ]
  },
  {
   "cell_type": "code",
   "execution_count": 36,
   "id": "6a24a8f2",
   "metadata": {},
   "outputs": [],
   "source": [
    "# Prepare Folders Structure\n",
    "!mkdir -p ../data/archiv\n",
    "!mkdir -p ../data/raw/kaggle/reviews\n",
    "!mkdir -p ../data/raw/kaggle/congress\n",
    "!mkdir -p ../data/raw/uci/mental_health_risk\n",
    "!mkdir -p ../data/raw/uci/autistic_spectrum"
   ]
  },
  {
   "cell_type": "code",
   "execution_count": 38,
   "id": "3c9d31f5",
   "metadata": {},
   "outputs": [
    {
     "name": "stdout",
     "output_type": "stream",
     "text": [
      "184-702-tu-ml-2025-s-reviews.zip: Skipping, found more recently modified local copy (use --force to force download)\n"
     ]
    },
    {
     "name": "stderr",
     "output_type": "stream",
     "text": [
      "2025-04-26 16:23:04,310 - __main__ - INFO - Reviews dataset downloaded and extracted.\n"
     ]
    },
    {
     "name": "stdout",
     "output_type": "stream",
     "text": [
      "184-702-tu-ml-2025-s-congressional-voting.zip: Skipping, found more recently modified local copy (use --force to force download)\n"
     ]
    },
    {
     "name": "stderr",
     "output_type": "stream",
     "text": [
      "2025-04-26 16:23:05,606 - __main__ - INFO - Congressional Voting Records dataset downloaded and extracted.\n"
     ]
    }
   ],
   "source": [
    "# Reviews-Dataset in ../data/reviews speichern\n",
    "!kaggle competitions download -c 184-702-tu-ml-2025-s-reviews -p ../data/archiv/kaggle/\n",
    "!unzip -qo ../data/archiv/kaggle/184-702-tu-ml-2025-s-reviews.zip -d ../data/raw/kaggle/reviews/\n",
    "logger.info(\"Reviews dataset downloaded and extracted.\")\n",
    "\n",
    "# Congressional Voting Records in ../data/congress speichern\n",
    "!kaggle competitions download -c 184-702-tu-ml-2025-s-congressional-voting -p ../data/archiv/kaggle/\n",
    "!unzip -qo ../data/archiv/kaggle/184-702-tu-ml-2025-s-congressional-voting.zip -d ../data/raw/kaggle/congress/\n",
    "logger.info(\"Congressional Voting Records dataset downloaded and extracted.\")\n",
    "\n",
    "# Load the datasets into a pandas DataFrame\n",
    "df_reviews = pd.read_csv(\"../data/raw/kaggle/reviews/amazon_review_ID.shuf.lrn.csv\")\n",
    "df_congress = pd.read_csv(\"../data/raw/kaggle/congress/CongressionalVotingID.shuf.lrn.csv\")\n"
   ]
  },
  {
   "cell_type": "markdown",
   "id": "1043903c",
   "metadata": {},
   "source": [
    "### Download and save UCI Datasets"
   ]
  },
  {
   "cell_type": "code",
   "execution_count": null,
   "id": "a69f4ff5",
   "metadata": {},
   "outputs": [
    {
     "name": "stderr",
     "output_type": "stream",
     "text": [
      "2025-04-26 10:20:30,833 - __main__ - INFO - Maternal Health Risk dataset successfully saved at ../data/uci/mental_health_risk/maternal_health_risk.csv\n",
      "2025-04-26 10:20:32,614 - __main__ - INFO - Autistic Spectrum dataset successfully saved at ../data/uci/autistic_spectrum/asd_screening.csv\n"
     ]
    }
   ],
   "source": [
    "# ------- Mental Health Risk ------- #\n",
    "# Download the mental health risk dataset\n",
    "# fetch dataset \n",
    "maternal_health_risk = fetch_ucirepo(id=863) \n",
    "  \n",
    "# data (as pandas dataframes) \n",
    "X_maternal = maternal_health_risk.data.features\n",
    "y_maternal = maternal_health_risk.data.targets\n",
    "df_maternal = pd.concat([X_maternal, y_maternal], axis=1)\n",
    "  \n",
    "# Save the dataset to CSV\n",
    "maternal_path = '../data/raw/uci/mental_health_risk/maternal_health_risk.csv'\n",
    "df_maternal.to_csv(maternal_path, index=False)\n",
    "logger.info(f\"Maternal Health Risk dataset successfully saved at {maternal_path}\")\n",
    "\n",
    "\n",
    "\n",
    "\n",
    "# ------- Autistic Spectrum ------- #\n",
    "# Download the autistic spectrum dataset\n",
    "# fetch dataset \n",
    "asd_data = fetch_ucirepo(id=419) \n",
    "  \n",
    "# data (as pandas dataframes) \n",
    "X_asd = asd_data.data.features\n",
    "y_asd = asd_data.data.targets\n",
    "df_asd = pd.concat([X_asd, y_asd], axis=1)\n",
    "  \n",
    "# Save the dataset to CSV\n",
    "asd_path = '../data/raw/uci/autistic_spectrum/asd_screening.csv'\n",
    "df_asd.to_csv(asd_path, index=False)\n",
    "logger.info(f\"Autistic Spectrum dataset successfully saved at {asd_path}\")\n",
    "\n",
    "# "
   ]
  }
 ],
 "metadata": {
  "kernelspec": {
   "display_name": ".venv",
   "language": "python",
   "name": "python3"
  },
  "language_info": {
   "codemirror_mode": {
    "name": "ipython",
    "version": 3
   },
   "file_extension": ".py",
   "mimetype": "text/x-python",
   "name": "python",
   "nbconvert_exporter": "python",
   "pygments_lexer": "ipython3",
   "version": "3.10.12"
  }
 },
 "nbformat": 4,
 "nbformat_minor": 5
}
