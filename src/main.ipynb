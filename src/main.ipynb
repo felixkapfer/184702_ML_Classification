{
 "cells": [
  {
   "cell_type": "markdown",
   "id": "77f5e718",
   "metadata": {},
   "source": [
    "# Classification Task – Dataset Loading & Preparation"
   ]
  },
  {
   "cell_type": "markdown",
   "id": "5ae2fa32",
   "metadata": {},
   "source": [
    "## 1. Notebook Preparation"
   ]
  },
  {
   "cell_type": "markdown",
   "id": "f672624a",
   "metadata": {},
   "source": [
    "### Install necessary libraries and dependencies"
   ]
  },
  {
   "cell_type": "code",
   "execution_count": 73,
   "id": "7ce9a58b",
   "metadata": {},
   "outputs": [
    {
     "name": "stdout",
     "output_type": "stream",
     "text": [
      "Note: you may need to restart the kernel to use updated packages.\n",
      "Note: you may need to restart the kernel to use updated packages.\n",
      "Note: you may need to restart the kernel to use updated packages.\n",
      "Note: you may need to restart the kernel to use updated packages.\n"
     ]
    }
   ],
   "source": [
    "# Upgrade pip and install Jupyter Notebook and other dependencies\n",
    "%pip install --upgrade notebook ipywidgets nbformat nbimporter import_ipynb --quiet\n",
    "\n",
    "# Install ucimlrepo package for accessing UCI ML datasets\n",
    "%pip install ucimlrepo --quiet\n",
    "\n",
    "# Install kaeggle package for Kaggle datasets\n",
    "%pip install kaggle --quiet\n",
    "\n",
    "%pip install pandas numpy scikit-learn plotly seaborn --quiet"
   ]
  }
 ],
 "metadata": {
  "kernelspec": {
   "display_name": ".venv",
   "language": "python",
   "name": "python3"
  },
  "language_info": {
   "codemirror_mode": {
    "name": "ipython",
    "version": 3
   },
   "file_extension": ".py",
   "mimetype": "text/x-python",
   "name": "python",
   "nbconvert_exporter": "python",
   "pygments_lexer": "ipython3",
   "version": "3.10.12"
  }
 },
 "nbformat": 4,
 "nbformat_minor": 5
}
