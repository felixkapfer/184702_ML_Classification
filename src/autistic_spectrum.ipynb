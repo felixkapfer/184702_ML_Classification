{
 "cells": [
  {
   "cell_type": "markdown",
   "id": "361bdb8a",
   "metadata": {},
   "source": [
    "## 4. Autistic Spectrum Disorder Screening Data for Children Data Set"
   ]
  },
  {
   "cell_type": "code",
   "execution_count": 51,
   "id": "9ae72f9c",
   "metadata": {},
   "outputs": [],
   "source": [
    "# Import the necessary libraries\n",
    "import pandas as pd\n",
    "import numpy as np\n",
    "import plotly.express as px\n",
    "import plotly.graph_objects as go\n",
    "import seaborn as sns\n",
    "import matplotlib.pyplot as plt\n",
    "\n",
    "from logger import Logger\n",
    "from helpers import count_unique_values, replace_values\n",
    "from plotly.subplots import make_subplots"
   ]
  },
  {
   "cell_type": "code",
   "execution_count": 52,
   "id": "e4d7165e",
   "metadata": {},
   "outputs": [],
   "source": [
    "# Create logger instance\n",
    "logger = Logger(__name__)"
   ]
  },
  {
   "cell_type": "code",
   "execution_count": 53,
   "id": "1a0eacb0",
   "metadata": {},
   "outputs": [],
   "source": [
    "df_asd = pd.read_csv('../data/uci/autistic_spectrum/asd_screening.csv')"
   ]
  },
  {
   "cell_type": "code",
   "execution_count": 54,
   "id": "dd387ade",
   "metadata": {},
   "outputs": [
    {
     "name": "stdout",
     "output_type": "stream",
     "text": [
      "<class 'pandas.core.frame.DataFrame'>\n",
      "RangeIndex: 292 entries, 0 to 291\n",
      "Data columns (total 21 columns):\n",
      " #   Column           Non-Null Count  Dtype  \n",
      "---  ------           --------------  -----  \n",
      " 0   A1_Score         292 non-null    int64  \n",
      " 1   A2_Score         292 non-null    int64  \n",
      " 2   A3_Score         292 non-null    int64  \n",
      " 3   A4_Score         292 non-null    int64  \n",
      " 4   A5_Score         292 non-null    int64  \n",
      " 5   A6_Score         292 non-null    int64  \n",
      " 6   A7_Score         292 non-null    int64  \n",
      " 7   A8_Score         292 non-null    int64  \n",
      " 8   A9_Score         292 non-null    int64  \n",
      " 9   A10_Score        292 non-null    int64  \n",
      " 10  age              288 non-null    float64\n",
      " 11  gender           292 non-null    object \n",
      " 12  ethnicity        249 non-null    object \n",
      " 13  jaundice         292 non-null    object \n",
      " 14  autism           292 non-null    object \n",
      " 15  country_of_res   292 non-null    object \n",
      " 16  used_app_before  292 non-null    object \n",
      " 17  result           292 non-null    int64  \n",
      " 18  age_desc         292 non-null    object \n",
      " 19  relation         249 non-null    object \n",
      " 20  class            292 non-null    object \n",
      "dtypes: float64(1), int64(11), object(9)\n",
      "memory usage: 48.0+ KB\n"
     ]
    }
   ],
   "source": [
    "# Step 1.1 - Display the dataset information:\n",
    "df_asd.info()"
   ]
  },
  {
   "cell_type": "code",
   "execution_count": 55,
   "id": "a1a7cb06",
   "metadata": {},
   "outputs": [
    {
     "data": {
      "text/html": [
       "<div>\n",
       "<style scoped>\n",
       "    .dataframe tbody tr th:only-of-type {\n",
       "        vertical-align: middle;\n",
       "    }\n",
       "\n",
       "    .dataframe tbody tr th {\n",
       "        vertical-align: top;\n",
       "    }\n",
       "\n",
       "    .dataframe thead th {\n",
       "        text-align: right;\n",
       "    }\n",
       "</style>\n",
       "<table border=\"1\" class=\"dataframe\">\n",
       "  <thead>\n",
       "    <tr style=\"text-align: right;\">\n",
       "      <th></th>\n",
       "      <th>A1_Score</th>\n",
       "      <th>A2_Score</th>\n",
       "      <th>A3_Score</th>\n",
       "      <th>A4_Score</th>\n",
       "      <th>A5_Score</th>\n",
       "      <th>A6_Score</th>\n",
       "      <th>A7_Score</th>\n",
       "      <th>A8_Score</th>\n",
       "      <th>A9_Score</th>\n",
       "      <th>A10_Score</th>\n",
       "      <th>...</th>\n",
       "      <th>gender</th>\n",
       "      <th>ethnicity</th>\n",
       "      <th>jaundice</th>\n",
       "      <th>autism</th>\n",
       "      <th>country_of_res</th>\n",
       "      <th>used_app_before</th>\n",
       "      <th>result</th>\n",
       "      <th>age_desc</th>\n",
       "      <th>relation</th>\n",
       "      <th>class</th>\n",
       "    </tr>\n",
       "  </thead>\n",
       "  <tbody>\n",
       "    <tr>\n",
       "      <th>0</th>\n",
       "      <td>1</td>\n",
       "      <td>1</td>\n",
       "      <td>0</td>\n",
       "      <td>0</td>\n",
       "      <td>1</td>\n",
       "      <td>1</td>\n",
       "      <td>0</td>\n",
       "      <td>1</td>\n",
       "      <td>0</td>\n",
       "      <td>0</td>\n",
       "      <td>...</td>\n",
       "      <td>m</td>\n",
       "      <td>Others</td>\n",
       "      <td>no</td>\n",
       "      <td>no</td>\n",
       "      <td>Jordan</td>\n",
       "      <td>no</td>\n",
       "      <td>5</td>\n",
       "      <td>'4-11 years'</td>\n",
       "      <td>Parent</td>\n",
       "      <td>NO</td>\n",
       "    </tr>\n",
       "    <tr>\n",
       "      <th>1</th>\n",
       "      <td>1</td>\n",
       "      <td>1</td>\n",
       "      <td>0</td>\n",
       "      <td>0</td>\n",
       "      <td>1</td>\n",
       "      <td>1</td>\n",
       "      <td>0</td>\n",
       "      <td>1</td>\n",
       "      <td>0</td>\n",
       "      <td>0</td>\n",
       "      <td>...</td>\n",
       "      <td>m</td>\n",
       "      <td>'Middle Eastern '</td>\n",
       "      <td>no</td>\n",
       "      <td>no</td>\n",
       "      <td>Jordan</td>\n",
       "      <td>no</td>\n",
       "      <td>5</td>\n",
       "      <td>'4-11 years'</td>\n",
       "      <td>Parent</td>\n",
       "      <td>NO</td>\n",
       "    </tr>\n",
       "    <tr>\n",
       "      <th>2</th>\n",
       "      <td>1</td>\n",
       "      <td>1</td>\n",
       "      <td>0</td>\n",
       "      <td>0</td>\n",
       "      <td>0</td>\n",
       "      <td>1</td>\n",
       "      <td>1</td>\n",
       "      <td>1</td>\n",
       "      <td>0</td>\n",
       "      <td>0</td>\n",
       "      <td>...</td>\n",
       "      <td>m</td>\n",
       "      <td>NaN</td>\n",
       "      <td>no</td>\n",
       "      <td>no</td>\n",
       "      <td>Jordan</td>\n",
       "      <td>yes</td>\n",
       "      <td>5</td>\n",
       "      <td>'4-11 years'</td>\n",
       "      <td>NaN</td>\n",
       "      <td>NO</td>\n",
       "    </tr>\n",
       "    <tr>\n",
       "      <th>3</th>\n",
       "      <td>0</td>\n",
       "      <td>1</td>\n",
       "      <td>0</td>\n",
       "      <td>0</td>\n",
       "      <td>1</td>\n",
       "      <td>1</td>\n",
       "      <td>0</td>\n",
       "      <td>0</td>\n",
       "      <td>0</td>\n",
       "      <td>1</td>\n",
       "      <td>...</td>\n",
       "      <td>f</td>\n",
       "      <td>NaN</td>\n",
       "      <td>yes</td>\n",
       "      <td>no</td>\n",
       "      <td>Jordan</td>\n",
       "      <td>no</td>\n",
       "      <td>4</td>\n",
       "      <td>'4-11 years'</td>\n",
       "      <td>NaN</td>\n",
       "      <td>NO</td>\n",
       "    </tr>\n",
       "    <tr>\n",
       "      <th>4</th>\n",
       "      <td>1</td>\n",
       "      <td>1</td>\n",
       "      <td>1</td>\n",
       "      <td>1</td>\n",
       "      <td>1</td>\n",
       "      <td>1</td>\n",
       "      <td>1</td>\n",
       "      <td>1</td>\n",
       "      <td>1</td>\n",
       "      <td>1</td>\n",
       "      <td>...</td>\n",
       "      <td>m</td>\n",
       "      <td>Others</td>\n",
       "      <td>yes</td>\n",
       "      <td>no</td>\n",
       "      <td>'United States'</td>\n",
       "      <td>no</td>\n",
       "      <td>10</td>\n",
       "      <td>'4-11 years'</td>\n",
       "      <td>Parent</td>\n",
       "      <td>YES</td>\n",
       "    </tr>\n",
       "  </tbody>\n",
       "</table>\n",
       "<p>5 rows × 21 columns</p>\n",
       "</div>"
      ],
      "text/plain": [
       "   A1_Score  A2_Score  A3_Score  A4_Score  A5_Score  A6_Score  A7_Score  \\\n",
       "0         1         1         0         0         1         1         0   \n",
       "1         1         1         0         0         1         1         0   \n",
       "2         1         1         0         0         0         1         1   \n",
       "3         0         1         0         0         1         1         0   \n",
       "4         1         1         1         1         1         1         1   \n",
       "\n",
       "   A8_Score  A9_Score  A10_Score  ...  gender          ethnicity jaundice  \\\n",
       "0         1         0          0  ...       m             Others       no   \n",
       "1         1         0          0  ...       m  'Middle Eastern '       no   \n",
       "2         1         0          0  ...       m                NaN       no   \n",
       "3         0         0          1  ...       f                NaN      yes   \n",
       "4         1         1          1  ...       m             Others      yes   \n",
       "\n",
       "  autism   country_of_res used_app_before result      age_desc relation class  \n",
       "0     no           Jordan              no      5  '4-11 years'   Parent    NO  \n",
       "1     no           Jordan              no      5  '4-11 years'   Parent    NO  \n",
       "2     no           Jordan             yes      5  '4-11 years'      NaN    NO  \n",
       "3     no           Jordan              no      4  '4-11 years'      NaN    NO  \n",
       "4     no  'United States'              no     10  '4-11 years'   Parent   YES  \n",
       "\n",
       "[5 rows x 21 columns]"
      ]
     },
     "metadata": {},
     "output_type": "display_data"
    }
   ],
   "source": [
    "# Step 1.2 - Display the first rows of the dataframe:\n",
    "display(df_asd.head())"
   ]
  },
  {
   "cell_type": "code",
   "execution_count": 56,
   "id": "79ff130f",
   "metadata": {},
   "outputs": [
    {
     "name": "stdout",
     "output_type": "stream",
     "text": [
      "Dataset Dimensions:\n",
      "- Rows: 292\n",
      "- Columns: 21\n"
     ]
    }
   ],
   "source": [
    "# Step 1.3 - Dataset Dimensions\n",
    "print(\"Dataset Dimensions:\")\n",
    "print(f\"- Rows: {df_asd.shape[0]}\")\n",
    "print(f\"- Columns: {df_asd.shape[1]}\")"
   ]
  },
  {
   "cell_type": "code",
   "execution_count": 57,
   "id": "7bc89d64",
   "metadata": {},
   "outputs": [
    {
     "name": "stdout",
     "output_type": "stream",
     "text": [
      "Column Names and Data Types:\n",
      "A1_Score             int64\n",
      "A2_Score             int64\n",
      "A3_Score             int64\n",
      "A4_Score             int64\n",
      "A5_Score             int64\n",
      "A6_Score             int64\n",
      "A7_Score             int64\n",
      "A8_Score             int64\n",
      "A9_Score             int64\n",
      "A10_Score            int64\n",
      "age                float64\n",
      "gender              object\n",
      "ethnicity           object\n",
      "jaundice            object\n",
      "autism              object\n",
      "country_of_res      object\n",
      "used_app_before     object\n",
      "result               int64\n",
      "age_desc            object\n",
      "relation            object\n",
      "class               object\n",
      "dtype: object\n"
     ]
    }
   ],
   "source": [
    "# Step 1.4 - Column Names & Types\n",
    "print(\"Column Names and Data Types:\")\n",
    "print(df_asd.dtypes)"
   ]
  },
  {
   "cell_type": "code",
   "execution_count": 58,
   "id": "0ec360d0",
   "metadata": {},
   "outputs": [
    {
     "name": "stdout",
     "output_type": "stream",
     "text": [
      "Missing Values Per Column:\n",
      "A1_Score            0\n",
      "A2_Score            0\n",
      "A3_Score            0\n",
      "A4_Score            0\n",
      "A5_Score            0\n",
      "A6_Score            0\n",
      "A7_Score            0\n",
      "A8_Score            0\n",
      "A9_Score            0\n",
      "A10_Score           0\n",
      "age                 4\n",
      "gender              0\n",
      "ethnicity          43\n",
      "jaundice            0\n",
      "autism              0\n",
      "country_of_res      0\n",
      "used_app_before     0\n",
      "result              0\n",
      "age_desc            0\n",
      "relation           43\n",
      "class               0\n",
      "dtype: int64\n"
     ]
    }
   ],
   "source": [
    "# Step 1.5 - Missing Values\n",
    "print(\"Missing Values Per Column:\")\n",
    "print(df_asd.isnull().sum())"
   ]
  },
  {
   "cell_type": "code",
   "execution_count": 59,
   "id": "677ac1c8",
   "metadata": {},
   "outputs": [
    {
     "name": "stdout",
     "output_type": "stream",
     "text": [
      "Summary Statistics:\n",
      "         A1_Score    A2_Score    A3_Score    A4_Score    A5_Score    A6_Score  \\\n",
      "count  292.000000  292.000000  292.000000  292.000000  292.000000  292.000000   \n",
      "mean     0.633562    0.534247    0.743151    0.551370    0.743151    0.712329   \n",
      "std      0.482658    0.499682    0.437646    0.498208    0.437646    0.453454   \n",
      "min      0.000000    0.000000    0.000000    0.000000    0.000000    0.000000   \n",
      "25%      0.000000    0.000000    0.000000    0.000000    0.000000    0.000000   \n",
      "50%      1.000000    1.000000    1.000000    1.000000    1.000000    1.000000   \n",
      "75%      1.000000    1.000000    1.000000    1.000000    1.000000    1.000000   \n",
      "max      1.000000    1.000000    1.000000    1.000000    1.000000    1.000000   \n",
      "\n",
      "         A7_Score    A8_Score    A9_Score   A10_Score         age      result  \n",
      "count  292.000000  292.000000  292.000000  292.000000  288.000000  292.000000  \n",
      "mean     0.606164    0.496575    0.493151    0.726027    6.354167    6.239726  \n",
      "std      0.489438    0.500847    0.500811    0.446761    2.365456    2.284882  \n",
      "min      0.000000    0.000000    0.000000    0.000000    4.000000    0.000000  \n",
      "25%      0.000000    0.000000    0.000000    0.000000    4.000000    5.000000  \n",
      "50%      1.000000    0.000000    0.000000    1.000000    6.000000    6.000000  \n",
      "75%      1.000000    1.000000    1.000000    1.000000    8.000000    8.000000  \n",
      "max      1.000000    1.000000    1.000000    1.000000   11.000000   10.000000  \n"
     ]
    }
   ],
   "source": [
    "# Step 1.6 - Summary Statistics (Numerical Columns)\n",
    "print(\"Summary Statistics:\")\n",
    "print(df_asd.describe())"
   ]
  },
  {
   "cell_type": "code",
   "execution_count": 60,
   "id": "0533a67f",
   "metadata": {},
   "outputs": [
    {
     "name": "stdout",
     "output_type": "stream",
     "text": [
      "Target Variable: Class (Autism yes/no)\n",
      "class\n",
      "NO     151\n",
      "YES    141\n",
      "Name: count, dtype: int64\n"
     ]
    }
   ],
   "source": [
    "# Step 1.7 - Target Variable Distribution: RiskLevel\n",
    "print(\"Target Variable: Class (Autism yes/no)\")\n",
    "print(df_asd[\"class\"].value_counts())"
   ]
  },
  {
   "cell_type": "markdown",
   "id": "33bc4d99",
   "metadata": {},
   "source": [
    "Lets investigate the missing values in the children autism dataset."
   ]
  },
  {
   "cell_type": "markdown",
   "id": "7e3b56dc",
   "metadata": {},
   "source": [
    "As the target variable is a binary value it makes sense to convert it into a numerical values for NO -> 0 and Yes -> 1 for easier computation and handling."
   ]
  },
  {
   "cell_type": "code",
   "execution_count": 61,
   "id": "d6bbfaa9",
   "metadata": {},
   "outputs": [],
   "source": [
    "df_asd['class'] = pd.Series(np.where(df_asd['class'].values == 'YES', 1, 0),\n",
    "          df_asd.index)"
   ]
  },
  {
   "cell_type": "markdown",
   "id": "6bcb5760",
   "metadata": {},
   "source": [
    "As the column age_desc is just a range description of the actual dependant variable age it can be dropped."
   ]
  },
  {
   "cell_type": "code",
   "execution_count": 62,
   "id": "919d9464",
   "metadata": {},
   "outputs": [],
   "source": [
    "df_asd = df_asd.drop('age_desc', axis=1)"
   ]
  },
  {
   "cell_type": "markdown",
   "id": "3e1ea5c1",
   "metadata": {},
   "source": [
    "The autism column is not described anywhere and too dependant on the actual class value and is therefore dropped as well."
   ]
  },
  {
   "cell_type": "code",
   "execution_count": 63,
   "id": "7f53ad02",
   "metadata": {},
   "outputs": [],
   "source": [
    "df_asd = df_asd.drop('autism', axis=1)"
   ]
  },
  {
   "cell_type": "markdown",
   "id": "0a906044",
   "metadata": {},
   "source": [
    "Lets investigate the missing values in the dataset for proper handling. "
   ]
  },
  {
   "cell_type": "code",
   "execution_count": 64,
   "id": "c7f41d26",
   "metadata": {},
   "outputs": [
    {
     "data": {
      "text/html": [
       "<div>\n",
       "<style scoped>\n",
       "    .dataframe tbody tr th:only-of-type {\n",
       "        vertical-align: middle;\n",
       "    }\n",
       "\n",
       "    .dataframe tbody tr th {\n",
       "        vertical-align: top;\n",
       "    }\n",
       "\n",
       "    .dataframe thead th {\n",
       "        text-align: right;\n",
       "    }\n",
       "</style>\n",
       "<table border=\"1\" class=\"dataframe\">\n",
       "  <thead>\n",
       "    <tr style=\"text-align: right;\">\n",
       "      <th></th>\n",
       "      <th>missing_count</th>\n",
       "      <th>missing_pct</th>\n",
       "    </tr>\n",
       "  </thead>\n",
       "  <tbody>\n",
       "    <tr>\n",
       "      <th>A1_Score</th>\n",
       "      <td>0</td>\n",
       "      <td>0.000000</td>\n",
       "    </tr>\n",
       "    <tr>\n",
       "      <th>A2_Score</th>\n",
       "      <td>0</td>\n",
       "      <td>0.000000</td>\n",
       "    </tr>\n",
       "    <tr>\n",
       "      <th>A3_Score</th>\n",
       "      <td>0</td>\n",
       "      <td>0.000000</td>\n",
       "    </tr>\n",
       "    <tr>\n",
       "      <th>A4_Score</th>\n",
       "      <td>0</td>\n",
       "      <td>0.000000</td>\n",
       "    </tr>\n",
       "    <tr>\n",
       "      <th>A5_Score</th>\n",
       "      <td>0</td>\n",
       "      <td>0.000000</td>\n",
       "    </tr>\n",
       "    <tr>\n",
       "      <th>A6_Score</th>\n",
       "      <td>0</td>\n",
       "      <td>0.000000</td>\n",
       "    </tr>\n",
       "    <tr>\n",
       "      <th>A7_Score</th>\n",
       "      <td>0</td>\n",
       "      <td>0.000000</td>\n",
       "    </tr>\n",
       "    <tr>\n",
       "      <th>A8_Score</th>\n",
       "      <td>0</td>\n",
       "      <td>0.000000</td>\n",
       "    </tr>\n",
       "    <tr>\n",
       "      <th>A9_Score</th>\n",
       "      <td>0</td>\n",
       "      <td>0.000000</td>\n",
       "    </tr>\n",
       "    <tr>\n",
       "      <th>A10_Score</th>\n",
       "      <td>0</td>\n",
       "      <td>0.000000</td>\n",
       "    </tr>\n",
       "    <tr>\n",
       "      <th>age</th>\n",
       "      <td>4</td>\n",
       "      <td>1.369863</td>\n",
       "    </tr>\n",
       "    <tr>\n",
       "      <th>gender</th>\n",
       "      <td>0</td>\n",
       "      <td>0.000000</td>\n",
       "    </tr>\n",
       "    <tr>\n",
       "      <th>ethnicity</th>\n",
       "      <td>43</td>\n",
       "      <td>14.726027</td>\n",
       "    </tr>\n",
       "    <tr>\n",
       "      <th>jaundice</th>\n",
       "      <td>0</td>\n",
       "      <td>0.000000</td>\n",
       "    </tr>\n",
       "    <tr>\n",
       "      <th>country_of_res</th>\n",
       "      <td>0</td>\n",
       "      <td>0.000000</td>\n",
       "    </tr>\n",
       "    <tr>\n",
       "      <th>used_app_before</th>\n",
       "      <td>0</td>\n",
       "      <td>0.000000</td>\n",
       "    </tr>\n",
       "    <tr>\n",
       "      <th>result</th>\n",
       "      <td>0</td>\n",
       "      <td>0.000000</td>\n",
       "    </tr>\n",
       "    <tr>\n",
       "      <th>relation</th>\n",
       "      <td>43</td>\n",
       "      <td>14.726027</td>\n",
       "    </tr>\n",
       "    <tr>\n",
       "      <th>class</th>\n",
       "      <td>0</td>\n",
       "      <td>0.000000</td>\n",
       "    </tr>\n",
       "  </tbody>\n",
       "</table>\n",
       "</div>"
      ],
      "text/plain": [
       "                 missing_count  missing_pct\n",
       "A1_Score                     0     0.000000\n",
       "A2_Score                     0     0.000000\n",
       "A3_Score                     0     0.000000\n",
       "A4_Score                     0     0.000000\n",
       "A5_Score                     0     0.000000\n",
       "A6_Score                     0     0.000000\n",
       "A7_Score                     0     0.000000\n",
       "A8_Score                     0     0.000000\n",
       "A9_Score                     0     0.000000\n",
       "A10_Score                    0     0.000000\n",
       "age                          4     1.369863\n",
       "gender                       0     0.000000\n",
       "ethnicity                   43    14.726027\n",
       "jaundice                     0     0.000000\n",
       "country_of_res               0     0.000000\n",
       "used_app_before              0     0.000000\n",
       "result                       0     0.000000\n",
       "relation                    43    14.726027\n",
       "class                        0     0.000000"
      ]
     },
     "execution_count": 64,
     "metadata": {},
     "output_type": "execute_result"
    }
   ],
   "source": [
    "from helpers import summarize_missing\n",
    "\n",
    "summarize_missing(df_asd)"
   ]
  },
  {
   "cell_type": "markdown",
   "id": "cdd6905d",
   "metadata": {},
   "source": [
    "The column with the least missing records is the age feature. With a missing value count of 4, it does not really make sense in terms of effort to interpolate these values but to just drop the four records with the missing age value. "
   ]
  },
  {
   "cell_type": "code",
   "execution_count": 65,
   "id": "4dcf7677",
   "metadata": {},
   "outputs": [
    {
     "data": {
      "text/plain": [
       "array([ 6.,  5.,  4., 11., 10.,  8.,  7.,  9., nan])"
      ]
     },
     "execution_count": 65,
     "metadata": {},
     "output_type": "execute_result"
    }
   ],
   "source": [
    "df_asd['age'].unique()"
   ]
  },
  {
   "cell_type": "code",
   "execution_count": 66,
   "id": "933dab56",
   "metadata": {},
   "outputs": [
    {
     "data": {
      "text/plain": [
       "array([ 6.,  5.,  4., 11., 10.,  8.,  7.,  9.])"
      ]
     },
     "execution_count": 66,
     "metadata": {},
     "output_type": "execute_result"
    }
   ],
   "source": [
    "df_asd = df_asd.dropna(subset=['age'])\n",
    "df_asd['age'].unique()"
   ]
  },
  {
   "cell_type": "markdown",
   "id": "c636a3a0",
   "metadata": {},
   "source": [
    "Now lets turn to the two features (ethnicity, relation) with almost 14 percent of the datapoints missing. Lets look at the distinct values these features have."
   ]
  },
  {
   "cell_type": "code",
   "execution_count": 67,
   "id": "73906fbb",
   "metadata": {},
   "outputs": [
    {
     "data": {
      "text/plain": [
       "array(['Others', \"'Middle Eastern '\", nan, 'White-European', 'Black',\n",
       "       \"'South Asian'\", 'Asian', 'Pasifika', 'Hispanic', 'Turkish',\n",
       "       'Latino'], dtype=object)"
      ]
     },
     "execution_count": 67,
     "metadata": {},
     "output_type": "execute_result"
    }
   ],
   "source": [
    "df_asd['ethnicity'].unique()"
   ]
  },
  {
   "cell_type": "code",
   "execution_count": 68,
   "id": "7d66a591",
   "metadata": {},
   "outputs": [
    {
     "data": {
      "text/plain": [
       "array(['Parent', nan, 'Self', 'Relative', \"'Health care professional'\",\n",
       "       'self'], dtype=object)"
      ]
     },
     "execution_count": 68,
     "metadata": {},
     "output_type": "execute_result"
    }
   ],
   "source": [
    "df_asd['relation'].unique()"
   ]
  },
  {
   "cell_type": "markdown",
   "id": "ebfce74b",
   "metadata": {},
   "source": [
    "Firstly, there are duplicates in the unique values. For the relation of the test taker there is a capitalized self value and a non-capitalized self value. These can be merged as the meaning of these values are the same. As the missing data percentage is quite significant, the rows with missing values do not get dropped but replaced with the most frequent value."
   ]
  },
  {
   "cell_type": "code",
   "execution_count": 69,
   "id": "27d130ee",
   "metadata": {},
   "outputs": [
    {
     "data": {
      "text/plain": [
       "array(['Parent', nan, 'Self', 'Relative', \"'Health care professional'\"],\n",
       "      dtype=object)"
      ]
     },
     "execution_count": 69,
     "metadata": {},
     "output_type": "execute_result"
    }
   ],
   "source": [
    "# replace self with Self to merge duplicate values\n",
    "df_asd['relation'] = df_asd['relation'].apply(lambda x: 'Self' if str(x).lower() == 'self' else x)\n",
    "df_asd['relation'].unique()"
   ]
  },
  {
   "cell_type": "code",
   "execution_count": 70,
   "id": "1c849b58",
   "metadata": {},
   "outputs": [
    {
     "data": {
      "text/plain": [
       "array(['Parent', 'Self', 'Relative', \"'Health care professional'\"],\n",
       "      dtype=object)"
      ]
     },
     "metadata": {},
     "output_type": "display_data"
    },
    {
     "data": {
      "text/plain": [
       "array(['Others', \"'Middle Eastern '\", 'White-European', 'Black',\n",
       "       \"'South Asian'\", 'Asian', 'Pasifika', 'Hispanic', 'Turkish',\n",
       "       'Latino'], dtype=object)"
      ]
     },
     "metadata": {},
     "output_type": "display_data"
    },
    {
     "data": {
      "text/html": [
       "<div>\n",
       "<style scoped>\n",
       "    .dataframe tbody tr th:only-of-type {\n",
       "        vertical-align: middle;\n",
       "    }\n",
       "\n",
       "    .dataframe tbody tr th {\n",
       "        vertical-align: top;\n",
       "    }\n",
       "\n",
       "    .dataframe thead th {\n",
       "        text-align: right;\n",
       "    }\n",
       "</style>\n",
       "<table border=\"1\" class=\"dataframe\">\n",
       "  <thead>\n",
       "    <tr style=\"text-align: right;\">\n",
       "      <th></th>\n",
       "      <th>missing_count</th>\n",
       "      <th>missing_pct</th>\n",
       "    </tr>\n",
       "  </thead>\n",
       "  <tbody>\n",
       "    <tr>\n",
       "      <th>A1_Score</th>\n",
       "      <td>0</td>\n",
       "      <td>0.0</td>\n",
       "    </tr>\n",
       "    <tr>\n",
       "      <th>A2_Score</th>\n",
       "      <td>0</td>\n",
       "      <td>0.0</td>\n",
       "    </tr>\n",
       "    <tr>\n",
       "      <th>A3_Score</th>\n",
       "      <td>0</td>\n",
       "      <td>0.0</td>\n",
       "    </tr>\n",
       "    <tr>\n",
       "      <th>A4_Score</th>\n",
       "      <td>0</td>\n",
       "      <td>0.0</td>\n",
       "    </tr>\n",
       "    <tr>\n",
       "      <th>A5_Score</th>\n",
       "      <td>0</td>\n",
       "      <td>0.0</td>\n",
       "    </tr>\n",
       "    <tr>\n",
       "      <th>A6_Score</th>\n",
       "      <td>0</td>\n",
       "      <td>0.0</td>\n",
       "    </tr>\n",
       "    <tr>\n",
       "      <th>A7_Score</th>\n",
       "      <td>0</td>\n",
       "      <td>0.0</td>\n",
       "    </tr>\n",
       "    <tr>\n",
       "      <th>A8_Score</th>\n",
       "      <td>0</td>\n",
       "      <td>0.0</td>\n",
       "    </tr>\n",
       "    <tr>\n",
       "      <th>A9_Score</th>\n",
       "      <td>0</td>\n",
       "      <td>0.0</td>\n",
       "    </tr>\n",
       "    <tr>\n",
       "      <th>A10_Score</th>\n",
       "      <td>0</td>\n",
       "      <td>0.0</td>\n",
       "    </tr>\n",
       "    <tr>\n",
       "      <th>age</th>\n",
       "      <td>0</td>\n",
       "      <td>0.0</td>\n",
       "    </tr>\n",
       "    <tr>\n",
       "      <th>gender</th>\n",
       "      <td>0</td>\n",
       "      <td>0.0</td>\n",
       "    </tr>\n",
       "    <tr>\n",
       "      <th>ethnicity</th>\n",
       "      <td>0</td>\n",
       "      <td>0.0</td>\n",
       "    </tr>\n",
       "    <tr>\n",
       "      <th>jaundice</th>\n",
       "      <td>0</td>\n",
       "      <td>0.0</td>\n",
       "    </tr>\n",
       "    <tr>\n",
       "      <th>country_of_res</th>\n",
       "      <td>0</td>\n",
       "      <td>0.0</td>\n",
       "    </tr>\n",
       "    <tr>\n",
       "      <th>used_app_before</th>\n",
       "      <td>0</td>\n",
       "      <td>0.0</td>\n",
       "    </tr>\n",
       "    <tr>\n",
       "      <th>result</th>\n",
       "      <td>0</td>\n",
       "      <td>0.0</td>\n",
       "    </tr>\n",
       "    <tr>\n",
       "      <th>relation</th>\n",
       "      <td>0</td>\n",
       "      <td>0.0</td>\n",
       "    </tr>\n",
       "    <tr>\n",
       "      <th>class</th>\n",
       "      <td>0</td>\n",
       "      <td>0.0</td>\n",
       "    </tr>\n",
       "  </tbody>\n",
       "</table>\n",
       "</div>"
      ],
      "text/plain": [
       "                 missing_count  missing_pct\n",
       "A1_Score                     0          0.0\n",
       "A2_Score                     0          0.0\n",
       "A3_Score                     0          0.0\n",
       "A4_Score                     0          0.0\n",
       "A5_Score                     0          0.0\n",
       "A6_Score                     0          0.0\n",
       "A7_Score                     0          0.0\n",
       "A8_Score                     0          0.0\n",
       "A9_Score                     0          0.0\n",
       "A10_Score                    0          0.0\n",
       "age                          0          0.0\n",
       "gender                       0          0.0\n",
       "ethnicity                    0          0.0\n",
       "jaundice                     0          0.0\n",
       "country_of_res               0          0.0\n",
       "used_app_before              0          0.0\n",
       "result                       0          0.0\n",
       "relation                     0          0.0\n",
       "class                        0          0.0"
      ]
     },
     "execution_count": 70,
     "metadata": {},
     "output_type": "execute_result"
    }
   ],
   "source": [
    "# Pleace nan with most frequent values\n",
    "from helpers import impute_mode, summarize_missing\n",
    "\n",
    "df_asd = impute_mode(df_asd, ['relation', 'ethnicity'])\n",
    "\n",
    "# validating unique values\n",
    "display(df_asd['relation'].unique())\n",
    "display(df_asd['ethnicity'].unique())\n",
    "\n",
    "# validate overall missing values\n",
    "summarize_missing(df_asd)"
   ]
  },
  {
   "cell_type": "code",
   "execution_count": 71,
   "id": "1ad39e1f",
   "metadata": {},
   "outputs": [
    {
     "data": {
      "application/vnd.plotly.v1+json": {
       "config": {
        "plotlyServerURL": "https://plot.ly"
       },
       "data": [
        {
         "bingroup": "x",
         "hovertemplate": "class=%{x}<br>count=%{y}<extra></extra>",
         "legendgroup": "0",
         "marker": {
          "color": "#636efa",
          "pattern": {
           "shape": ""
          }
         },
         "name": "0",
         "orientation": "v",
         "showlegend": true,
         "texttemplate": "%{value}",
         "type": "histogram",
         "x": {
          "bdata": "AAAAAAAAAAAAAAAAAAAAAAAAAAAAAAAAAAAAAAAAAAAAAAAAAAAAAAAAAAAAAAAAAAAAAAAAAAAAAAAAAAAAAAAAAAAAAAAAAAAAAAAAAAAAAAAAAAAAAAAAAAAAAAAAAAAAAAAAAAAAAAAAAAAAAAAAAAAAAAAAAAAAAAAAAAAAAAAAAAAAAAAAAAAAAAAAAAAAAAA=",
          "dtype": "i1"
         },
         "xaxis": "x",
         "yaxis": "y"
        },
        {
         "bingroup": "x",
         "hovertemplate": "class=%{x}<br>count=%{y}<extra></extra>",
         "legendgroup": "1",
         "marker": {
          "color": "#EF553B",
          "pattern": {
           "shape": ""
          }
         },
         "name": "1",
         "orientation": "v",
         "showlegend": true,
         "texttemplate": "%{value}",
         "type": "histogram",
         "x": {
          "bdata": "AQEBAQEBAQEBAQEBAQEBAQEBAQEBAQEBAQEBAQEBAQEBAQEBAQEBAQEBAQEBAQEBAQEBAQEBAQEBAQEBAQEBAQEBAQEBAQEBAQEBAQEBAQEBAQEBAQEBAQEBAQEBAQEBAQEBAQEBAQEBAQEBAQEBAQEBAQEBAQEBAQEBAQEBAQEBAQEBAQEBAQEBAQ==",
          "dtype": "i1"
         },
         "xaxis": "x",
         "yaxis": "y"
        }
       ],
       "layout": {
        "barmode": "relative",
        "legend": {
         "title": {
          "text": "class"
         },
         "tracegroupgap": 0
        },
        "template": {
         "data": {
          "bar": [
           {
            "error_x": {
             "color": "#2a3f5f"
            },
            "error_y": {
             "color": "#2a3f5f"
            },
            "marker": {
             "line": {
              "color": "#E5ECF6",
              "width": 0.5
             },
             "pattern": {
              "fillmode": "overlay",
              "size": 10,
              "solidity": 0.2
             }
            },
            "type": "bar"
           }
          ],
          "barpolar": [
           {
            "marker": {
             "line": {
              "color": "#E5ECF6",
              "width": 0.5
             },
             "pattern": {
              "fillmode": "overlay",
              "size": 10,
              "solidity": 0.2
             }
            },
            "type": "barpolar"
           }
          ],
          "carpet": [
           {
            "aaxis": {
             "endlinecolor": "#2a3f5f",
             "gridcolor": "white",
             "linecolor": "white",
             "minorgridcolor": "white",
             "startlinecolor": "#2a3f5f"
            },
            "baxis": {
             "endlinecolor": "#2a3f5f",
             "gridcolor": "white",
             "linecolor": "white",
             "minorgridcolor": "white",
             "startlinecolor": "#2a3f5f"
            },
            "type": "carpet"
           }
          ],
          "choropleth": [
           {
            "colorbar": {
             "outlinewidth": 0,
             "ticks": ""
            },
            "type": "choropleth"
           }
          ],
          "contour": [
           {
            "colorbar": {
             "outlinewidth": 0,
             "ticks": ""
            },
            "colorscale": [
             [
              0,
              "#0d0887"
             ],
             [
              0.1111111111111111,
              "#46039f"
             ],
             [
              0.2222222222222222,
              "#7201a8"
             ],
             [
              0.3333333333333333,
              "#9c179e"
             ],
             [
              0.4444444444444444,
              "#bd3786"
             ],
             [
              0.5555555555555556,
              "#d8576b"
             ],
             [
              0.6666666666666666,
              "#ed7953"
             ],
             [
              0.7777777777777778,
              "#fb9f3a"
             ],
             [
              0.8888888888888888,
              "#fdca26"
             ],
             [
              1,
              "#f0f921"
             ]
            ],
            "type": "contour"
           }
          ],
          "contourcarpet": [
           {
            "colorbar": {
             "outlinewidth": 0,
             "ticks": ""
            },
            "type": "contourcarpet"
           }
          ],
          "heatmap": [
           {
            "colorbar": {
             "outlinewidth": 0,
             "ticks": ""
            },
            "colorscale": [
             [
              0,
              "#0d0887"
             ],
             [
              0.1111111111111111,
              "#46039f"
             ],
             [
              0.2222222222222222,
              "#7201a8"
             ],
             [
              0.3333333333333333,
              "#9c179e"
             ],
             [
              0.4444444444444444,
              "#bd3786"
             ],
             [
              0.5555555555555556,
              "#d8576b"
             ],
             [
              0.6666666666666666,
              "#ed7953"
             ],
             [
              0.7777777777777778,
              "#fb9f3a"
             ],
             [
              0.8888888888888888,
              "#fdca26"
             ],
             [
              1,
              "#f0f921"
             ]
            ],
            "type": "heatmap"
           }
          ],
          "histogram": [
           {
            "marker": {
             "pattern": {
              "fillmode": "overlay",
              "size": 10,
              "solidity": 0.2
             }
            },
            "type": "histogram"
           }
          ],
          "histogram2d": [
           {
            "colorbar": {
             "outlinewidth": 0,
             "ticks": ""
            },
            "colorscale": [
             [
              0,
              "#0d0887"
             ],
             [
              0.1111111111111111,
              "#46039f"
             ],
             [
              0.2222222222222222,
              "#7201a8"
             ],
             [
              0.3333333333333333,
              "#9c179e"
             ],
             [
              0.4444444444444444,
              "#bd3786"
             ],
             [
              0.5555555555555556,
              "#d8576b"
             ],
             [
              0.6666666666666666,
              "#ed7953"
             ],
             [
              0.7777777777777778,
              "#fb9f3a"
             ],
             [
              0.8888888888888888,
              "#fdca26"
             ],
             [
              1,
              "#f0f921"
             ]
            ],
            "type": "histogram2d"
           }
          ],
          "histogram2dcontour": [
           {
            "colorbar": {
             "outlinewidth": 0,
             "ticks": ""
            },
            "colorscale": [
             [
              0,
              "#0d0887"
             ],
             [
              0.1111111111111111,
              "#46039f"
             ],
             [
              0.2222222222222222,
              "#7201a8"
             ],
             [
              0.3333333333333333,
              "#9c179e"
             ],
             [
              0.4444444444444444,
              "#bd3786"
             ],
             [
              0.5555555555555556,
              "#d8576b"
             ],
             [
              0.6666666666666666,
              "#ed7953"
             ],
             [
              0.7777777777777778,
              "#fb9f3a"
             ],
             [
              0.8888888888888888,
              "#fdca26"
             ],
             [
              1,
              "#f0f921"
             ]
            ],
            "type": "histogram2dcontour"
           }
          ],
          "mesh3d": [
           {
            "colorbar": {
             "outlinewidth": 0,
             "ticks": ""
            },
            "type": "mesh3d"
           }
          ],
          "parcoords": [
           {
            "line": {
             "colorbar": {
              "outlinewidth": 0,
              "ticks": ""
             }
            },
            "type": "parcoords"
           }
          ],
          "pie": [
           {
            "automargin": true,
            "type": "pie"
           }
          ],
          "scatter": [
           {
            "fillpattern": {
             "fillmode": "overlay",
             "size": 10,
             "solidity": 0.2
            },
            "type": "scatter"
           }
          ],
          "scatter3d": [
           {
            "line": {
             "colorbar": {
              "outlinewidth": 0,
              "ticks": ""
             }
            },
            "marker": {
             "colorbar": {
              "outlinewidth": 0,
              "ticks": ""
             }
            },
            "type": "scatter3d"
           }
          ],
          "scattercarpet": [
           {
            "marker": {
             "colorbar": {
              "outlinewidth": 0,
              "ticks": ""
             }
            },
            "type": "scattercarpet"
           }
          ],
          "scattergeo": [
           {
            "marker": {
             "colorbar": {
              "outlinewidth": 0,
              "ticks": ""
             }
            },
            "type": "scattergeo"
           }
          ],
          "scattergl": [
           {
            "marker": {
             "colorbar": {
              "outlinewidth": 0,
              "ticks": ""
             }
            },
            "type": "scattergl"
           }
          ],
          "scattermap": [
           {
            "marker": {
             "colorbar": {
              "outlinewidth": 0,
              "ticks": ""
             }
            },
            "type": "scattermap"
           }
          ],
          "scattermapbox": [
           {
            "marker": {
             "colorbar": {
              "outlinewidth": 0,
              "ticks": ""
             }
            },
            "type": "scattermapbox"
           }
          ],
          "scatterpolar": [
           {
            "marker": {
             "colorbar": {
              "outlinewidth": 0,
              "ticks": ""
             }
            },
            "type": "scatterpolar"
           }
          ],
          "scatterpolargl": [
           {
            "marker": {
             "colorbar": {
              "outlinewidth": 0,
              "ticks": ""
             }
            },
            "type": "scatterpolargl"
           }
          ],
          "scatterternary": [
           {
            "marker": {
             "colorbar": {
              "outlinewidth": 0,
              "ticks": ""
             }
            },
            "type": "scatterternary"
           }
          ],
          "surface": [
           {
            "colorbar": {
             "outlinewidth": 0,
             "ticks": ""
            },
            "colorscale": [
             [
              0,
              "#0d0887"
             ],
             [
              0.1111111111111111,
              "#46039f"
             ],
             [
              0.2222222222222222,
              "#7201a8"
             ],
             [
              0.3333333333333333,
              "#9c179e"
             ],
             [
              0.4444444444444444,
              "#bd3786"
             ],
             [
              0.5555555555555556,
              "#d8576b"
             ],
             [
              0.6666666666666666,
              "#ed7953"
             ],
             [
              0.7777777777777778,
              "#fb9f3a"
             ],
             [
              0.8888888888888888,
              "#fdca26"
             ],
             [
              1,
              "#f0f921"
             ]
            ],
            "type": "surface"
           }
          ],
          "table": [
           {
            "cells": {
             "fill": {
              "color": "#EBF0F8"
             },
             "line": {
              "color": "white"
             }
            },
            "header": {
             "fill": {
              "color": "#C8D4E3"
             },
             "line": {
              "color": "white"
             }
            },
            "type": "table"
           }
          ]
         },
         "layout": {
          "annotationdefaults": {
           "arrowcolor": "#2a3f5f",
           "arrowhead": 0,
           "arrowwidth": 1
          },
          "autotypenumbers": "strict",
          "coloraxis": {
           "colorbar": {
            "outlinewidth": 0,
            "ticks": ""
           }
          },
          "colorscale": {
           "diverging": [
            [
             0,
             "#8e0152"
            ],
            [
             0.1,
             "#c51b7d"
            ],
            [
             0.2,
             "#de77ae"
            ],
            [
             0.3,
             "#f1b6da"
            ],
            [
             0.4,
             "#fde0ef"
            ],
            [
             0.5,
             "#f7f7f7"
            ],
            [
             0.6,
             "#e6f5d0"
            ],
            [
             0.7,
             "#b8e186"
            ],
            [
             0.8,
             "#7fbc41"
            ],
            [
             0.9,
             "#4d9221"
            ],
            [
             1,
             "#276419"
            ]
           ],
           "sequential": [
            [
             0,
             "#0d0887"
            ],
            [
             0.1111111111111111,
             "#46039f"
            ],
            [
             0.2222222222222222,
             "#7201a8"
            ],
            [
             0.3333333333333333,
             "#9c179e"
            ],
            [
             0.4444444444444444,
             "#bd3786"
            ],
            [
             0.5555555555555556,
             "#d8576b"
            ],
            [
             0.6666666666666666,
             "#ed7953"
            ],
            [
             0.7777777777777778,
             "#fb9f3a"
            ],
            [
             0.8888888888888888,
             "#fdca26"
            ],
            [
             1,
             "#f0f921"
            ]
           ],
           "sequentialminus": [
            [
             0,
             "#0d0887"
            ],
            [
             0.1111111111111111,
             "#46039f"
            ],
            [
             0.2222222222222222,
             "#7201a8"
            ],
            [
             0.3333333333333333,
             "#9c179e"
            ],
            [
             0.4444444444444444,
             "#bd3786"
            ],
            [
             0.5555555555555556,
             "#d8576b"
            ],
            [
             0.6666666666666666,
             "#ed7953"
            ],
            [
             0.7777777777777778,
             "#fb9f3a"
            ],
            [
             0.8888888888888888,
             "#fdca26"
            ],
            [
             1,
             "#f0f921"
            ]
           ]
          },
          "colorway": [
           "#636efa",
           "#EF553B",
           "#00cc96",
           "#ab63fa",
           "#FFA15A",
           "#19d3f3",
           "#FF6692",
           "#B6E880",
           "#FF97FF",
           "#FECB52"
          ],
          "font": {
           "color": "#2a3f5f"
          },
          "geo": {
           "bgcolor": "white",
           "lakecolor": "white",
           "landcolor": "#E5ECF6",
           "showlakes": true,
           "showland": true,
           "subunitcolor": "white"
          },
          "hoverlabel": {
           "align": "left"
          },
          "hovermode": "closest",
          "mapbox": {
           "style": "light"
          },
          "paper_bgcolor": "white",
          "plot_bgcolor": "#E5ECF6",
          "polar": {
           "angularaxis": {
            "gridcolor": "white",
            "linecolor": "white",
            "ticks": ""
           },
           "bgcolor": "#E5ECF6",
           "radialaxis": {
            "gridcolor": "white",
            "linecolor": "white",
            "ticks": ""
           }
          },
          "scene": {
           "xaxis": {
            "backgroundcolor": "#E5ECF6",
            "gridcolor": "white",
            "gridwidth": 2,
            "linecolor": "white",
            "showbackground": true,
            "ticks": "",
            "zerolinecolor": "white"
           },
           "yaxis": {
            "backgroundcolor": "#E5ECF6",
            "gridcolor": "white",
            "gridwidth": 2,
            "linecolor": "white",
            "showbackground": true,
            "ticks": "",
            "zerolinecolor": "white"
           },
           "zaxis": {
            "backgroundcolor": "#E5ECF6",
            "gridcolor": "white",
            "gridwidth": 2,
            "linecolor": "white",
            "showbackground": true,
            "ticks": "",
            "zerolinecolor": "white"
           }
          },
          "shapedefaults": {
           "line": {
            "color": "#2a3f5f"
           }
          },
          "ternary": {
           "aaxis": {
            "gridcolor": "white",
            "linecolor": "white",
            "ticks": ""
           },
           "baxis": {
            "gridcolor": "white",
            "linecolor": "white",
            "ticks": ""
           },
           "bgcolor": "#E5ECF6",
           "caxis": {
            "gridcolor": "white",
            "linecolor": "white",
            "ticks": ""
           }
          },
          "title": {
           "x": 0.05
          },
          "xaxis": {
           "automargin": true,
           "gridcolor": "white",
           "linecolor": "white",
           "ticks": "",
           "title": {
            "standoff": 15
           },
           "zerolinecolor": "white",
           "zerolinewidth": 2
          },
          "yaxis": {
           "automargin": true,
           "gridcolor": "white",
           "linecolor": "white",
           "ticks": "",
           "title": {
            "standoff": 15
           },
           "zerolinecolor": "white",
           "zerolinewidth": 2
          }
         }
        },
        "title": {
         "text": "Distribution of Autism Occurance"
        },
        "xaxis": {
         "anchor": "y",
         "categoryarray": [
          0,
          1
         ],
         "categoryorder": "array",
         "domain": [
          0,
          1
         ],
         "title": {
          "text": "class"
         }
        },
        "yaxis": {
         "anchor": "x",
         "domain": [
          0,
          1
         ],
         "title": {
          "text": "count"
         }
        }
       }
      }
     },
     "metadata": {},
     "output_type": "display_data"
    }
   ],
   "source": [
    "# Step 1.8 - Distribution of Class Values / Autism occurance\n",
    "# a) Bar chart\n",
    "fig_class = px.histogram(\n",
    "    df_asd, \n",
    "    x=\"class\", \n",
    "    color=\"class\",\n",
    "    title=\"Distribution of Autism Occurance\",\n",
    "    text_auto=True\n",
    ")\n",
    "fig_class.show()"
   ]
  },
  {
   "cell_type": "code",
   "execution_count": 72,
   "id": "c6062b0f",
   "metadata": {},
   "outputs": [
    {
     "name": "stdout",
     "output_type": "stream",
     "text": [
      "\n",
      "Class balance summary:\n",
      "        count  proportion\n",
      "class                   \n",
      "0        149    0.517361\n",
      "1        139    0.482639\n"
     ]
    }
   ],
   "source": [
    "# Numeric summary\n",
    "class_counts = df_asd[\"class\"].value_counts().sort_index()\n",
    "class_props = df_asd[\"class\"].value_counts(normalize=True).sort_index()\n",
    "\n",
    "balance_df = pd.DataFrame({\n",
    "    \"count\": class_counts,\n",
    "    \"proportion\": class_props\n",
    "})\n",
    "print(\"\\nClass balance summary:\\n\", balance_df)"
   ]
  },
  {
   "cell_type": "code",
   "execution_count": 73,
   "id": "a179a7a5",
   "metadata": {},
   "outputs": [
    {
     "data": {
      "application/vnd.plotly.v1+json": {
       "config": {
        "plotlyServerURL": "https://plot.ly"
       },
       "data": [
        {
         "colorbar": {
          "title": {
           "text": "Correlation"
          }
         },
         "colorscale": [
          [
           0,
           "rgb(103,0,31)"
          ],
          [
           0.1,
           "rgb(178,24,43)"
          ],
          [
           0.2,
           "rgb(214,96,77)"
          ],
          [
           0.3,
           "rgb(244,165,130)"
          ],
          [
           0.4,
           "rgb(253,219,199)"
          ],
          [
           0.5,
           "rgb(247,247,247)"
          ],
          [
           0.6,
           "rgb(209,229,240)"
          ],
          [
           0.7,
           "rgb(146,197,222)"
          ],
          [
           0.8,
           "rgb(67,147,195)"
          ],
          [
           0.9,
           "rgb(33,102,172)"
          ],
          [
           1,
           "rgb(5,48,97)"
          ]
         ],
         "type": "heatmap",
         "x": [
          "A1_Score",
          "A2_Score",
          "A3_Score",
          "A4_Score",
          "A5_Score",
          "A6_Score",
          "A7_Score",
          "A8_Score",
          "A9_Score",
          "A10_Score",
          "age",
          "result",
          "class"
         ],
         "y": [
          "A1_Score",
          "A2_Score",
          "A3_Score",
          "A4_Score",
          "A5_Score",
          "A6_Score",
          "A7_Score",
          "A8_Score",
          "A9_Score",
          "A10_Score",
          "age",
          "result",
          "class"
         ],
         "z": {
          "bdata": "AAAAAAAA8D+DCTOutcefP9ZI3MOROLU/Ag+pjN+u0D/3cr2huMrEPxgiCokVe7s/Bsm5oJJDmz+yPCf3y9urP8WZ+OTxt8I/XEDwS94dtz8oUFZZsPS5P62mxrIsTto/5lrIiwKm2D+DCTOutcefPwAAAAAAAPA/4UdHOBPLuj851Gyf0BbAPzv6ThYLz6y/ehMRRmt9wD9KcE0FgciUP8+pSj4Of44/T97eapZKtz/aBu9Ul+GyP3m7RE1Odae/srMdAs0k1T+KBBabTLvNP9ZI3MOROLU/4UdHOBPLuj8AAAAAAADwP4lfO+KBQtI/SXbE+B2ewT93bjhLKrXOP+x1QTIqFpA/1Iu0+y9nyT/oyX682wfRP23+pWApgcQ/IcLtpnkAwr80N/SUQi7gP+Mc6/gVLNo/Ag+pjN+u0D851Gyf0BbAP4lfO+KBQtI/AAAAAAAA8D/fbKfBEf6/P4ITNZeqhNY/Pg8LHoNJlD/kXKCIsWrSP5+Bo3NBf9U/uRTbNXJovD8LklaektXFP0hZfF4fneM/o0CRbpMA4j/3cr2huMrEPzv6ThYLz6y/SXbE+B2ewT/fbKfBEf6/PwAAAAAAAPA/hCg7J3E6xz/4/mfi8pjGP3yPor3kgMM/zJufRYiAsz8+Ek+Pxb7QPw1mrUdF0rG/i8q40UdB3D/756N/MmvZPxgiCokVe7s/ehMRRmt9wD93bjhLKrXOP4ITNZeqhNY/hCg7J3E6xz8AAAAAAADwPz952gR7qqy/p21B+TmS0j/sMtsWEd/RP3NG1U85CNA/xSIbIWJEpj8sRvZTezriP2zcyaONkdo/Bsm5oJJDmz9KcE0FgciUP+x1QTIqFpA/Pg8LHoNJlD/4/mfi8pjGPz952gR7qqy/AAAAAAAA8D+SbEdhNoLDP4ADhsrogMs/py5n+Rahoz/bfv8Y7Z+/P/JVq75F79U/Vlq5boXL0T+yPCf3y9urP8+pSj4Of44/1Iu0+y9nyT/kXKCIsWrSP3yPor3kgMM/p21B+TmS0j+SbEdhNoLDPwAAAAAAAPA/N65zdemLyz8U1bKhuevCP3d6gGelqqo/Vk9GC8f/4D+8nZQpHP3bP8WZ+OTxt8I/T97eapZKtz/oyX682wfRP5+Bo3NBf9U/zJufRYiAsz/sMtsWEd/RP4ADhsrogMs/N65zdemLyz8AAAAAAADwP37HNRw2dsc/Av11BSebtz+Ru4WSRwbjP8TmWCx9Hd8/XEDwS94dtz/aBu9Ul+GyP23+pWApgcQ/uRTbNXJovD8+Ek+Pxb7QP3NG1U85CNA/py5n+Rahoz8U1bKhuevCP37HNRw2dsc/AAAAAAAA8D+ezVGtGgCiP+evafYe2N0/Agn313eq2z8oUFZZsPS5P3m7RE1Odae/IcLtpnkAwr8LklaektXFPw1mrUdF0rG/xSIbIWJEpj/bfv8Y7Z+/P3d6gGelqqo/Av11BSebtz+ezVGtGgCiPwAAAAAAAPA/hCUTGe4JtT9zHwgc6GmzP62mxrIsTto/srMdAs0k1T80N/SUQi7gP0hZfF4fneM/i8q40UdB3D8sRvZTezriP/JVq75F79U/Vk9GC8f/4D+Ru4WSRwbjP+evafYe2N0/hCUTGe4JtT8AAAAAAADwP0tbixkz2+o/5lrIiwKm2D+KBBabTLvNP+Mc6/gVLNo/o0CRbpMA4j/756N/MmvZP2zcyaONkdo/Vlq5boXL0T+8nZQpHP3bP8TmWCx9Hd8/Agn313eq2z9zHwgc6GmzP0tbixkz2+o/AAAAAAAA8D8=",
          "dtype": "f8",
          "shape": "13, 13"
         },
         "zmax": 1,
         "zmin": -1
        }
       ],
       "layout": {
        "height": 500,
        "showlegend": false,
        "template": {
         "data": {
          "bar": [
           {
            "error_x": {
             "color": "#2a3f5f"
            },
            "error_y": {
             "color": "#2a3f5f"
            },
            "marker": {
             "line": {
              "color": "#E5ECF6",
              "width": 0.5
             },
             "pattern": {
              "fillmode": "overlay",
              "size": 10,
              "solidity": 0.2
             }
            },
            "type": "bar"
           }
          ],
          "barpolar": [
           {
            "marker": {
             "line": {
              "color": "#E5ECF6",
              "width": 0.5
             },
             "pattern": {
              "fillmode": "overlay",
              "size": 10,
              "solidity": 0.2
             }
            },
            "type": "barpolar"
           }
          ],
          "carpet": [
           {
            "aaxis": {
             "endlinecolor": "#2a3f5f",
             "gridcolor": "white",
             "linecolor": "white",
             "minorgridcolor": "white",
             "startlinecolor": "#2a3f5f"
            },
            "baxis": {
             "endlinecolor": "#2a3f5f",
             "gridcolor": "white",
             "linecolor": "white",
             "minorgridcolor": "white",
             "startlinecolor": "#2a3f5f"
            },
            "type": "carpet"
           }
          ],
          "choropleth": [
           {
            "colorbar": {
             "outlinewidth": 0,
             "ticks": ""
            },
            "type": "choropleth"
           }
          ],
          "contour": [
           {
            "colorbar": {
             "outlinewidth": 0,
             "ticks": ""
            },
            "colorscale": [
             [
              0,
              "#0d0887"
             ],
             [
              0.1111111111111111,
              "#46039f"
             ],
             [
              0.2222222222222222,
              "#7201a8"
             ],
             [
              0.3333333333333333,
              "#9c179e"
             ],
             [
              0.4444444444444444,
              "#bd3786"
             ],
             [
              0.5555555555555556,
              "#d8576b"
             ],
             [
              0.6666666666666666,
              "#ed7953"
             ],
             [
              0.7777777777777778,
              "#fb9f3a"
             ],
             [
              0.8888888888888888,
              "#fdca26"
             ],
             [
              1,
              "#f0f921"
             ]
            ],
            "type": "contour"
           }
          ],
          "contourcarpet": [
           {
            "colorbar": {
             "outlinewidth": 0,
             "ticks": ""
            },
            "type": "contourcarpet"
           }
          ],
          "heatmap": [
           {
            "colorbar": {
             "outlinewidth": 0,
             "ticks": ""
            },
            "colorscale": [
             [
              0,
              "#0d0887"
             ],
             [
              0.1111111111111111,
              "#46039f"
             ],
             [
              0.2222222222222222,
              "#7201a8"
             ],
             [
              0.3333333333333333,
              "#9c179e"
             ],
             [
              0.4444444444444444,
              "#bd3786"
             ],
             [
              0.5555555555555556,
              "#d8576b"
             ],
             [
              0.6666666666666666,
              "#ed7953"
             ],
             [
              0.7777777777777778,
              "#fb9f3a"
             ],
             [
              0.8888888888888888,
              "#fdca26"
             ],
             [
              1,
              "#f0f921"
             ]
            ],
            "type": "heatmap"
           }
          ],
          "histogram": [
           {
            "marker": {
             "pattern": {
              "fillmode": "overlay",
              "size": 10,
              "solidity": 0.2
             }
            },
            "type": "histogram"
           }
          ],
          "histogram2d": [
           {
            "colorbar": {
             "outlinewidth": 0,
             "ticks": ""
            },
            "colorscale": [
             [
              0,
              "#0d0887"
             ],
             [
              0.1111111111111111,
              "#46039f"
             ],
             [
              0.2222222222222222,
              "#7201a8"
             ],
             [
              0.3333333333333333,
              "#9c179e"
             ],
             [
              0.4444444444444444,
              "#bd3786"
             ],
             [
              0.5555555555555556,
              "#d8576b"
             ],
             [
              0.6666666666666666,
              "#ed7953"
             ],
             [
              0.7777777777777778,
              "#fb9f3a"
             ],
             [
              0.8888888888888888,
              "#fdca26"
             ],
             [
              1,
              "#f0f921"
             ]
            ],
            "type": "histogram2d"
           }
          ],
          "histogram2dcontour": [
           {
            "colorbar": {
             "outlinewidth": 0,
             "ticks": ""
            },
            "colorscale": [
             [
              0,
              "#0d0887"
             ],
             [
              0.1111111111111111,
              "#46039f"
             ],
             [
              0.2222222222222222,
              "#7201a8"
             ],
             [
              0.3333333333333333,
              "#9c179e"
             ],
             [
              0.4444444444444444,
              "#bd3786"
             ],
             [
              0.5555555555555556,
              "#d8576b"
             ],
             [
              0.6666666666666666,
              "#ed7953"
             ],
             [
              0.7777777777777778,
              "#fb9f3a"
             ],
             [
              0.8888888888888888,
              "#fdca26"
             ],
             [
              1,
              "#f0f921"
             ]
            ],
            "type": "histogram2dcontour"
           }
          ],
          "mesh3d": [
           {
            "colorbar": {
             "outlinewidth": 0,
             "ticks": ""
            },
            "type": "mesh3d"
           }
          ],
          "parcoords": [
           {
            "line": {
             "colorbar": {
              "outlinewidth": 0,
              "ticks": ""
             }
            },
            "type": "parcoords"
           }
          ],
          "pie": [
           {
            "automargin": true,
            "type": "pie"
           }
          ],
          "scatter": [
           {
            "fillpattern": {
             "fillmode": "overlay",
             "size": 10,
             "solidity": 0.2
            },
            "type": "scatter"
           }
          ],
          "scatter3d": [
           {
            "line": {
             "colorbar": {
              "outlinewidth": 0,
              "ticks": ""
             }
            },
            "marker": {
             "colorbar": {
              "outlinewidth": 0,
              "ticks": ""
             }
            },
            "type": "scatter3d"
           }
          ],
          "scattercarpet": [
           {
            "marker": {
             "colorbar": {
              "outlinewidth": 0,
              "ticks": ""
             }
            },
            "type": "scattercarpet"
           }
          ],
          "scattergeo": [
           {
            "marker": {
             "colorbar": {
              "outlinewidth": 0,
              "ticks": ""
             }
            },
            "type": "scattergeo"
           }
          ],
          "scattergl": [
           {
            "marker": {
             "colorbar": {
              "outlinewidth": 0,
              "ticks": ""
             }
            },
            "type": "scattergl"
           }
          ],
          "scattermap": [
           {
            "marker": {
             "colorbar": {
              "outlinewidth": 0,
              "ticks": ""
             }
            },
            "type": "scattermap"
           }
          ],
          "scattermapbox": [
           {
            "marker": {
             "colorbar": {
              "outlinewidth": 0,
              "ticks": ""
             }
            },
            "type": "scattermapbox"
           }
          ],
          "scatterpolar": [
           {
            "marker": {
             "colorbar": {
              "outlinewidth": 0,
              "ticks": ""
             }
            },
            "type": "scatterpolar"
           }
          ],
          "scatterpolargl": [
           {
            "marker": {
             "colorbar": {
              "outlinewidth": 0,
              "ticks": ""
             }
            },
            "type": "scatterpolargl"
           }
          ],
          "scatterternary": [
           {
            "marker": {
             "colorbar": {
              "outlinewidth": 0,
              "ticks": ""
             }
            },
            "type": "scatterternary"
           }
          ],
          "surface": [
           {
            "colorbar": {
             "outlinewidth": 0,
             "ticks": ""
            },
            "colorscale": [
             [
              0,
              "#0d0887"
             ],
             [
              0.1111111111111111,
              "#46039f"
             ],
             [
              0.2222222222222222,
              "#7201a8"
             ],
             [
              0.3333333333333333,
              "#9c179e"
             ],
             [
              0.4444444444444444,
              "#bd3786"
             ],
             [
              0.5555555555555556,
              "#d8576b"
             ],
             [
              0.6666666666666666,
              "#ed7953"
             ],
             [
              0.7777777777777778,
              "#fb9f3a"
             ],
             [
              0.8888888888888888,
              "#fdca26"
             ],
             [
              1,
              "#f0f921"
             ]
            ],
            "type": "surface"
           }
          ],
          "table": [
           {
            "cells": {
             "fill": {
              "color": "#EBF0F8"
             },
             "line": {
              "color": "white"
             }
            },
            "header": {
             "fill": {
              "color": "#C8D4E3"
             },
             "line": {
              "color": "white"
             }
            },
            "type": "table"
           }
          ]
         },
         "layout": {
          "annotationdefaults": {
           "arrowcolor": "#2a3f5f",
           "arrowhead": 0,
           "arrowwidth": 1
          },
          "autotypenumbers": "strict",
          "coloraxis": {
           "colorbar": {
            "outlinewidth": 0,
            "ticks": ""
           }
          },
          "colorscale": {
           "diverging": [
            [
             0,
             "#8e0152"
            ],
            [
             0.1,
             "#c51b7d"
            ],
            [
             0.2,
             "#de77ae"
            ],
            [
             0.3,
             "#f1b6da"
            ],
            [
             0.4,
             "#fde0ef"
            ],
            [
             0.5,
             "#f7f7f7"
            ],
            [
             0.6,
             "#e6f5d0"
            ],
            [
             0.7,
             "#b8e186"
            ],
            [
             0.8,
             "#7fbc41"
            ],
            [
             0.9,
             "#4d9221"
            ],
            [
             1,
             "#276419"
            ]
           ],
           "sequential": [
            [
             0,
             "#0d0887"
            ],
            [
             0.1111111111111111,
             "#46039f"
            ],
            [
             0.2222222222222222,
             "#7201a8"
            ],
            [
             0.3333333333333333,
             "#9c179e"
            ],
            [
             0.4444444444444444,
             "#bd3786"
            ],
            [
             0.5555555555555556,
             "#d8576b"
            ],
            [
             0.6666666666666666,
             "#ed7953"
            ],
            [
             0.7777777777777778,
             "#fb9f3a"
            ],
            [
             0.8888888888888888,
             "#fdca26"
            ],
            [
             1,
             "#f0f921"
            ]
           ],
           "sequentialminus": [
            [
             0,
             "#0d0887"
            ],
            [
             0.1111111111111111,
             "#46039f"
            ],
            [
             0.2222222222222222,
             "#7201a8"
            ],
            [
             0.3333333333333333,
             "#9c179e"
            ],
            [
             0.4444444444444444,
             "#bd3786"
            ],
            [
             0.5555555555555556,
             "#d8576b"
            ],
            [
             0.6666666666666666,
             "#ed7953"
            ],
            [
             0.7777777777777778,
             "#fb9f3a"
            ],
            [
             0.8888888888888888,
             "#fdca26"
            ],
            [
             1,
             "#f0f921"
            ]
           ]
          },
          "colorway": [
           "#636efa",
           "#EF553B",
           "#00cc96",
           "#ab63fa",
           "#FFA15A",
           "#19d3f3",
           "#FF6692",
           "#B6E880",
           "#FF97FF",
           "#FECB52"
          ],
          "font": {
           "color": "#2a3f5f"
          },
          "geo": {
           "bgcolor": "white",
           "lakecolor": "white",
           "landcolor": "#E5ECF6",
           "showlakes": true,
           "showland": true,
           "subunitcolor": "white"
          },
          "hoverlabel": {
           "align": "left"
          },
          "hovermode": "closest",
          "mapbox": {
           "style": "light"
          },
          "paper_bgcolor": "white",
          "plot_bgcolor": "#E5ECF6",
          "polar": {
           "angularaxis": {
            "gridcolor": "white",
            "linecolor": "white",
            "ticks": ""
           },
           "bgcolor": "#E5ECF6",
           "radialaxis": {
            "gridcolor": "white",
            "linecolor": "white",
            "ticks": ""
           }
          },
          "scene": {
           "xaxis": {
            "backgroundcolor": "#E5ECF6",
            "gridcolor": "white",
            "gridwidth": 2,
            "linecolor": "white",
            "showbackground": true,
            "ticks": "",
            "zerolinecolor": "white"
           },
           "yaxis": {
            "backgroundcolor": "#E5ECF6",
            "gridcolor": "white",
            "gridwidth": 2,
            "linecolor": "white",
            "showbackground": true,
            "ticks": "",
            "zerolinecolor": "white"
           },
           "zaxis": {
            "backgroundcolor": "#E5ECF6",
            "gridcolor": "white",
            "gridwidth": 2,
            "linecolor": "white",
            "showbackground": true,
            "ticks": "",
            "zerolinecolor": "white"
           }
          },
          "shapedefaults": {
           "line": {
            "color": "#2a3f5f"
           }
          },
          "ternary": {
           "aaxis": {
            "gridcolor": "white",
            "linecolor": "white",
            "ticks": ""
           },
           "baxis": {
            "gridcolor": "white",
            "linecolor": "white",
            "ticks": ""
           },
           "bgcolor": "#E5ECF6",
           "caxis": {
            "gridcolor": "white",
            "linecolor": "white",
            "ticks": ""
           }
          },
          "title": {
           "x": 0.05
          },
          "xaxis": {
           "automargin": true,
           "gridcolor": "white",
           "linecolor": "white",
           "ticks": "",
           "title": {
            "standoff": 15
           },
           "zerolinecolor": "white",
           "zerolinewidth": 2
          },
          "yaxis": {
           "automargin": true,
           "gridcolor": "white",
           "linecolor": "white",
           "ticks": "",
           "title": {
            "standoff": 15
           },
           "zerolinecolor": "white",
           "zerolinewidth": 2
          }
         }
        },
        "title": {
         "text": "Correlation Matrix of Numeric Variables",
         "x": 0.5
        },
        "width": 600,
        "xaxis": {
         "tickangle": 45
        },
        "yaxis": {
         "tickangle": 0
        }
       }
      }
     },
     "metadata": {},
     "output_type": "display_data"
    }
   ],
   "source": [
    "\n",
    "# Numerische Spalten auswählen\n",
    "numeric_cols = df_asd.select_dtypes(include=['int64', 'float64']).columns.tolist()\n",
    "\n",
    "# Create correlation matrix\n",
    "corr_matrix = df_asd[numeric_cols].corr()\n",
    "\n",
    "# Create the heatmap\n",
    "fig_corr = go.Figure(data=go.Heatmap(\n",
    "    z=corr_matrix.values,\n",
    "    x=corr_matrix.columns,\n",
    "    y=corr_matrix.index,\n",
    "    colorscale=\"RdBu\",\n",
    "    zmin=-1,\n",
    "    zmax=1,\n",
    "    colorbar=dict(title=\"Correlation\")\n",
    "))\n",
    "\n",
    "# Adjust layout to make it larger\n",
    "fig_corr.update_layout(\n",
    "    title=\"Correlation Matrix of Numeric Variables\",\n",
    "    width=600,  # Increase width\n",
    "    height=500,  # Increase height\n",
    "    title_x=0.5,  # Center title\n",
    "    xaxis=dict(\n",
    "        tickangle=45,  # Rotate X-axis ticks for better readability\n",
    "    ),\n",
    "    yaxis=dict(\n",
    "        tickangle=0  # Keep Y-axis ticks horizontal for better readability\n",
    "    ),\n",
    "    showlegend=False  # Hide legend\n",
    ")\n",
    "\n",
    "# Show the heatmap\n",
    "fig_corr.show()"
   ]
  },
  {
   "cell_type": "code",
   "execution_count": 74,
   "id": "f3deaf54",
   "metadata": {},
   "outputs": [
    {
     "data": {
      "application/vnd.plotly.v1+json": {
       "config": {
        "plotlyServerURL": "https://plot.ly"
       },
       "data": [
        {
         "name": "A1_Score",
         "nbinsx": 30,
         "type": "histogram",
         "x": {
          "bdata": "AQEBAAEAAQEBAAEAAAEBAQEAAQEBAAEBAQABAQAAAQABAQAAAQEAAAABAQAAAAEBAAAAAQEBAAABAQEBAQEBAQEBAAEBAAEBAQABAQEAAQABAAABAQEBAAEBAAABAQEBAQABAQAAAAEBAQAAAAEAAQEBAQEAAAAAAQABAAABAQEBAAEBAAEAAQEAAQEBAQABAAABAQABAQEAAQABAQEAAQABAAEAAQEAAQAAAQEBAAABAAEAAQEBAQABAQEBAQEBAQAAAQEBAAEBAQEBAQEBAQAAAQEBAAABAQEBAQEBAAABAQEAAAAAAAEAAQEBAQABAAEBAAAAAAABAQEBAAEBAQEBAQABAQEBAQEAAQABAQEAAQEBAAAAAAEAAAEBAQEA",
          "dtype": "i1"
         },
         "xaxis": "x",
         "yaxis": "y"
        },
        {
         "name": "A2_Score",
         "nbinsx": 30,
         "type": "histogram",
         "x": {
          "bdata": "AQEBAQEAAAEBAAABAQABAQEAAAEBAAEAAAAAAQEAAQAAAAEBAQEBAAEAAAABAQEAAQEAAAEAAAAAAAAAAAEBAAAAAAAAAQAAAAABAAEBAAEAAQABAQEBAQAAAAABAAEBAQABAQABAAEBAAEAAQEAAQABAQEAAQEAAQEBAQAAAAEBAQEBAQEAAQABAAABAQEBAAABAAEBAQEBAQEBAAABAAAAAAABAAEAAQABAAABAAABAQABAAABAQABAQEBAAEBAQABAAABAAEAAQEBAAAAAAEAAAEAAAAAAQEBAQABAAAAAQABAQEBAAEBAAABAAEBAQEBAAABAQEAAAEBAAEAAAEBAQEAAQEAAAABAAABAQAAAQABAAEBAAABAQEAAAEA",
          "dtype": "i1"
         },
         "xaxis": "x2",
         "yaxis": "y2"
        },
        {
         "name": "A3_Score",
         "nbinsx": 30,
         "type": "histogram",
         "x": {
          "bdata": "AAAAAAEBAQEBAQAAAQABAQEAAQEBAQABAQEBAQEBAQEAAAAAAAEBAQAAAQABAQEBAAABAAEBAQEBAQEBAQEBAQAAAQEBAAEBAQABAAEBAAEBAQEBAQEBAQEAAQEBAQEBAQEAAQAAAAEBAAABAQABAQEBAQAAAQEBAQEBAQEBAQEAAQEBAQEAAQEBAQEAAQEBAQABAQEBAQEAAAABAQAAAAEAAAEBAQEBAQEBAQEBAAEBAQABAQEBAQEBAQABAQABAQEBAAABAQEBAQEBAAEBAQEBAQEBAAEBAQEBAQEBAAEAAQABAQEBAQEBAAABAQAAAQEBAAEAAAEBAQEBAAEAAQEAAQEBAQABAQEBAQEBAQEBAQABAQEBAAEAAQEAAQEB",
          "dtype": "i1"
         },
         "xaxis": "x3",
         "yaxis": "y3"
        },
        {
         "name": "A4_Score",
         "nbinsx": 30,
         "type": "histogram",
         "x": {
          "bdata": "AAAAAAEAAQEBAQAAAQABAQEAAQEBAQEBAQEAAQAAAQAAAAAAAAEBAQAAAQEAAAABAAAAAQEBAAABAQEAAQAAAQAAAAEAAAEBAQEBAAEBAQEBAAABAQEBAQEBAQEBAAEBAAEBAQABAAEBAAAAAQABAQABAQEBAAEBAQAAAAAAAQEAAQABAQAAAQEAAQEBAQABAAABAAABAQEAAAEBAQAAAQAAAAEBAQAAAQEAAAEBAQABAAEBAQAAAQEBAAEAAAAAAQABAAABAAEBAQEBAAEBAAAAAQEBAAABAQEBAQEBAAAAAQEAAQEAAQEAAQEBAAAAAAAAAAABAQEAAQAAAQEAAQEAAQABAQABAAABAAABAQEAAAABAAEAAAABAQEAAQAA",
          "dtype": "i1"
         },
         "xaxis": "x4",
         "yaxis": "y4"
        },
        {
         "name": "A5_Score",
         "nbinsx": 30,
         "type": "histogram",
         "x": {
          "bdata": "AQEAAQEBAQEBAQEBAQABAQEAAQEBAAAAAQEBAQABAQABAQABAAEBAQABAQABAQEBAQEBAAEAAQABAQEBAQEBAAEBAQEBAQEBAQEAAQEAAAEBAQEBAAEAAQEBAQEBAQEBAQAAAAAAAQEBAQABAQABAQEBAQABAQAAAQAAAQEBAAEAAQABAQEAAQEAAQABAQEBAQEBAQABAQEAAQEBAQEAAQABAQEBAQEBAQEAAQEBAAEBAQEAAQEBAQEBAQEBAQEAAQEBAQEBAQEBAAEAAQEBAQEBAAEBAAABAQEBAQEBAQEBAAEAAQEBAQEAAAEAAQAAAQABAAABAQEBAQABAQEBAQABAQABAAEBAQABAAABAQABAQEBAAEAAQEBAQEBAQEB",
          "dtype": "i1"
         },
         "xaxis": "x5",
         "yaxis": "y5"
        },
        {
         "name": "A6_Score",
         "nbinsx": 30,
         "type": "histogram",
         "x": {
          "bdata": "AQEBAQEBAQEBAAEAAQABAQEAAAEBAQABAQABAQAAAQEBAQAAAAEBAQAAAQABAQABAAABAQEBAAEBAQEAAQEBAAAAAQEAAAEBAQEBAAEBAQEBAQEBAAEBAQEBAQEBAQEAAQABAQABAQEBAAEAAAABAQEBAQEBAAEAAQEBAQEBAQEAAQABAAAAAQABAQEBAQABAQEBAQABAAEBAQEBAQEBAQEBAAEBAQAAAQEBAQABAQEBAAEBAQAAAQEAAQEBAQEAAQEBAAABAAEAAQEBAAEBAAEBAQEBAAABAQEAAQABAQEAAQEBAQEBAQEBAQEAAQAAAQEAAAAAAQEBAQEBAQEAAQEAAQEBAQEBAQABAAAAAQABAQABAAEBAQEBAQEAAQEA",
          "dtype": "i1"
         },
         "xaxis": "x6",
         "yaxis": "y6"
        },
        {
         "name": "A7_Score",
         "nbinsx": 30,
         "type": "histogram",
         "x": {
          "bdata": "AAABAAEAAAEBAQEAAQEBAQABAQABAAAAAAEAAQEBAQAAAAAAAAEBAAABAAEAAAEAAAEBAAEAAAABAQAAAQABAAABAQEBAQAAAAEBAQEAAAEBAAEBAQEAAQEBAQEBAQABAQABAQEAAQAAAAEAAQAAAQABAQABAAABAQEBAQEBAQEBAAAAAAEAAQEBAAEBAQEBAAEAAAEBAQEBAQEBAAEAAQEBAQEAAQEBAQABAAABAAEAAQEAAAEBAQEBAAEAAQEAAAEBAQEBAQABAAABAAAAAQABAAEBAAEBAQEBAAABAAEBAAEBAQABAAEAAAABAQEBAAAAAQEBAQEBAQAAAAEBAQABAQEBAAABAQEAAAEBAQABAAABAAAAAQEBAQEBAQEB",
          "dtype": "i1"
         },
         "xaxis": "x7",
         "yaxis": "y7"
        },
        {
         "name": "A8_Score",
         "nbinsx": 30,
         "type": "histogram",
         "x": {
          "bdata": "AQEBAAEBAQEAAQEAAQABAQEAAQEAAQAAAQEAAQEAAQABAAABAAEBAQAAAQAAAAEAAAAAAQAAAAABAQAAAQABAQAAAAEAAAEBAAEBAAABAAEBAAAAAAEAAQAAAQEBAQEAAAAAAAAAAAEAAAEAAQABAQEBAAABAAEBAQEBAQEBAQAAAAABAAAAAQEBAQEAAAAAAQAAAQEAAAEBAQABAQEAAAAAAQEBAQAAAQABAAABAAEAAAEAAQABAQEBAQAAAAAAAAEBAAAAAAABAAEBAAEBAAAAAQEBAAABAQABAAABAQEBAQEAAAEAAQAAAQAAAAAAAQEAAAABAQEBAQAAAAEAAQABAQAAAQABAAEBAAABAAABAAEBAAABAAABAQEAAAEA",
          "dtype": "i1"
         },
         "xaxis": "x8",
         "yaxis": "y8"
        },
        {
         "name": "A9_Score",
         "nbinsx": 30,
         "type": "histogram",
         "x": {
          "bdata": "AAAAAAEAAAAAAAEAAQABAQEAAQABAQABAQEBAQAAAQEAAQAAAAEAAAAAAQAAAAABAAABAQEAAAABAQEAAQABAAAAAQEAAAABAQEBAAEBAAEAAAEBAQEAAQEAAQEBAAABAQABAAEBAAABAAAAAAABAQABAQEBAAEBAQABAQEAAAEAAAEBAQEAAQEAAAAAAQABAQAAAQEBAQABAQEBAAEAAQAAAAABAQAAAQAAAAABAQEBAAEAAAEBAQABAAABAQAAAQEBAAABAAABAAEBAAAAAQABAQEBAAEBAQAAAQABAAEAAQEAAAEAAAEBAQABAAAAAAAAAAAAAAAAAAAAAAEAAAAAAQEBAQABAQAAAQEBAQEAAQABAAABAQABAQEAAAEA",
          "dtype": "i1"
         },
         "xaxis": "x9",
         "yaxis": "y9"
        },
        {
         "name": "A10_Score",
         "nbinsx": 30,
         "type": "histogram",
         "x": {
          "bdata": "AAAAAQEBAQAAAAEBAQABAQEAAQEAAAAAAQABAQEAAQEBAQAAAAEBAQABAQABAAEBAAEBAQEBAAABAAEAAQEBAQEBAAEBAQEBAQABAQEAAAEBAQEBAQEAAQEAAQEBAQEBAQAAAQABAQEBAQABAQEBAAEBAQEAAQEAAQABAQEAAQEBAQEBAAEAAQEBAQEAAQEBAQABAQEBAQEBAQEBAQEBAQEBAQEBAQABAQEAAAABAQEBAAEBAQEBAQABAQEBAAAAAQEBAQEAAQEBAAABAQABAQEBAAEAAQABAQEAAQABAQEAAQEBAQEAAQEBAAEAAQEAAQEAAAEBAQEBAQEAAQEBAQEAAQEBAQEBAQABAAABAQABAQEAAQEBAAEBAQEBAQEA",
          "dtype": "i1"
         },
         "xaxis": "x10",
         "yaxis": "y10"
        },
        {
         "name": "age",
         "nbinsx": 30,
         "type": "histogram",
         "x": {
          "bdata": "AAAAAAAAGEAAAAAAAAAYQAAAAAAAABhAAAAAAAAAFEAAAAAAAAAUQAAAAAAAABBAAAAAAAAAFEAAAAAAAAAUQAAAAAAAACZAAAAAAAAAJkAAAAAAAAAkQAAAAAAAABRAAAAAAAAAEEAAAAAAAAAQQAAAAAAAABhAAAAAAAAAIEAAAAAAAAAQQAAAAAAAABxAAAAAAAAAJkAAAAAAAAAUQAAAAAAAABRAAAAAAAAAIkAAAAAAAAAQQAAAAAAAABhAAAAAAAAAJkAAAAAAAAAYQAAAAAAAABhAAAAAAAAAFEAAAAAAAAAYQAAAAAAAABBAAAAAAAAAJkAAAAAAAAAYQAAAAAAAABRAAAAAAAAAGEAAAAAAAAAcQAAAAAAAABBAAAAAAAAAHEAAAAAAAAAQQAAAAAAAABBAAAAAAAAAFEAAAAAAAAAQQAAAAAAAABhAAAAAAAAAEEAAAAAAAAAkQAAAAAAAABBAAAAAAAAAEEAAAAAAAAAYQAAAAAAAABhAAAAAAAAAHEAAAAAAAAAcQAAAAAAAABBAAAAAAAAAGEAAAAAAAAAcQAAAAAAAABRAAAAAAAAAFEAAAAAAAAAYQAAAAAAAABBAAAAAAAAAIkAAAAAAAAAQQAAAAAAAABBAAAAAAAAAIkAAAAAAAAAQQAAAAAAAACJAAAAAAAAAIEAAAAAAAAAQQAAAAAAAABBAAAAAAAAAEEAAAAAAAAAQQAAAAAAAABxAAAAAAAAAHEAAAAAAAAAYQAAAAAAAABRAAAAAAAAAIEAAAAAAAAAUQAAAAAAAACZAAAAAAAAAIEAAAAAAAAAQQAAAAAAAABxAAAAAAAAAEEAAAAAAAAAcQAAAAAAAACBAAAAAAAAAFEAAAAAAAAAQQAAAAAAAACZAAAAAAAAAJkAAAAAAAAAQQAAAAAAAABRAAAAAAAAAGEAAAAAAAAAQQAAAAAAAACZAAAAAAAAAFEAAAAAAAAAUQAAAAAAAABhAAAAAAAAAHEAAAAAAAAAmQAAAAAAAABBAAAAAAAAAEEAAAAAAAAAcQAAAAAAAACZAAAAAAAAAGEAAAAAAAAAiQAAAAAAAACRAAAAAAAAAEEAAAAAAAAAQQAAAAAAAACRAAAAAAAAAEEAAAAAAAAAmQAAAAAAAABxAAAAAAAAAFEAAAAAAAAAQQAAAAAAAACBAAAAAAAAAEEAAAAAAAAAQQAAAAAAAACZAAAAAAAAAJEAAAAAAAAAYQAAAAAAAABBAAAAAAAAAEEAAAAAAAAAQQAAAAAAAACRAAAAAAAAAHEAAAAAAAAAQQAAAAAAAABhAAAAAAAAAFEAAAAAAAAAQQAAAAAAAACJAAAAAAAAAEEAAAAAAAAAkQAAAAAAAACJAAAAAAAAAFEAAAAAAAAAQQAAAAAAAABBAAAAAAAAAGEAAAAAAAAAQQAAAAAAAABRAAAAAAAAAIkAAAAAAAAAcQAAAAAAAACRAAAAAAAAAEEAAAAAAAAAQQAAAAAAAABxAAAAAAAAAEEAAAAAAAAAQQAAAAAAAACRAAAAAAAAAEEAAAAAAAAAQQAAAAAAAABBAAAAAAAAAEEAAAAAAAAAcQAAAAAAAABBAAAAAAAAAFEAAAAAAAAAYQAAAAAAAABhAAAAAAAAAGEAAAAAAAAAiQAAAAAAAACBAAAAAAAAAJkAAAAAAAAAiQAAAAAAAACJAAAAAAAAAHEAAAAAAAAAQQAAAAAAAACRAAAAAAAAAIEAAAAAAAAAYQAAAAAAAACBAAAAAAAAAJkAAAAAAAAAUQAAAAAAAABBAAAAAAAAAJkAAAAAAAAAmQAAAAAAAABBAAAAAAAAAIEAAAAAAAAAgQAAAAAAAACJAAAAAAAAAEEAAAAAAAAAQQAAAAAAAABBAAAAAAAAAEEAAAAAAAAAmQAAAAAAAACRAAAAAAAAAJkAAAAAAAAAQQAAAAAAAABBAAAAAAAAAGEAAAAAAAAAgQAAAAAAAABBAAAAAAAAAEEAAAAAAAAAgQAAAAAAAACZAAAAAAAAAEEAAAAAAAAAUQAAAAAAAABBAAAAAAAAAIEAAAAAAAAAQQAAAAAAAABBAAAAAAAAAIkAAAAAAAAAiQAAAAAAAABBAAAAAAAAAFEAAAAAAAAAcQAAAAAAAABBAAAAAAAAAFEAAAAAAAAAYQAAAAAAAACBAAAAAAAAAEEAAAAAAAAAUQAAAAAAAABRAAAAAAAAAGEAAAAAAAAAQQAAAAAAAACBAAAAAAAAAFEAAAAAAAAAQQAAAAAAAABhAAAAAAAAAJkAAAAAAAAAYQAAAAAAAABBAAAAAAAAAIEAAAAAAAAAQQAAAAAAAABBAAAAAAAAAGEAAAAAAAAAgQAAAAAAAACJAAAAAAAAAIEAAAAAAAAAUQAAAAAAAABRAAAAAAAAAEEAAAAAAAAAkQAAAAAAAABBAAAAAAAAAEEAAAAAAAAAUQAAAAAAAABBAAAAAAAAAFEAAAAAAAAAcQAAAAAAAACZAAAAAAAAAJkAAAAAAAAAmQAAAAAAAACJAAAAAAAAAGEAAAAAAAAAYQAAAAAAAACJAAAAAAAAAHEAAAAAAAAAUQAAAAAAAABRAAAAAAAAAJEAAAAAAAAAcQAAAAAAAACJAAAAAAAAAHEAAAAAAAAAcQAAAAAAAABxAAAAAAAAAIkAAAAAAAAAUQAAAAAAAABBAAAAAAAAAFEAAAAAAAAAQQAAAAAAAABRAAAAAAAAAFEAAAAAAAAAQQAAAAAAAABhAAAAAAAAAGEAAAAAAAAAUQAAAAAAAACZAAAAAAAAAJEAAAAAAAAAQQAAAAAAAABRAAAAAAAAAJEAAAAAAAAAiQAAAAAAAABBAAAAAAAAAEEAAAAAAAAAUQAAAAAAAACBAAAAAAAAAIEAAAAAAAAAYQAAAAAAAACZAAAAAAAAAJEAAAAAAAAAYQAAAAAAAABhAAAAAAAAAEEAAAAAAAAAQQAAAAAAAABBAAAAAAAAAFEAAAAAAAAAkQAAAAAAAACRAAAAAAAAAFEAAAAAAAAAcQAAAAAAAABxAAAAAAAAAEEAAAAAAAAAQQAAAAAAAABBA",
          "dtype": "f8"
         },
         "xaxis": "x11",
         "yaxis": "y11"
        },
        {
         "name": "result",
         "nbinsx": 30,
         "type": "histogram",
         "x": {
          "bdata": "BQUFBAoFBwgHBQcDCQIKCgkBCAgIBQMFCAYGCgUDCgQFBQEDAgoIBgEECAIFBAcHAgQGBgkFAgIJCAcDCQYJBQMEBQkFBAcIBwYJBAkGAwkIBQYJBwoFCQgFCAgKBwgICAIGBwIFBAgIAwQDBwMHCQYKCQYGBAcFCgUICAcGBwkEBgUJBQcACggGBwcGCQUJBgMHBwYJCAkGCAcKBwcDBwQFBAgICQUECgUFBAQKBAcIBAgFBwYICgYJBwcHBgUDCAcJBAQIBAcIBQgJAwYHBgUGBgoIAQMJCggHCAQKBAcECAgFBwgFBgkFBQUGBgMDBgYEAQMGBwgHCAUFBAoECAYFCgYICAUJBwQHAwMJCQQGBwQJAgYGBAYICQoEBwkD",
          "dtype": "i1"
         },
         "xaxis": "x12",
         "yaxis": "y12"
        },
        {
         "name": "class",
         "nbinsx": 30,
         "type": "histogram",
         "x": {
          "bdata": "AAAAAAEAAQEBAAEAAQABAQEAAQEBAAAAAQAAAQAAAQAAAAAAAAEBAAAAAQAAAAEBAAAAAAEAAAABAQEAAQABAAAAAAEAAAEBAQABAAEAAAEBAAABAQEAAQEAAQEBAQEBAQAAAQAAAAEBAAAAAQABAQABAQAAAAEAAQABAQEAAQEAAAABAAEAAQEAAQEAAQABAAABAQABAQEAAQEBAQEAAQAAAAEBAQAAAQAAAAABAAEBAAEAAQABAQABAQEBAAAAAQEBAAABAAEBAAEBAAABAAAAAAEBAAABAQEBAQABAAEAAQEAAQEAAAEAAAAAAAAAAAAAAAAAAQEBAQAAAAEAAQAAAQABAQABAQABAAABAQAAAQABAAAAAAABAQEAAQEA",
          "dtype": "i1"
         },
         "xaxis": "x13",
         "yaxis": "y13"
        }
       ],
       "layout": {
        "annotations": [
         {
          "font": {
           "size": 16
          },
          "showarrow": false,
          "text": "A1_Score",
          "x": 0.14444444444444446,
          "xanchor": "center",
          "xref": "paper",
          "y": 1,
          "yanchor": "bottom",
          "yref": "paper"
         },
         {
          "font": {
           "size": 16
          },
          "showarrow": false,
          "text": "A2_Score",
          "x": 0.5,
          "xanchor": "center",
          "xref": "paper",
          "y": 1,
          "yanchor": "bottom",
          "yref": "paper"
         },
         {
          "font": {
           "size": 16
          },
          "showarrow": false,
          "text": "A3_Score",
          "x": 0.8555555555555556,
          "xanchor": "center",
          "xref": "paper",
          "y": 1,
          "yanchor": "bottom",
          "yref": "paper"
         },
         {
          "font": {
           "size": 16
          },
          "showarrow": false,
          "text": "A4_Score",
          "x": 0.14444444444444446,
          "xanchor": "center",
          "xref": "paper",
          "y": 0.78,
          "yanchor": "bottom",
          "yref": "paper"
         },
         {
          "font": {
           "size": 16
          },
          "showarrow": false,
          "text": "A5_Score",
          "x": 0.5,
          "xanchor": "center",
          "xref": "paper",
          "y": 0.78,
          "yanchor": "bottom",
          "yref": "paper"
         },
         {
          "font": {
           "size": 16
          },
          "showarrow": false,
          "text": "A6_Score",
          "x": 0.8555555555555556,
          "xanchor": "center",
          "xref": "paper",
          "y": 0.78,
          "yanchor": "bottom",
          "yref": "paper"
         },
         {
          "font": {
           "size": 16
          },
          "showarrow": false,
          "text": "A7_Score",
          "x": 0.14444444444444446,
          "xanchor": "center",
          "xref": "paper",
          "y": 0.56,
          "yanchor": "bottom",
          "yref": "paper"
         },
         {
          "font": {
           "size": 16
          },
          "showarrow": false,
          "text": "A8_Score",
          "x": 0.5,
          "xanchor": "center",
          "xref": "paper",
          "y": 0.56,
          "yanchor": "bottom",
          "yref": "paper"
         },
         {
          "font": {
           "size": 16
          },
          "showarrow": false,
          "text": "A9_Score",
          "x": 0.8555555555555556,
          "xanchor": "center",
          "xref": "paper",
          "y": 0.56,
          "yanchor": "bottom",
          "yref": "paper"
         },
         {
          "font": {
           "size": 16
          },
          "showarrow": false,
          "text": "A10_Score",
          "x": 0.14444444444444446,
          "xanchor": "center",
          "xref": "paper",
          "y": 0.33999999999999997,
          "yanchor": "bottom",
          "yref": "paper"
         },
         {
          "font": {
           "size": 16
          },
          "showarrow": false,
          "text": "age",
          "x": 0.5,
          "xanchor": "center",
          "xref": "paper",
          "y": 0.33999999999999997,
          "yanchor": "bottom",
          "yref": "paper"
         },
         {
          "font": {
           "size": 16
          },
          "showarrow": false,
          "text": "result",
          "x": 0.8555555555555556,
          "xanchor": "center",
          "xref": "paper",
          "y": 0.33999999999999997,
          "yanchor": "bottom",
          "yref": "paper"
         },
         {
          "font": {
           "size": 16
          },
          "showarrow": false,
          "text": "class",
          "x": 0.14444444444444446,
          "xanchor": "center",
          "xref": "paper",
          "y": 0.12,
          "yanchor": "bottom",
          "yref": "paper"
         }
        ],
        "height": 1500,
        "showlegend": false,
        "template": {
         "data": {
          "bar": [
           {
            "error_x": {
             "color": "#2a3f5f"
            },
            "error_y": {
             "color": "#2a3f5f"
            },
            "marker": {
             "line": {
              "color": "#E5ECF6",
              "width": 0.5
             },
             "pattern": {
              "fillmode": "overlay",
              "size": 10,
              "solidity": 0.2
             }
            },
            "type": "bar"
           }
          ],
          "barpolar": [
           {
            "marker": {
             "line": {
              "color": "#E5ECF6",
              "width": 0.5
             },
             "pattern": {
              "fillmode": "overlay",
              "size": 10,
              "solidity": 0.2
             }
            },
            "type": "barpolar"
           }
          ],
          "carpet": [
           {
            "aaxis": {
             "endlinecolor": "#2a3f5f",
             "gridcolor": "white",
             "linecolor": "white",
             "minorgridcolor": "white",
             "startlinecolor": "#2a3f5f"
            },
            "baxis": {
             "endlinecolor": "#2a3f5f",
             "gridcolor": "white",
             "linecolor": "white",
             "minorgridcolor": "white",
             "startlinecolor": "#2a3f5f"
            },
            "type": "carpet"
           }
          ],
          "choropleth": [
           {
            "colorbar": {
             "outlinewidth": 0,
             "ticks": ""
            },
            "type": "choropleth"
           }
          ],
          "contour": [
           {
            "colorbar": {
             "outlinewidth": 0,
             "ticks": ""
            },
            "colorscale": [
             [
              0,
              "#0d0887"
             ],
             [
              0.1111111111111111,
              "#46039f"
             ],
             [
              0.2222222222222222,
              "#7201a8"
             ],
             [
              0.3333333333333333,
              "#9c179e"
             ],
             [
              0.4444444444444444,
              "#bd3786"
             ],
             [
              0.5555555555555556,
              "#d8576b"
             ],
             [
              0.6666666666666666,
              "#ed7953"
             ],
             [
              0.7777777777777778,
              "#fb9f3a"
             ],
             [
              0.8888888888888888,
              "#fdca26"
             ],
             [
              1,
              "#f0f921"
             ]
            ],
            "type": "contour"
           }
          ],
          "contourcarpet": [
           {
            "colorbar": {
             "outlinewidth": 0,
             "ticks": ""
            },
            "type": "contourcarpet"
           }
          ],
          "heatmap": [
           {
            "colorbar": {
             "outlinewidth": 0,
             "ticks": ""
            },
            "colorscale": [
             [
              0,
              "#0d0887"
             ],
             [
              0.1111111111111111,
              "#46039f"
             ],
             [
              0.2222222222222222,
              "#7201a8"
             ],
             [
              0.3333333333333333,
              "#9c179e"
             ],
             [
              0.4444444444444444,
              "#bd3786"
             ],
             [
              0.5555555555555556,
              "#d8576b"
             ],
             [
              0.6666666666666666,
              "#ed7953"
             ],
             [
              0.7777777777777778,
              "#fb9f3a"
             ],
             [
              0.8888888888888888,
              "#fdca26"
             ],
             [
              1,
              "#f0f921"
             ]
            ],
            "type": "heatmap"
           }
          ],
          "histogram": [
           {
            "marker": {
             "pattern": {
              "fillmode": "overlay",
              "size": 10,
              "solidity": 0.2
             }
            },
            "type": "histogram"
           }
          ],
          "histogram2d": [
           {
            "colorbar": {
             "outlinewidth": 0,
             "ticks": ""
            },
            "colorscale": [
             [
              0,
              "#0d0887"
             ],
             [
              0.1111111111111111,
              "#46039f"
             ],
             [
              0.2222222222222222,
              "#7201a8"
             ],
             [
              0.3333333333333333,
              "#9c179e"
             ],
             [
              0.4444444444444444,
              "#bd3786"
             ],
             [
              0.5555555555555556,
              "#d8576b"
             ],
             [
              0.6666666666666666,
              "#ed7953"
             ],
             [
              0.7777777777777778,
              "#fb9f3a"
             ],
             [
              0.8888888888888888,
              "#fdca26"
             ],
             [
              1,
              "#f0f921"
             ]
            ],
            "type": "histogram2d"
           }
          ],
          "histogram2dcontour": [
           {
            "colorbar": {
             "outlinewidth": 0,
             "ticks": ""
            },
            "colorscale": [
             [
              0,
              "#0d0887"
             ],
             [
              0.1111111111111111,
              "#46039f"
             ],
             [
              0.2222222222222222,
              "#7201a8"
             ],
             [
              0.3333333333333333,
              "#9c179e"
             ],
             [
              0.4444444444444444,
              "#bd3786"
             ],
             [
              0.5555555555555556,
              "#d8576b"
             ],
             [
              0.6666666666666666,
              "#ed7953"
             ],
             [
              0.7777777777777778,
              "#fb9f3a"
             ],
             [
              0.8888888888888888,
              "#fdca26"
             ],
             [
              1,
              "#f0f921"
             ]
            ],
            "type": "histogram2dcontour"
           }
          ],
          "mesh3d": [
           {
            "colorbar": {
             "outlinewidth": 0,
             "ticks": ""
            },
            "type": "mesh3d"
           }
          ],
          "parcoords": [
           {
            "line": {
             "colorbar": {
              "outlinewidth": 0,
              "ticks": ""
             }
            },
            "type": "parcoords"
           }
          ],
          "pie": [
           {
            "automargin": true,
            "type": "pie"
           }
          ],
          "scatter": [
           {
            "fillpattern": {
             "fillmode": "overlay",
             "size": 10,
             "solidity": 0.2
            },
            "type": "scatter"
           }
          ],
          "scatter3d": [
           {
            "line": {
             "colorbar": {
              "outlinewidth": 0,
              "ticks": ""
             }
            },
            "marker": {
             "colorbar": {
              "outlinewidth": 0,
              "ticks": ""
             }
            },
            "type": "scatter3d"
           }
          ],
          "scattercarpet": [
           {
            "marker": {
             "colorbar": {
              "outlinewidth": 0,
              "ticks": ""
             }
            },
            "type": "scattercarpet"
           }
          ],
          "scattergeo": [
           {
            "marker": {
             "colorbar": {
              "outlinewidth": 0,
              "ticks": ""
             }
            },
            "type": "scattergeo"
           }
          ],
          "scattergl": [
           {
            "marker": {
             "colorbar": {
              "outlinewidth": 0,
              "ticks": ""
             }
            },
            "type": "scattergl"
           }
          ],
          "scattermap": [
           {
            "marker": {
             "colorbar": {
              "outlinewidth": 0,
              "ticks": ""
             }
            },
            "type": "scattermap"
           }
          ],
          "scattermapbox": [
           {
            "marker": {
             "colorbar": {
              "outlinewidth": 0,
              "ticks": ""
             }
            },
            "type": "scattermapbox"
           }
          ],
          "scatterpolar": [
           {
            "marker": {
             "colorbar": {
              "outlinewidth": 0,
              "ticks": ""
             }
            },
            "type": "scatterpolar"
           }
          ],
          "scatterpolargl": [
           {
            "marker": {
             "colorbar": {
              "outlinewidth": 0,
              "ticks": ""
             }
            },
            "type": "scatterpolargl"
           }
          ],
          "scatterternary": [
           {
            "marker": {
             "colorbar": {
              "outlinewidth": 0,
              "ticks": ""
             }
            },
            "type": "scatterternary"
           }
          ],
          "surface": [
           {
            "colorbar": {
             "outlinewidth": 0,
             "ticks": ""
            },
            "colorscale": [
             [
              0,
              "#0d0887"
             ],
             [
              0.1111111111111111,
              "#46039f"
             ],
             [
              0.2222222222222222,
              "#7201a8"
             ],
             [
              0.3333333333333333,
              "#9c179e"
             ],
             [
              0.4444444444444444,
              "#bd3786"
             ],
             [
              0.5555555555555556,
              "#d8576b"
             ],
             [
              0.6666666666666666,
              "#ed7953"
             ],
             [
              0.7777777777777778,
              "#fb9f3a"
             ],
             [
              0.8888888888888888,
              "#fdca26"
             ],
             [
              1,
              "#f0f921"
             ]
            ],
            "type": "surface"
           }
          ],
          "table": [
           {
            "cells": {
             "fill": {
              "color": "#EBF0F8"
             },
             "line": {
              "color": "white"
             }
            },
            "header": {
             "fill": {
              "color": "#C8D4E3"
             },
             "line": {
              "color": "white"
             }
            },
            "type": "table"
           }
          ]
         },
         "layout": {
          "annotationdefaults": {
           "arrowcolor": "#2a3f5f",
           "arrowhead": 0,
           "arrowwidth": 1
          },
          "autotypenumbers": "strict",
          "coloraxis": {
           "colorbar": {
            "outlinewidth": 0,
            "ticks": ""
           }
          },
          "colorscale": {
           "diverging": [
            [
             0,
             "#8e0152"
            ],
            [
             0.1,
             "#c51b7d"
            ],
            [
             0.2,
             "#de77ae"
            ],
            [
             0.3,
             "#f1b6da"
            ],
            [
             0.4,
             "#fde0ef"
            ],
            [
             0.5,
             "#f7f7f7"
            ],
            [
             0.6,
             "#e6f5d0"
            ],
            [
             0.7,
             "#b8e186"
            ],
            [
             0.8,
             "#7fbc41"
            ],
            [
             0.9,
             "#4d9221"
            ],
            [
             1,
             "#276419"
            ]
           ],
           "sequential": [
            [
             0,
             "#0d0887"
            ],
            [
             0.1111111111111111,
             "#46039f"
            ],
            [
             0.2222222222222222,
             "#7201a8"
            ],
            [
             0.3333333333333333,
             "#9c179e"
            ],
            [
             0.4444444444444444,
             "#bd3786"
            ],
            [
             0.5555555555555556,
             "#d8576b"
            ],
            [
             0.6666666666666666,
             "#ed7953"
            ],
            [
             0.7777777777777778,
             "#fb9f3a"
            ],
            [
             0.8888888888888888,
             "#fdca26"
            ],
            [
             1,
             "#f0f921"
            ]
           ],
           "sequentialminus": [
            [
             0,
             "#0d0887"
            ],
            [
             0.1111111111111111,
             "#46039f"
            ],
            [
             0.2222222222222222,
             "#7201a8"
            ],
            [
             0.3333333333333333,
             "#9c179e"
            ],
            [
             0.4444444444444444,
             "#bd3786"
            ],
            [
             0.5555555555555556,
             "#d8576b"
            ],
            [
             0.6666666666666666,
             "#ed7953"
            ],
            [
             0.7777777777777778,
             "#fb9f3a"
            ],
            [
             0.8888888888888888,
             "#fdca26"
            ],
            [
             1,
             "#f0f921"
            ]
           ]
          },
          "colorway": [
           "#636efa",
           "#EF553B",
           "#00cc96",
           "#ab63fa",
           "#FFA15A",
           "#19d3f3",
           "#FF6692",
           "#B6E880",
           "#FF97FF",
           "#FECB52"
          ],
          "font": {
           "color": "#2a3f5f"
          },
          "geo": {
           "bgcolor": "white",
           "lakecolor": "white",
           "landcolor": "#E5ECF6",
           "showlakes": true,
           "showland": true,
           "subunitcolor": "white"
          },
          "hoverlabel": {
           "align": "left"
          },
          "hovermode": "closest",
          "mapbox": {
           "style": "light"
          },
          "paper_bgcolor": "white",
          "plot_bgcolor": "#E5ECF6",
          "polar": {
           "angularaxis": {
            "gridcolor": "white",
            "linecolor": "white",
            "ticks": ""
           },
           "bgcolor": "#E5ECF6",
           "radialaxis": {
            "gridcolor": "white",
            "linecolor": "white",
            "ticks": ""
           }
          },
          "scene": {
           "xaxis": {
            "backgroundcolor": "#E5ECF6",
            "gridcolor": "white",
            "gridwidth": 2,
            "linecolor": "white",
            "showbackground": true,
            "ticks": "",
            "zerolinecolor": "white"
           },
           "yaxis": {
            "backgroundcolor": "#E5ECF6",
            "gridcolor": "white",
            "gridwidth": 2,
            "linecolor": "white",
            "showbackground": true,
            "ticks": "",
            "zerolinecolor": "white"
           },
           "zaxis": {
            "backgroundcolor": "#E5ECF6",
            "gridcolor": "white",
            "gridwidth": 2,
            "linecolor": "white",
            "showbackground": true,
            "ticks": "",
            "zerolinecolor": "white"
           }
          },
          "shapedefaults": {
           "line": {
            "color": "#2a3f5f"
           }
          },
          "ternary": {
           "aaxis": {
            "gridcolor": "white",
            "linecolor": "white",
            "ticks": ""
           },
           "baxis": {
            "gridcolor": "white",
            "linecolor": "white",
            "ticks": ""
           },
           "bgcolor": "#E5ECF6",
           "caxis": {
            "gridcolor": "white",
            "linecolor": "white",
            "ticks": ""
           }
          },
          "title": {
           "x": 0.05
          },
          "xaxis": {
           "automargin": true,
           "gridcolor": "white",
           "linecolor": "white",
           "ticks": "",
           "title": {
            "standoff": 15
           },
           "zerolinecolor": "white",
           "zerolinewidth": 2
          },
          "yaxis": {
           "automargin": true,
           "gridcolor": "white",
           "linecolor": "white",
           "ticks": "",
           "title": {
            "standoff": 15
           },
           "zerolinecolor": "white",
           "zerolinewidth": 2
          }
         }
        },
        "title": {
         "text": "Histogramme der numerischen Features"
        },
        "width": 1000,
        "xaxis": {
         "anchor": "y",
         "domain": [
          0,
          0.2888888888888889
         ]
        },
        "xaxis10": {
         "anchor": "y10",
         "domain": [
          0,
          0.2888888888888889
         ]
        },
        "xaxis11": {
         "anchor": "y11",
         "domain": [
          0.35555555555555557,
          0.6444444444444445
         ]
        },
        "xaxis12": {
         "anchor": "y12",
         "domain": [
          0.7111111111111111,
          1
         ]
        },
        "xaxis13": {
         "anchor": "y13",
         "domain": [
          0,
          0.2888888888888889
         ]
        },
        "xaxis14": {
         "anchor": "y14",
         "domain": [
          0.35555555555555557,
          0.6444444444444445
         ]
        },
        "xaxis15": {
         "anchor": "y15",
         "domain": [
          0.7111111111111111,
          1
         ]
        },
        "xaxis2": {
         "anchor": "y2",
         "domain": [
          0.35555555555555557,
          0.6444444444444445
         ]
        },
        "xaxis3": {
         "anchor": "y3",
         "domain": [
          0.7111111111111111,
          1
         ]
        },
        "xaxis4": {
         "anchor": "y4",
         "domain": [
          0,
          0.2888888888888889
         ]
        },
        "xaxis5": {
         "anchor": "y5",
         "domain": [
          0.35555555555555557,
          0.6444444444444445
         ]
        },
        "xaxis6": {
         "anchor": "y6",
         "domain": [
          0.7111111111111111,
          1
         ]
        },
        "xaxis7": {
         "anchor": "y7",
         "domain": [
          0,
          0.2888888888888889
         ]
        },
        "xaxis8": {
         "anchor": "y8",
         "domain": [
          0.35555555555555557,
          0.6444444444444445
         ]
        },
        "xaxis9": {
         "anchor": "y9",
         "domain": [
          0.7111111111111111,
          1
         ]
        },
        "yaxis": {
         "anchor": "x",
         "domain": [
          0.88,
          1
         ]
        },
        "yaxis10": {
         "anchor": "x10",
         "domain": [
          0.22,
          0.33999999999999997
         ]
        },
        "yaxis11": {
         "anchor": "x11",
         "domain": [
          0.22,
          0.33999999999999997
         ]
        },
        "yaxis12": {
         "anchor": "x12",
         "domain": [
          0.22,
          0.33999999999999997
         ]
        },
        "yaxis13": {
         "anchor": "x13",
         "domain": [
          0,
          0.12
         ]
        },
        "yaxis14": {
         "anchor": "x14",
         "domain": [
          0,
          0.12
         ]
        },
        "yaxis15": {
         "anchor": "x15",
         "domain": [
          0,
          0.12
         ]
        },
        "yaxis2": {
         "anchor": "x2",
         "domain": [
          0.88,
          1
         ]
        },
        "yaxis3": {
         "anchor": "x3",
         "domain": [
          0.88,
          1
         ]
        },
        "yaxis4": {
         "anchor": "x4",
         "domain": [
          0.66,
          0.78
         ]
        },
        "yaxis5": {
         "anchor": "x5",
         "domain": [
          0.66,
          0.78
         ]
        },
        "yaxis6": {
         "anchor": "x6",
         "domain": [
          0.66,
          0.78
         ]
        },
        "yaxis7": {
         "anchor": "x7",
         "domain": [
          0.44,
          0.56
         ]
        },
        "yaxis8": {
         "anchor": "x8",
         "domain": [
          0.44,
          0.56
         ]
        },
        "yaxis9": {
         "anchor": "x9",
         "domain": [
          0.44,
          0.56
         ]
        }
       }
      }
     },
     "metadata": {},
     "output_type": "display_data"
    }
   ],
   "source": [
    "plots_per_row = 3\n",
    "num_plots = len(numeric_cols)\n",
    "num_rows = (num_plots + plots_per_row - 1) // plots_per_row\n",
    "\n",
    "# Subplot erstellen\n",
    "fig = make_subplots(\n",
    "    rows=num_rows, cols=plots_per_row,\n",
    "    subplot_titles=numeric_cols\n",
    ")\n",
    "\n",
    "# Für jede numerische Spalte ein Histogramm hinzufügen\n",
    "for i, col in enumerate(numeric_cols):\n",
    "    row = i // plots_per_row + 1\n",
    "    col_pos = i % plots_per_row + 1\n",
    "\n",
    "    fig.add_trace(\n",
    "        go.Histogram(\n",
    "            x=df_asd[col],\n",
    "            nbinsx=30,\n",
    "            name=col\n",
    "        ),\n",
    "        row=row,\n",
    "        col=col_pos\n",
    "    )\n",
    "\n",
    "# Layout anpassen\n",
    "fig.update_layout(\n",
    "    height=300 * num_rows,\n",
    "    width=1000,\n",
    "    title_text=\"Histogramme der numerischen Features\",\n",
    "    showlegend=False\n",
    ")\n",
    "\n",
    "fig.show()\n"
   ]
  },
  {
   "cell_type": "markdown",
   "id": "e3f070cb",
   "metadata": {},
   "source": [
    "We can not that while the class distribution is pretty balanced, the balance in the score are quite of. To keep the good balance in the class target variable, we will keeep this balance and note it. When the model performs poorly, we might have to revisit this imbalance and see if this could improve performanceö"
   ]
  },
  {
   "cell_type": "code",
   "execution_count": 75,
   "id": "76429122",
   "metadata": {},
   "outputs": [
    {
     "data": {
      "application/vnd.plotly.v1+json": {
       "config": {
        "plotlyServerURL": "https://plot.ly"
       },
       "data": [
        {
         "boxpoints": false,
         "name": "A1_Score",
         "type": "box",
         "xaxis": "x",
         "y": {
          "bdata": "AQEBAAEAAQEBAAEAAAEBAQEAAQEBAAEBAQABAQAAAQABAQAAAQEAAAABAQAAAAEBAAAAAQEBAAABAQEBAQEBAQEBAAEBAAEBAQABAQEAAQABAAABAQEBAAEBAAABAQEBAQABAQAAAAEBAQAAAAEAAQEBAQEAAAAAAQABAAABAQEBAAEBAAEAAQEAAQEBAQABAAABAQABAQEAAQABAQEAAQABAAEAAQEAAQAAAQEBAAABAAEAAQEBAQABAQEBAQEBAQAAAQEBAAEBAQEBAQEBAQAAAQEBAAABAQEBAQEBAAABAQEAAAAAAAEAAQEBAQABAAEBAAAAAAABAQEBAAEBAQEBAQABAQEBAQEAAQABAQEAAQEBAAAAAAEAAAEBAQEA",
          "dtype": "i1"
         },
         "yaxis": "y"
        },
        {
         "boxpoints": false,
         "name": "A2_Score",
         "type": "box",
         "xaxis": "x2",
         "y": {
          "bdata": "AQEBAQEAAAEBAAABAQABAQEAAAEBAAEAAAAAAQEAAQAAAAEBAQEBAAEAAAABAQEAAQEAAAEAAAAAAAAAAAEBAAAAAAAAAQAAAAABAAEBAAEAAQABAQEBAQAAAAABAAEBAQABAQABAAEBAAEAAQEAAQABAQEAAQEAAQEBAQAAAAEBAQEBAQEAAQABAAABAQEBAAABAAEBAQEBAQEBAAABAAAAAAABAAEAAQABAAABAAABAQABAAABAQABAQEBAAEBAQABAAABAAEAAQEBAAAAAAEAAAEAAAAAAQEBAQABAAAAAQABAQEBAAEBAAABAAEBAQEBAAABAQEAAAEBAAEAAAEBAQEAAQEAAAABAAABAQAAAQABAAEBAAABAQEAAAEA",
          "dtype": "i1"
         },
         "yaxis": "y2"
        },
        {
         "boxpoints": false,
         "name": "A3_Score",
         "type": "box",
         "xaxis": "x3",
         "y": {
          "bdata": "AAAAAAEBAQEBAQAAAQABAQEAAQEBAQABAQEBAQEBAQEAAAAAAAEBAQAAAQABAQEBAAABAAEBAQEBAQEBAQEBAQAAAQEBAAEBAQABAAEBAAEBAQEBAQEBAQEAAQEBAQEBAQEAAQAAAAEBAAABAQABAQEBAQAAAQEBAQEBAQEBAQEAAQEBAQEAAQEBAQEAAQEBAQABAQEBAQEAAAABAQAAAAEAAAEBAQEBAQEBAQEBAAEBAQABAQEBAQEBAQABAQABAQEBAAABAQEBAQEBAAEBAQEBAQEBAAEBAQEBAQEBAAEAAQABAQEBAQEBAAABAQAAAQEBAAEAAAEBAQEBAAEAAQEAAQEBAQABAQEBAQEBAQEBAQABAQEBAAEAAQEAAQEB",
          "dtype": "i1"
         },
         "yaxis": "y3"
        },
        {
         "boxpoints": false,
         "name": "A4_Score",
         "type": "box",
         "xaxis": "x4",
         "y": {
          "bdata": "AAAAAAEAAQEBAQAAAQABAQEAAQEBAQEBAQEAAQAAAQAAAAAAAAEBAQAAAQEAAAABAAAAAQEBAAABAQEAAQAAAQAAAAEAAAEBAQEBAAEBAQEBAAABAQEBAQEBAQEBAAEBAAEBAQABAAEBAAAAAQABAQABAQEBAAEBAQAAAAAAAQEAAQABAQAAAQEAAQEBAQABAAABAAABAQEAAAEBAQAAAQAAAAEBAQAAAQEAAAEBAQABAAEBAQAAAQEBAAEAAAAAAQABAAABAAEBAQEBAAEBAAAAAQEBAAABAQEBAQEBAAAAAQEAAQEAAQEAAQEBAAAAAAAAAAABAQEAAQAAAQEAAQEAAQABAQABAAABAAABAQEAAAABAAEAAAABAQEAAQAA",
          "dtype": "i1"
         },
         "yaxis": "y4"
        },
        {
         "boxpoints": false,
         "name": "A5_Score",
         "type": "box",
         "xaxis": "x5",
         "y": {
          "bdata": "AQEAAQEBAQEBAQEBAQABAQEAAQEBAAAAAQEBAQABAQABAQABAAEBAQABAQABAQEBAQEBAAEAAQABAQEBAQEBAAEBAQEBAQEBAQEAAQEAAAEBAQEBAAEAAQEBAQEBAQEBAQAAAAAAAQEBAQABAQABAQEBAQABAQAAAQAAAQEBAAEAAQABAQEAAQEAAQABAQEBAQEBAQABAQEAAQEBAQEAAQABAQEBAQEBAQEAAQEBAAEBAQEAAQEBAQEBAQEBAQEAAQEBAQEBAQEBAAEAAQEBAQEBAAEBAAABAQEBAQEBAQEBAAEAAQEBAQEAAAEAAQAAAQABAAABAQEBAQABAQEBAQABAQABAAEBAQABAAABAQABAQEBAAEAAQEBAQEBAQEB",
          "dtype": "i1"
         },
         "yaxis": "y5"
        },
        {
         "boxpoints": false,
         "name": "A6_Score",
         "type": "box",
         "xaxis": "x6",
         "y": {
          "bdata": "AQEBAQEBAQEBAAEAAQABAQEAAAEBAQABAQABAQAAAQEBAQAAAAEBAQAAAQABAQABAAABAQEBAAEBAQEAAQEBAAAAAQEAAAEBAQEBAAEBAQEBAQEBAAEBAQEBAQEBAQEAAQABAQABAQEBAAEAAAABAQEBAQEBAAEAAQEBAQEBAQEAAQABAAAAAQABAQEBAQABAQEBAQABAAEBAQEBAQEBAQEBAAEBAQAAAQEBAQABAQEBAAEBAQAAAQEAAQEBAQEAAQEBAAABAAEAAQEBAAEBAAEBAQEBAAABAQEAAQABAQEAAQEBAQEBAQEBAQEAAQAAAQEAAAAAAQEBAQEBAQEAAQEAAQEBAQEBAQABAAAAAQABAQABAAEBAQEBAQEAAQEA",
          "dtype": "i1"
         },
         "yaxis": "y6"
        },
        {
         "boxpoints": false,
         "name": "A7_Score",
         "type": "box",
         "xaxis": "x7",
         "y": {
          "bdata": "AAABAAEAAAEBAQEAAQEBAQABAQABAAAAAAEAAQEBAQAAAAAAAAEBAAABAAEAAAEAAAEBAAEAAAABAQAAAQABAAABAQEBAQAAAAEBAQEAAAEBAAEBAQEAAQEBAQEBAQABAQABAQEAAQAAAAEAAQAAAQABAQABAAABAQEBAQEBAQEBAAAAAAEAAQEBAAEBAQEBAAEAAAEBAQEBAQEBAAEAAQEBAQEAAQEBAQABAAABAAEAAQEAAAEBAQEBAAEAAQEAAAEBAQEBAQABAAABAAAAAQABAAEBAAEBAQEBAAABAAEBAAEBAQABAAEAAAABAQEBAAAAAQEBAQEBAQAAAAEBAQABAQEBAAABAQEAAAEBAQABAAABAAAAAQEBAQEBAQEB",
          "dtype": "i1"
         },
         "yaxis": "y7"
        },
        {
         "boxpoints": false,
         "name": "A8_Score",
         "type": "box",
         "xaxis": "x8",
         "y": {
          "bdata": "AQEBAAEBAQEAAQEAAQABAQEAAQEAAQAAAQEAAQEAAQABAAABAAEBAQAAAQAAAAEAAAAAAQAAAAABAQAAAQABAQAAAAEAAAEBAAEBAAABAAEBAAAAAAEAAQAAAQEBAQEAAAAAAAAAAAEAAAEAAQABAQEBAAABAAEBAQEBAQEBAQAAAAABAAAAAQEBAQEAAAAAAQAAAQEAAAEBAQABAQEAAAAAAQEBAQAAAQABAAABAAEAAAEAAQABAQEBAQAAAAAAAAEBAAAAAAABAAEBAAEBAAAAAQEBAAABAQABAAABAQEBAQEAAAEAAQAAAQAAAAAAAQEAAAABAQEBAQAAAAEAAQABAQAAAQABAAEBAAABAAABAAEBAAABAAABAQEAAAEA",
          "dtype": "i1"
         },
         "yaxis": "y8"
        },
        {
         "boxpoints": false,
         "name": "A9_Score",
         "type": "box",
         "xaxis": "x9",
         "y": {
          "bdata": "AAAAAAEAAAAAAAEAAQABAQEAAQABAQABAQEBAQAAAQEAAQAAAAEAAAAAAQAAAAABAAABAQEAAAABAQEAAQABAAAAAQEAAAABAQEBAAEBAAEAAAEBAQEAAQEAAQEBAAABAQABAAEBAAABAAAAAAABAQABAQEBAAEBAQABAQEAAAEAAAEBAQEAAQEAAAAAAQABAQAAAQEBAQABAQEBAAEAAQAAAAABAQAAAQAAAAABAQEBAAEAAAEBAQABAAABAQAAAQEBAAABAAABAAEBAAAAAQABAQEBAAEBAQAAAQABAAEAAQEAAAEAAAEBAQABAAAAAAAAAAAAAAAAAAAAAAEAAAAAAQEBAQABAQAAAQEBAQEAAQABAAABAQABAQEAAAEA",
          "dtype": "i1"
         },
         "yaxis": "y9"
        },
        {
         "boxpoints": false,
         "name": "A10_Score",
         "type": "box",
         "xaxis": "x10",
         "y": {
          "bdata": "AAAAAQEBAQAAAAEBAQABAQEAAQEAAAAAAQABAQEAAQEBAQAAAAEBAQABAQABAAEBAAEBAQEBAAABAAEAAQEBAQEBAAEBAQEBAQABAQEAAAEBAQEBAQEAAQEAAQEBAQEBAQAAAQABAQEBAQABAQEBAAEBAQEAAQEAAQABAQEAAQEBAQEBAAEAAQEBAQEAAQEBAQABAQEBAQEBAQEBAQEBAQEBAQEBAQABAQEAAAABAQEBAAEBAQEBAQABAQEBAAAAAQEBAQEAAQEBAAABAQABAQEBAAEAAQABAQEAAQABAQEAAQEBAQEAAQEBAAEAAQEAAQEAAAEBAQEBAQEAAQEBAQEAAQEBAQEBAQABAAABAQABAQEAAQEBAAEBAQEBAQEA",
          "dtype": "i1"
         },
         "yaxis": "y10"
        },
        {
         "boxpoints": false,
         "name": "age",
         "type": "box",
         "xaxis": "x11",
         "y": {
          "bdata": "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",
          "dtype": "f8"
         },
         "yaxis": "y11"
        },
        {
         "boxpoints": false,
         "name": "result",
         "type": "box",
         "xaxis": "x12",
         "y": {
          "bdata": "BQUFBAoFBwgHBQcDCQIKCgkBCAgIBQMFCAYGCgUDCgQFBQEDAgoIBgEECAIFBAcHAgQGBgkFAgIJCAcDCQYJBQMEBQkFBAcIBwYJBAkGAwkIBQYJBwoFCQgFCAgKBwgICAIGBwIFBAgIAwQDBwMHCQYKCQYGBAcFCgUICAcGBwkEBgUJBQcACggGBwcGCQUJBgMHBwYJCAkGCAcKBwcDBwQFBAgICQUECgUFBAQKBAcIBAgFBwYICgYJBwcHBgUDCAcJBAQIBAcIBQgJAwYHBgUGBgoIAQMJCggHCAQKBAcECAgFBwgFBgkFBQUGBgMDBgYEAQMGBwgHCAUFBAoECAYFCgYICAUJBwQHAwMJCQQGBwQJAgYGBAYICQoEBwkD",
          "dtype": "i1"
         },
         "yaxis": "y12"
        },
        {
         "boxpoints": false,
         "name": "class",
         "type": "box",
         "xaxis": "x13",
         "y": {
          "bdata": "AAAAAAEAAQEBAAEAAQABAQEAAQEBAAAAAQAAAQAAAQAAAAAAAAEBAAAAAQAAAAEBAAAAAAEAAAABAQEAAQABAAAAAAEAAAEBAQABAAEAAAEBAAABAQEAAQEAAQEBAQEBAQAAAQAAAAEBAAAAAQABAQABAQAAAAEAAQABAQEAAQEAAAABAAEAAQEAAQEAAQABAAABAQABAQEAAQEBAQEAAQAAAAEBAQAAAQAAAAABAAEBAAEAAQABAQABAQEBAAAAAQEBAAABAAEBAAEBAAABAAAAAAEBAAABAQEBAQABAAEAAQEAAQEAAAEAAAAAAAAAAAAAAAAAAQEBAQAAAAEAAQAAAQABAQABAQABAAABAQAAAQABAAAAAAABAQEAAQEA",
          "dtype": "i1"
         },
         "yaxis": "y13"
        }
       ],
       "layout": {
        "annotations": [
         {
          "font": {
           "size": 16
          },
          "showarrow": false,
          "text": "A1_Score",
          "x": 0.14444444444444446,
          "xanchor": "center",
          "xref": "paper",
          "y": 1,
          "yanchor": "bottom",
          "yref": "paper"
         },
         {
          "font": {
           "size": 16
          },
          "showarrow": false,
          "text": "A2_Score",
          "x": 0.5,
          "xanchor": "center",
          "xref": "paper",
          "y": 1,
          "yanchor": "bottom",
          "yref": "paper"
         },
         {
          "font": {
           "size": 16
          },
          "showarrow": false,
          "text": "A3_Score",
          "x": 0.8555555555555556,
          "xanchor": "center",
          "xref": "paper",
          "y": 1,
          "yanchor": "bottom",
          "yref": "paper"
         },
         {
          "font": {
           "size": 16
          },
          "showarrow": false,
          "text": "A4_Score",
          "x": 0.14444444444444446,
          "xanchor": "center",
          "xref": "paper",
          "y": 0.78,
          "yanchor": "bottom",
          "yref": "paper"
         },
         {
          "font": {
           "size": 16
          },
          "showarrow": false,
          "text": "A5_Score",
          "x": 0.5,
          "xanchor": "center",
          "xref": "paper",
          "y": 0.78,
          "yanchor": "bottom",
          "yref": "paper"
         },
         {
          "font": {
           "size": 16
          },
          "showarrow": false,
          "text": "A6_Score",
          "x": 0.8555555555555556,
          "xanchor": "center",
          "xref": "paper",
          "y": 0.78,
          "yanchor": "bottom",
          "yref": "paper"
         },
         {
          "font": {
           "size": 16
          },
          "showarrow": false,
          "text": "A7_Score",
          "x": 0.14444444444444446,
          "xanchor": "center",
          "xref": "paper",
          "y": 0.56,
          "yanchor": "bottom",
          "yref": "paper"
         },
         {
          "font": {
           "size": 16
          },
          "showarrow": false,
          "text": "A8_Score",
          "x": 0.5,
          "xanchor": "center",
          "xref": "paper",
          "y": 0.56,
          "yanchor": "bottom",
          "yref": "paper"
         },
         {
          "font": {
           "size": 16
          },
          "showarrow": false,
          "text": "A9_Score",
          "x": 0.8555555555555556,
          "xanchor": "center",
          "xref": "paper",
          "y": 0.56,
          "yanchor": "bottom",
          "yref": "paper"
         },
         {
          "font": {
           "size": 16
          },
          "showarrow": false,
          "text": "A10_Score",
          "x": 0.14444444444444446,
          "xanchor": "center",
          "xref": "paper",
          "y": 0.33999999999999997,
          "yanchor": "bottom",
          "yref": "paper"
         },
         {
          "font": {
           "size": 16
          },
          "showarrow": false,
          "text": "age",
          "x": 0.5,
          "xanchor": "center",
          "xref": "paper",
          "y": 0.33999999999999997,
          "yanchor": "bottom",
          "yref": "paper"
         },
         {
          "font": {
           "size": 16
          },
          "showarrow": false,
          "text": "result",
          "x": 0.8555555555555556,
          "xanchor": "center",
          "xref": "paper",
          "y": 0.33999999999999997,
          "yanchor": "bottom",
          "yref": "paper"
         },
         {
          "font": {
           "size": 16
          },
          "showarrow": false,
          "text": "class",
          "x": 0.14444444444444446,
          "xanchor": "center",
          "xref": "paper",
          "y": 0.12,
          "yanchor": "bottom",
          "yref": "paper"
         }
        ],
        "height": 1500,
        "showlegend": false,
        "template": {
         "data": {
          "bar": [
           {
            "error_x": {
             "color": "#2a3f5f"
            },
            "error_y": {
             "color": "#2a3f5f"
            },
            "marker": {
             "line": {
              "color": "#E5ECF6",
              "width": 0.5
             },
             "pattern": {
              "fillmode": "overlay",
              "size": 10,
              "solidity": 0.2
             }
            },
            "type": "bar"
           }
          ],
          "barpolar": [
           {
            "marker": {
             "line": {
              "color": "#E5ECF6",
              "width": 0.5
             },
             "pattern": {
              "fillmode": "overlay",
              "size": 10,
              "solidity": 0.2
             }
            },
            "type": "barpolar"
           }
          ],
          "carpet": [
           {
            "aaxis": {
             "endlinecolor": "#2a3f5f",
             "gridcolor": "white",
             "linecolor": "white",
             "minorgridcolor": "white",
             "startlinecolor": "#2a3f5f"
            },
            "baxis": {
             "endlinecolor": "#2a3f5f",
             "gridcolor": "white",
             "linecolor": "white",
             "minorgridcolor": "white",
             "startlinecolor": "#2a3f5f"
            },
            "type": "carpet"
           }
          ],
          "choropleth": [
           {
            "colorbar": {
             "outlinewidth": 0,
             "ticks": ""
            },
            "type": "choropleth"
           }
          ],
          "contour": [
           {
            "colorbar": {
             "outlinewidth": 0,
             "ticks": ""
            },
            "colorscale": [
             [
              0,
              "#0d0887"
             ],
             [
              0.1111111111111111,
              "#46039f"
             ],
             [
              0.2222222222222222,
              "#7201a8"
             ],
             [
              0.3333333333333333,
              "#9c179e"
             ],
             [
              0.4444444444444444,
              "#bd3786"
             ],
             [
              0.5555555555555556,
              "#d8576b"
             ],
             [
              0.6666666666666666,
              "#ed7953"
             ],
             [
              0.7777777777777778,
              "#fb9f3a"
             ],
             [
              0.8888888888888888,
              "#fdca26"
             ],
             [
              1,
              "#f0f921"
             ]
            ],
            "type": "contour"
           }
          ],
          "contourcarpet": [
           {
            "colorbar": {
             "outlinewidth": 0,
             "ticks": ""
            },
            "type": "contourcarpet"
           }
          ],
          "heatmap": [
           {
            "colorbar": {
             "outlinewidth": 0,
             "ticks": ""
            },
            "colorscale": [
             [
              0,
              "#0d0887"
             ],
             [
              0.1111111111111111,
              "#46039f"
             ],
             [
              0.2222222222222222,
              "#7201a8"
             ],
             [
              0.3333333333333333,
              "#9c179e"
             ],
             [
              0.4444444444444444,
              "#bd3786"
             ],
             [
              0.5555555555555556,
              "#d8576b"
             ],
             [
              0.6666666666666666,
              "#ed7953"
             ],
             [
              0.7777777777777778,
              "#fb9f3a"
             ],
             [
              0.8888888888888888,
              "#fdca26"
             ],
             [
              1,
              "#f0f921"
             ]
            ],
            "type": "heatmap"
           }
          ],
          "histogram": [
           {
            "marker": {
             "pattern": {
              "fillmode": "overlay",
              "size": 10,
              "solidity": 0.2
             }
            },
            "type": "histogram"
           }
          ],
          "histogram2d": [
           {
            "colorbar": {
             "outlinewidth": 0,
             "ticks": ""
            },
            "colorscale": [
             [
              0,
              "#0d0887"
             ],
             [
              0.1111111111111111,
              "#46039f"
             ],
             [
              0.2222222222222222,
              "#7201a8"
             ],
             [
              0.3333333333333333,
              "#9c179e"
             ],
             [
              0.4444444444444444,
              "#bd3786"
             ],
             [
              0.5555555555555556,
              "#d8576b"
             ],
             [
              0.6666666666666666,
              "#ed7953"
             ],
             [
              0.7777777777777778,
              "#fb9f3a"
             ],
             [
              0.8888888888888888,
              "#fdca26"
             ],
             [
              1,
              "#f0f921"
             ]
            ],
            "type": "histogram2d"
           }
          ],
          "histogram2dcontour": [
           {
            "colorbar": {
             "outlinewidth": 0,
             "ticks": ""
            },
            "colorscale": [
             [
              0,
              "#0d0887"
             ],
             [
              0.1111111111111111,
              "#46039f"
             ],
             [
              0.2222222222222222,
              "#7201a8"
             ],
             [
              0.3333333333333333,
              "#9c179e"
             ],
             [
              0.4444444444444444,
              "#bd3786"
             ],
             [
              0.5555555555555556,
              "#d8576b"
             ],
             [
              0.6666666666666666,
              "#ed7953"
             ],
             [
              0.7777777777777778,
              "#fb9f3a"
             ],
             [
              0.8888888888888888,
              "#fdca26"
             ],
             [
              1,
              "#f0f921"
             ]
            ],
            "type": "histogram2dcontour"
           }
          ],
          "mesh3d": [
           {
            "colorbar": {
             "outlinewidth": 0,
             "ticks": ""
            },
            "type": "mesh3d"
           }
          ],
          "parcoords": [
           {
            "line": {
             "colorbar": {
              "outlinewidth": 0,
              "ticks": ""
             }
            },
            "type": "parcoords"
           }
          ],
          "pie": [
           {
            "automargin": true,
            "type": "pie"
           }
          ],
          "scatter": [
           {
            "fillpattern": {
             "fillmode": "overlay",
             "size": 10,
             "solidity": 0.2
            },
            "type": "scatter"
           }
          ],
          "scatter3d": [
           {
            "line": {
             "colorbar": {
              "outlinewidth": 0,
              "ticks": ""
             }
            },
            "marker": {
             "colorbar": {
              "outlinewidth": 0,
              "ticks": ""
             }
            },
            "type": "scatter3d"
           }
          ],
          "scattercarpet": [
           {
            "marker": {
             "colorbar": {
              "outlinewidth": 0,
              "ticks": ""
             }
            },
            "type": "scattercarpet"
           }
          ],
          "scattergeo": [
           {
            "marker": {
             "colorbar": {
              "outlinewidth": 0,
              "ticks": ""
             }
            },
            "type": "scattergeo"
           }
          ],
          "scattergl": [
           {
            "marker": {
             "colorbar": {
              "outlinewidth": 0,
              "ticks": ""
             }
            },
            "type": "scattergl"
           }
          ],
          "scattermap": [
           {
            "marker": {
             "colorbar": {
              "outlinewidth": 0,
              "ticks": ""
             }
            },
            "type": "scattermap"
           }
          ],
          "scattermapbox": [
           {
            "marker": {
             "colorbar": {
              "outlinewidth": 0,
              "ticks": ""
             }
            },
            "type": "scattermapbox"
           }
          ],
          "scatterpolar": [
           {
            "marker": {
             "colorbar": {
              "outlinewidth": 0,
              "ticks": ""
             }
            },
            "type": "scatterpolar"
           }
          ],
          "scatterpolargl": [
           {
            "marker": {
             "colorbar": {
              "outlinewidth": 0,
              "ticks": ""
             }
            },
            "type": "scatterpolargl"
           }
          ],
          "scatterternary": [
           {
            "marker": {
             "colorbar": {
              "outlinewidth": 0,
              "ticks": ""
             }
            },
            "type": "scatterternary"
           }
          ],
          "surface": [
           {
            "colorbar": {
             "outlinewidth": 0,
             "ticks": ""
            },
            "colorscale": [
             [
              0,
              "#0d0887"
             ],
             [
              0.1111111111111111,
              "#46039f"
             ],
             [
              0.2222222222222222,
              "#7201a8"
             ],
             [
              0.3333333333333333,
              "#9c179e"
             ],
             [
              0.4444444444444444,
              "#bd3786"
             ],
             [
              0.5555555555555556,
              "#d8576b"
             ],
             [
              0.6666666666666666,
              "#ed7953"
             ],
             [
              0.7777777777777778,
              "#fb9f3a"
             ],
             [
              0.8888888888888888,
              "#fdca26"
             ],
             [
              1,
              "#f0f921"
             ]
            ],
            "type": "surface"
           }
          ],
          "table": [
           {
            "cells": {
             "fill": {
              "color": "#EBF0F8"
             },
             "line": {
              "color": "white"
             }
            },
            "header": {
             "fill": {
              "color": "#C8D4E3"
             },
             "line": {
              "color": "white"
             }
            },
            "type": "table"
           }
          ]
         },
         "layout": {
          "annotationdefaults": {
           "arrowcolor": "#2a3f5f",
           "arrowhead": 0,
           "arrowwidth": 1
          },
          "autotypenumbers": "strict",
          "coloraxis": {
           "colorbar": {
            "outlinewidth": 0,
            "ticks": ""
           }
          },
          "colorscale": {
           "diverging": [
            [
             0,
             "#8e0152"
            ],
            [
             0.1,
             "#c51b7d"
            ],
            [
             0.2,
             "#de77ae"
            ],
            [
             0.3,
             "#f1b6da"
            ],
            [
             0.4,
             "#fde0ef"
            ],
            [
             0.5,
             "#f7f7f7"
            ],
            [
             0.6,
             "#e6f5d0"
            ],
            [
             0.7,
             "#b8e186"
            ],
            [
             0.8,
             "#7fbc41"
            ],
            [
             0.9,
             "#4d9221"
            ],
            [
             1,
             "#276419"
            ]
           ],
           "sequential": [
            [
             0,
             "#0d0887"
            ],
            [
             0.1111111111111111,
             "#46039f"
            ],
            [
             0.2222222222222222,
             "#7201a8"
            ],
            [
             0.3333333333333333,
             "#9c179e"
            ],
            [
             0.4444444444444444,
             "#bd3786"
            ],
            [
             0.5555555555555556,
             "#d8576b"
            ],
            [
             0.6666666666666666,
             "#ed7953"
            ],
            [
             0.7777777777777778,
             "#fb9f3a"
            ],
            [
             0.8888888888888888,
             "#fdca26"
            ],
            [
             1,
             "#f0f921"
            ]
           ],
           "sequentialminus": [
            [
             0,
             "#0d0887"
            ],
            [
             0.1111111111111111,
             "#46039f"
            ],
            [
             0.2222222222222222,
             "#7201a8"
            ],
            [
             0.3333333333333333,
             "#9c179e"
            ],
            [
             0.4444444444444444,
             "#bd3786"
            ],
            [
             0.5555555555555556,
             "#d8576b"
            ],
            [
             0.6666666666666666,
             "#ed7953"
            ],
            [
             0.7777777777777778,
             "#fb9f3a"
            ],
            [
             0.8888888888888888,
             "#fdca26"
            ],
            [
             1,
             "#f0f921"
            ]
           ]
          },
          "colorway": [
           "#636efa",
           "#EF553B",
           "#00cc96",
           "#ab63fa",
           "#FFA15A",
           "#19d3f3",
           "#FF6692",
           "#B6E880",
           "#FF97FF",
           "#FECB52"
          ],
          "font": {
           "color": "#2a3f5f"
          },
          "geo": {
           "bgcolor": "white",
           "lakecolor": "white",
           "landcolor": "#E5ECF6",
           "showlakes": true,
           "showland": true,
           "subunitcolor": "white"
          },
          "hoverlabel": {
           "align": "left"
          },
          "hovermode": "closest",
          "mapbox": {
           "style": "light"
          },
          "paper_bgcolor": "white",
          "plot_bgcolor": "#E5ECF6",
          "polar": {
           "angularaxis": {
            "gridcolor": "white",
            "linecolor": "white",
            "ticks": ""
           },
           "bgcolor": "#E5ECF6",
           "radialaxis": {
            "gridcolor": "white",
            "linecolor": "white",
            "ticks": ""
           }
          },
          "scene": {
           "xaxis": {
            "backgroundcolor": "#E5ECF6",
            "gridcolor": "white",
            "gridwidth": 2,
            "linecolor": "white",
            "showbackground": true,
            "ticks": "",
            "zerolinecolor": "white"
           },
           "yaxis": {
            "backgroundcolor": "#E5ECF6",
            "gridcolor": "white",
            "gridwidth": 2,
            "linecolor": "white",
            "showbackground": true,
            "ticks": "",
            "zerolinecolor": "white"
           },
           "zaxis": {
            "backgroundcolor": "#E5ECF6",
            "gridcolor": "white",
            "gridwidth": 2,
            "linecolor": "white",
            "showbackground": true,
            "ticks": "",
            "zerolinecolor": "white"
           }
          },
          "shapedefaults": {
           "line": {
            "color": "#2a3f5f"
           }
          },
          "ternary": {
           "aaxis": {
            "gridcolor": "white",
            "linecolor": "white",
            "ticks": ""
           },
           "baxis": {
            "gridcolor": "white",
            "linecolor": "white",
            "ticks": ""
           },
           "bgcolor": "#E5ECF6",
           "caxis": {
            "gridcolor": "white",
            "linecolor": "white",
            "ticks": ""
           }
          },
          "title": {
           "x": 0.05
          },
          "xaxis": {
           "automargin": true,
           "gridcolor": "white",
           "linecolor": "white",
           "ticks": "",
           "title": {
            "standoff": 15
           },
           "zerolinecolor": "white",
           "zerolinewidth": 2
          },
          "yaxis": {
           "automargin": true,
           "gridcolor": "white",
           "linecolor": "white",
           "ticks": "",
           "title": {
            "standoff": 15
           },
           "zerolinecolor": "white",
           "zerolinewidth": 2
          }
         }
        },
        "title": {
         "text": "Boxplots of numeric features"
        },
        "width": 1000,
        "xaxis": {
         "anchor": "y",
         "domain": [
          0,
          0.2888888888888889
         ]
        },
        "xaxis10": {
         "anchor": "y10",
         "domain": [
          0,
          0.2888888888888889
         ]
        },
        "xaxis11": {
         "anchor": "y11",
         "domain": [
          0.35555555555555557,
          0.6444444444444445
         ]
        },
        "xaxis12": {
         "anchor": "y12",
         "domain": [
          0.7111111111111111,
          1
         ]
        },
        "xaxis13": {
         "anchor": "y13",
         "domain": [
          0,
          0.2888888888888889
         ]
        },
        "xaxis14": {
         "anchor": "y14",
         "domain": [
          0.35555555555555557,
          0.6444444444444445
         ]
        },
        "xaxis15": {
         "anchor": "y15",
         "domain": [
          0.7111111111111111,
          1
         ]
        },
        "xaxis2": {
         "anchor": "y2",
         "domain": [
          0.35555555555555557,
          0.6444444444444445
         ]
        },
        "xaxis3": {
         "anchor": "y3",
         "domain": [
          0.7111111111111111,
          1
         ]
        },
        "xaxis4": {
         "anchor": "y4",
         "domain": [
          0,
          0.2888888888888889
         ]
        },
        "xaxis5": {
         "anchor": "y5",
         "domain": [
          0.35555555555555557,
          0.6444444444444445
         ]
        },
        "xaxis6": {
         "anchor": "y6",
         "domain": [
          0.7111111111111111,
          1
         ]
        },
        "xaxis7": {
         "anchor": "y7",
         "domain": [
          0,
          0.2888888888888889
         ]
        },
        "xaxis8": {
         "anchor": "y8",
         "domain": [
          0.35555555555555557,
          0.6444444444444445
         ]
        },
        "xaxis9": {
         "anchor": "y9",
         "domain": [
          0.7111111111111111,
          1
         ]
        },
        "yaxis": {
         "anchor": "x",
         "domain": [
          0.88,
          1
         ]
        },
        "yaxis10": {
         "anchor": "x10",
         "domain": [
          0.22,
          0.33999999999999997
         ]
        },
        "yaxis11": {
         "anchor": "x11",
         "domain": [
          0.22,
          0.33999999999999997
         ]
        },
        "yaxis12": {
         "anchor": "x12",
         "domain": [
          0.22,
          0.33999999999999997
         ]
        },
        "yaxis13": {
         "anchor": "x13",
         "domain": [
          0,
          0.12
         ]
        },
        "yaxis14": {
         "anchor": "x14",
         "domain": [
          0,
          0.12
         ]
        },
        "yaxis15": {
         "anchor": "x15",
         "domain": [
          0,
          0.12
         ]
        },
        "yaxis2": {
         "anchor": "x2",
         "domain": [
          0.88,
          1
         ]
        },
        "yaxis3": {
         "anchor": "x3",
         "domain": [
          0.88,
          1
         ]
        },
        "yaxis4": {
         "anchor": "x4",
         "domain": [
          0.66,
          0.78
         ]
        },
        "yaxis5": {
         "anchor": "x5",
         "domain": [
          0.66,
          0.78
         ]
        },
        "yaxis6": {
         "anchor": "x6",
         "domain": [
          0.66,
          0.78
         ]
        },
        "yaxis7": {
         "anchor": "x7",
         "domain": [
          0.44,
          0.56
         ]
        },
        "yaxis8": {
         "anchor": "x8",
         "domain": [
          0.44,
          0.56
         ]
        },
        "yaxis9": {
         "anchor": "x9",
         "domain": [
          0.44,
          0.56
         ]
        }
       }
      }
     },
     "metadata": {},
     "output_type": "display_data"
    }
   ],
   "source": [
    "plots_per_row = 3\n",
    "num_plots = len(numeric_cols)\n",
    "num_rows = (num_plots + plots_per_row - 1) // plots_per_row\n",
    "\n",
    "fig = make_subplots(rows=num_rows, cols=plots_per_row, subplot_titles=numeric_cols)\n",
    "\n",
    "for i, col in enumerate(numeric_cols):\n",
    "    row = i // plots_per_row + 1\n",
    "    col_pos = i % plots_per_row + 1\n",
    "\n",
    "    fig.add_trace(\n",
    "        go.Box(\n",
    "            y=df_asd[col],\n",
    "            name=col,\n",
    "            boxpoints=False\n",
    "        ),\n",
    "        row=row,\n",
    "        col=col_pos\n",
    "    )\n",
    "\n",
    "fig.update_layout(\n",
    "    height=300 * num_rows,\n",
    "    width=1000,\n",
    "    title_text=\"Boxplots of numeric features\",\n",
    "    showlegend=False\n",
    ")\n",
    "\n",
    "fig.show()"
   ]
  },
  {
   "cell_type": "code",
   "execution_count": 76,
   "id": "8f9dfd0c",
   "metadata": {},
   "outputs": [],
   "source": [
    "import pandas as pd\n",
    "import plotly.express as px\n",
    "import seaborn as sns\n",
    "import matplotlib.pyplot as plt"
   ]
  },
  {
   "cell_type": "code",
   "execution_count": 77,
   "id": "57a5ffdd",
   "metadata": {},
   "outputs": [
    {
     "data": {
      "image/png": "[encoded data removed]",
      "text/plain": [
       "<Figure size 3057.75x3000 with 90 Axes>"
      ]
     },
     "metadata": {},
     "output_type": "display_data"
    }
   ],
   "source": [
    "# 1. Pairwise relationships (pairplot with KDE on diagonals)\n",
    "sns.set_style(\"whitegrid\")\n",
    "pairplot_sample = df_asd.sample(min(len(df_asd), 500), random_state=42)\n",
    "plot = sns.pairplot(\n",
    "    pairplot_sample,\n",
    "    hue=\"class\",             # color by class\n",
    "    diag_kind=\"kde\",             # show KDE on the diagonal\n",
    "    corner=True,                 # only lower triangle\n",
    "    plot_kws={\"alpha\": 0.6, \"s\": 40},\n",
    "    diag_kws={\"fill\": True}      # change 'shade' to 'fill'\n",
    ")\n",
    "plot.figure.suptitle(\"Pairwise Relationships of Continuous Features\", y=1.02)\n",
    "plt.show()\n"
   ]
  }
 ],
 "metadata": {
  "kernelspec": {
   "display_name": ".venv",
   "language": "python",
   "name": "python3"
  },
  "language_info": {
   "codemirror_mode": {
    "name": "ipython",
    "version": 3
   },
   "file_extension": ".py",
   "mimetype": "text/x-python",
   "name": "python",
   "nbconvert_exporter": "python",
   "pygments_lexer": "ipython3",
   "version": "3.10.15"
  }
 },
 "nbformat": 4,
 "nbformat_minor": 5
}
